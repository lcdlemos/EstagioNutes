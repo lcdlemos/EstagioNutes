{
 "cells": [
  {
   "cell_type": "code",
   "execution_count": 1,
   "id": "d971f903-3170-4dcb-ae53-4ed56eafa08f",
   "metadata": {},
   "outputs": [],
   "source": [
    "from pptx import Presentation"
   ]
  },
  {
   "cell_type": "code",
   "execution_count": 2,
   "id": "bede88ea-4c54-4077-b1d2-f2f3390f8294",
   "metadata": {},
   "outputs": [],
   "source": [
    "# create ppt presentation to add slides\n",
    "pr1 = Presentation()"
   ]
  },
  {
   "cell_type": "code",
   "execution_count": 3,
   "id": "13660927-41a0-4993-8183-96e51d64d415",
   "metadata": {},
   "outputs": [],
   "source": [
    "# referes to layouts of each slide\n",
    "# 0 = title slide; 1 = title and content; 3 = section header...\n",
    "slide1_register = pr1.slide_layouts[0]"
   ]
  },
  {
   "cell_type": "code",
   "execution_count": 4,
   "id": "154a80ed-490d-48eb-ab0c-3cb6136a7964",
   "metadata": {},
   "outputs": [],
   "source": [
    "# add initial slide to presentation\n",
    "slide1 = pr1.slides.add_slide(slide1_register)"
   ]
  },
  {
   "cell_type": "code",
   "execution_count": 5,
   "id": "9c2ed26d-d6b8-4319-bf60-794ea3c1d597",
   "metadata": {},
   "outputs": [],
   "source": [
    "# main top placeholder\n",
    "title1 = slide1.shapes.title\n",
    "# placeholder = item in layout\n",
    "subtitle1 = slide1.placeholders[1]"
   ]
  },
  {
   "cell_type": "code",
   "execution_count": 6,
   "id": "f591f6c3-58ec-49e1-bf76-d53b9237bdfe",
   "metadata": {},
   "outputs": [],
   "source": [
    "# insert text\n",
    "title1.text = \"CRIAÇÃO DE SLIDES USANDO AUTOMATIZADOR\"\n",
    "subtitle1.text = \"Luiz Carlos de Lemos\""
   ]
  },
  {
   "cell_type": "code",
   "execution_count": 7,
   "id": "10f18f61-2aaa-4adb-90ad-ee76ce8216ce",
   "metadata": {},
   "outputs": [],
   "source": [
    "# add more slides - bullet points and a picture"
   ]
  },
  {
   "cell_type": "code",
   "execution_count": 8,
   "id": "06134e90-e77d-49c2-8a1c-aead06ce4794",
   "metadata": {},
   "outputs": [],
   "source": [
    "# slide 2\n",
    "# create bullet point slide\n",
    "slide2_register = pr1.slide_layouts[1]\n",
    "slide2 = pr1.slides.add_slide(slide2_register)"
   ]
  },
  {
   "cell_type": "code",
   "execution_count": 9,
   "id": "a2f6d019-3173-478a-baa6-79acbdd60431",
   "metadata": {},
   "outputs": [],
   "source": [
    "# edit bullet points\n",
    "title2 = slide2.shapes.title\n",
    "title2.text  = \"Testar Alguns Tópicos\""
   ]
  },
  {
   "cell_type": "code",
   "execution_count": 10,
   "id": "66778c50-233c-4ef8-b8c4-4af8481e7855",
   "metadata": {},
   "outputs": [],
   "source": [
    "bullet_point_box = slide2.shapes"
   ]
  },
  {
   "cell_type": "code",
   "execution_count": 11,
   "id": "4432b36f-3364-4c90-ac5d-8042e746c75a",
   "metadata": {},
   "outputs": [],
   "source": [
    "bullet_points_lvl1 = bullet_point_box.placeholders[1]\n",
    "bullet_points_lvl1.text = \"Nível 0\""
   ]
  },
  {
   "cell_type": "code",
   "execution_count": 12,
   "id": "a7de097d-7b42-4bff-b161-7f0749756d43",
   "metadata": {},
   "outputs": [],
   "source": [
    "bullet_points_lvl2 = bullet_points_lvl1.text_frame.add_paragraph()\n",
    "bullet_points_lvl2.text = \"Nível 1\"\n",
    "bullet_points_lvl2.level = 1"
   ]
  },
  {
   "cell_type": "code",
   "execution_count": 13,
   "id": "56f7d5bb-ea45-4f4a-80f7-bae789de0348",
   "metadata": {},
   "outputs": [],
   "source": [
    "bullet_points_lvl2 = bullet_points_lvl1.text_frame.add_paragraph()\n",
    "bullet_points_lvl2.text = \"Nível 2\"\n",
    "bullet_points_lvl2.level = 2"
   ]
  },
  {
   "cell_type": "code",
   "execution_count": 14,
   "id": "9361e0df-6692-4158-a680-a3e843ae66d2",
   "metadata": {},
   "outputs": [],
   "source": [
    "bullet_points_lvl2 = bullet_points_lvl1.text_frame.add_paragraph()\n",
    "bullet_points_lvl2.text = \"Nível 3\"\n",
    "bullet_points_lvl2.level = 3"
   ]
  },
  {
   "cell_type": "code",
   "execution_count": 15,
   "id": "a1ef3bc7-cf43-477d-8fc5-5b471b005f77",
   "metadata": {},
   "outputs": [],
   "source": [
    "# for pictures\n",
    "from pptx.util import Inches"
   ]
  },
  {
   "cell_type": "code",
   "execution_count": 16,
   "id": "0759dfc7-22e2-4700-babb-0292149e80e9",
   "metadata": {},
   "outputs": [],
   "source": [
    "# slide 3\n",
    "# create bullet point and picture slide\n",
    "slide3_register = pr1.slide_layouts[5]\n",
    "slide3 = pr1.slides.add_slide(slide3_register)"
   ]
  },
  {
   "cell_type": "code",
   "execution_count": 17,
   "id": "77295620-2191-4176-88a4-cb810cc49915",
   "metadata": {},
   "outputs": [],
   "source": [
    "# edit bullet point and picture slide\n",
    "title3 = slide3.shapes.title\n",
    "title3.text = \"Incluir Uma Figura\""
   ]
  },
  {
   "cell_type": "code",
   "execution_count": 18,
   "id": "f64fea63-cdd7-4982-8a6e-4c08163ae270",
   "metadata": {},
   "outputs": [],
   "source": [
    "import os\n",
    "arquivo = r\"C:\\Users\\Luiz Carlos\\Documents\\UEPB\\Estágio\\Criação\\presentation.jpg\"\n",
    "if os.path.isfile(arquivo):\n",
    "    # add image\n",
    "    img1 = \"presentation.jpg\"\n",
    "\n",
    "    from_left = Inches(3)\n",
    "    from_top = Inches(2)\n",
    "    add_picture = slide3.shapes.add_picture(img1, from_left, from_top)\n",
    "else:\n",
    "    # edit bullet point and picture slide\n",
    "    title3 = slide3.shapes.title\n",
    "    title3.text = \"Não Há Nenhuma Figura! :(\""
   ]
  },
  {
   "cell_type": "code",
   "execution_count": 19,
   "id": "4dac99f5-6ed3-497e-ba0a-15090e854095",
   "metadata": {},
   "outputs": [],
   "source": [
    "# for autoshapes\n",
    "from pptx.enum.shapes import MSO_SHAPE\n",
    "from pptx.enum.dml import MSO_THEME_COLOR"
   ]
  },
  {
   "cell_type": "code",
   "execution_count": 20,
   "id": "8247f8f7-4096-4077-b716-47cfd488c7bd",
   "metadata": {},
   "outputs": [],
   "source": [
    "# slide 4\n",
    "# register/create slide\n",
    "slide4_register = pr1.slide_layouts[5]\n",
    "slide4 = pr1.slides.add_slide(slide4_register)"
   ]
  },
  {
   "cell_type": "code",
   "execution_count": 21,
   "id": "8866e7c6-0bf3-4511-8523-807f9724c8e8",
   "metadata": {},
   "outputs": [],
   "source": [
    "# slide 4 title\n",
    "title4 = slide4.shapes.title\n",
    "title4.text = \"Formatos e Formas\""
   ]
  },
  {
   "cell_type": "code",
   "execution_count": 22,
   "id": "516142df-db1a-4192-be26-eb7e42321f9d",
   "metadata": {},
   "outputs": [],
   "source": [
    "# create shapes\n",
    "# shape 1\n",
    "left1 = top1 = width1 = height1 = Inches(2)\n",
    "add_shape1 = slide4.shapes.add_shape(MSO_SHAPE.ROUNDED_RECTANGLE, left1, top1, width1, height1)"
   ]
  },
  {
   "cell_type": "code",
   "execution_count": 23,
   "id": "f0b6a89f-6b7c-4a63-8131-2c8cf7e9691d",
   "metadata": {},
   "outputs": [],
   "source": [
    "# shape 2\n",
    "left2 = Inches(6)\n",
    "top2 = Inches(2)\n",
    "width2 = height2 = Inches(2)\n",
    "arrow1 = slide4.shapes.add_shape(MSO_SHAPE.DOWN_ARROW, left2, top2, width2, height2)"
   ]
  },
  {
   "cell_type": "code",
   "execution_count": 24,
   "id": "f2bfd589-fa7c-4777-91d3-e1c6a170cc90",
   "metadata": {},
   "outputs": [],
   "source": [
    "# change arrow main color\n",
    "fill_arrow1 = arrow1.fill\n",
    "fill_arrow1.solid()\n",
    "fill_arrow1.fore_color.theme_color = MSO_THEME_COLOR.ACCENT_2"
   ]
  },
  {
   "cell_type": "code",
   "execution_count": 25,
   "id": "8206eae1-83da-4580-89dd-8900b96d8560",
   "metadata": {},
   "outputs": [],
   "source": [
    "# rotate shape\n",
    "arrow1.rotation = 90"
   ]
  },
  {
   "cell_type": "code",
   "execution_count": 26,
   "id": "176807c9-f542-4376-be22-da40f670f6bb",
   "metadata": {},
   "outputs": [],
   "source": [
    "# for graphs\n",
    "from pptx.chart.data import CategoryChartData\n",
    "from pptx.enum.chart import XL_CHART_TYPE\n",
    "from pptx.enum.chart import XL_TICK_MARK\n",
    "from pptx.util import Pt"
   ]
  },
  {
   "cell_type": "code",
   "execution_count": 27,
   "id": "a0d13956-20cb-4a5c-9019-4ee253910517",
   "metadata": {},
   "outputs": [],
   "source": [
    "# slide 5\n",
    "# register/create slide\n",
    "slide5_register = pr1.slide_layouts[5]\n",
    "slide5 = pr1.slides.add_slide(slide5_register)"
   ]
  },
  {
   "cell_type": "code",
   "execution_count": 28,
   "id": "e66aaa56-0705-4ff2-b403-aa7298e64d14",
   "metadata": {},
   "outputs": [],
   "source": [
    "# slide 4 title\n",
    "title5 = slide5.shapes.title\n",
    "title5.text = \"Gráficos\""
   ]
  },
  {
   "cell_type": "code",
   "execution_count": 29,
   "id": "3f4c55bd-12e8-4278-a783-f0fc6b58ea34",
   "metadata": {},
   "outputs": [
    {
     "data": {
      "text/plain": [
       "<pptx.chart.data.CategorySeriesData at 0x20c76e58ee0>"
      ]
     },
     "execution_count": 29,
     "metadata": {},
     "output_type": "execute_result"
    }
   ],
   "source": [
    "# build graph\n",
    "graph_info = CategoryChartData()\n",
    "graph_info.categories = [\"Banana\", \"Laranja\", \"Uva\"]\n",
    "graph_info.add_series(\"Produção (t)\", (15, 11, 18))"
   ]
  },
  {
   "cell_type": "code",
   "execution_count": 30,
   "id": "e878d91d-66a0-4e12-8673-8d98df86bbd0",
   "metadata": {},
   "outputs": [],
   "source": [
    "# add graph to slide with positioning\n",
    "left_graph = Inches(2)\n",
    "top_graph = Inches(2)\n",
    "width_graph = Inches(6)\n",
    "height_graph = Inches(4)\n",
    "graph1_frame = slide5.shapes.add_chart(XL_CHART_TYPE.COLUMN_CLUSTERED, left_graph, top_graph, width_graph, height_graph, graph_info)"
   ]
  },
  {
   "cell_type": "code",
   "execution_count": 31,
   "id": "fafdfa6e-e309-4770-b9da-41616d1bd267",
   "metadata": {},
   "outputs": [],
   "source": [
    "graph1 = graph1_frame.chart"
   ]
  },
  {
   "cell_type": "code",
   "execution_count": 32,
   "id": "c9d1e071-8540-41ef-ab53-fce63bc490e4",
   "metadata": {},
   "outputs": [],
   "source": [
    "# edit graph\n",
    "category_axis =  graph1.category_axis\n",
    "category_axis.has_major_gridlines = True\n",
    "category_axis.minor_tick_mark = XL_TICK_MARK.OUTSIDE\n",
    "category_axis.tick_labels.font.italic = True\n",
    "category_axis.tick_labels.font.italic = True"
   ]
  },
  {
   "cell_type": "code",
   "execution_count": 33,
   "id": "b7a47d32-1fc8-4b26-bd71-71f9b4b3cfd3",
   "metadata": {},
   "outputs": [],
   "source": [
    "# parte 5 - table\n",
    "# slide 6\n",
    "# register/create slide\n",
    "slide6_register = pr1.slide_layouts[5]\n",
    "slide6 = pr1.slides.add_slide(slide6_register)"
   ]
  },
  {
   "cell_type": "code",
   "execution_count": 34,
   "id": "689aa9a8-b5c7-4cf7-a700-7e048e7155fa",
   "metadata": {},
   "outputs": [],
   "source": [
    "# slide 4 title\n",
    "title6 = slide6.shapes.title\n",
    "title6.text = \"Tabela\""
   ]
  },
  {
   "cell_type": "code",
   "execution_count": 35,
   "id": "bfe1daf1-e51e-441e-ac6f-27f4332151b1",
   "metadata": {},
   "outputs": [],
   "source": [
    "# add table to slide\n",
    "left_table = Inches(1)\n",
    "top_table = Inches(2)\n",
    "width_table = Inches(8)\n",
    "height_table = Inches(3)\n",
    "row_table = 3\n",
    "column_table = 4\n",
    "table1_frame = slide6.shapes.add_table(row_table, column_table, left_table, top_table, width_table, height_table)"
   ]
  },
  {
   "cell_type": "code",
   "execution_count": 36,
   "id": "cecc9d6c-e4b0-4f43-8897-d503299c34bf",
   "metadata": {},
   "outputs": [],
   "source": [
    "# populating a table\n",
    "table1 = table1_frame.table\n",
    "cell = table1.cell(0,0)\n",
    "cell.text = \"Aluno\""
   ]
  },
  {
   "cell_type": "code",
   "execution_count": 37,
   "id": "6a968a23-2b69-4b70-9d88-ce3f265acf0e",
   "metadata": {},
   "outputs": [],
   "source": [
    "cell = table1.cell(1,0)\n",
    "cell.text = \"José Maria\""
   ]
  },
  {
   "cell_type": "code",
   "execution_count": 38,
   "id": "cb0f03ea-f1ad-46d6-b18e-cdd9e1711365",
   "metadata": {},
   "outputs": [],
   "source": [
    "cell = table1.cell(0,1)\n",
    "cell.text = \"Nota\""
   ]
  },
  {
   "cell_type": "code",
   "execution_count": 39,
   "id": "3f081b67-d2a1-44f1-a4fe-01d72341b322",
   "metadata": {},
   "outputs": [],
   "source": [
    "cell = table1.cell(1,1)\n",
    "cell.text = \"8.7\""
   ]
  },
  {
   "cell_type": "code",
   "execution_count": 40,
   "id": "5395fa45-a366-4175-baef-642a21abc25c",
   "metadata": {},
   "outputs": [],
   "source": [
    "# parte 6 - hyperlinks\n",
    "# slide 7\n",
    "# register/create slide\n",
    "slide7_register = pr1.slide_layouts[0]\n",
    "slide7 = pr1.slides.add_slide(slide7_register)"
   ]
  },
  {
   "cell_type": "code",
   "execution_count": 41,
   "id": "536f0589-b2de-4c71-b923-5fa7c0c52648",
   "metadata": {},
   "outputs": [],
   "source": [
    "# slide 7 title\n",
    "title7 = slide7.shapes.title\n",
    "title7.text = \"Hyperlinks\""
   ]
  },
  {
   "cell_type": "code",
   "execution_count": 42,
   "id": "c0f9d098-e115-4507-9aa9-30a8bd8e1804",
   "metadata": {},
   "outputs": [],
   "source": [
    "# adding hyperlinks\n",
    "para1 = slide7.placeholders[1].text_frame.paragraphs[0]\n",
    "addrun1 = para1.add_run()\n",
    "addrun1.text = \"Google\"\n",
    "hlink1 = addrun1.hyperlink\n",
    "hlink1.address = \"http://www.google.com\""
   ]
  },
  {
   "cell_type": "code",
   "execution_count": 43,
   "id": "ecb877b8-a7e3-4831-ac38-d6b62123a299",
   "metadata": {},
   "outputs": [],
   "source": [
    "pr1.save(\"newpresentation.pptx\")"
   ]
  }
 ],
 "metadata": {
  "kernelspec": {
   "display_name": "Python 3 (ipykernel)",
   "language": "python",
   "name": "python3"
  },
  "language_info": {
   "codemirror_mode": {
    "name": "ipython",
    "version": 3
   },
   "file_extension": ".py",
   "mimetype": "text/x-python",
   "name": "python",
   "nbconvert_exporter": "python",
   "pygments_lexer": "ipython3",
   "version": "3.9.1"
  }
 },
 "nbformat": 4,
 "nbformat_minor": 5
}
