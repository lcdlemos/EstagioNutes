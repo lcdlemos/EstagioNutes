{
 "cells": [
  {
   "cell_type": "code",
   "execution_count": 1,
   "id": "b33e0801-bdf9-4c24-bcb8-ef1a0e4f280c",
   "metadata": {},
   "outputs": [],
   "source": [
    "# Importando Módulos\n",
    "from pptx import Presentation"
   ]
  },
  {
   "cell_type": "code",
   "execution_count": 2,
   "id": "1bed5232-18de-44bc-9767-f4bbbbbd1050",
   "metadata": {},
   "outputs": [],
   "source": [
    "# Criando Apresentação\n",
    "A = Presentation()"
   ]
  },
  {
   "cell_type": "code",
   "execution_count": 3,
   "id": "70a281a8-3dd8-4a7d-b4d0-6e71de1b11a2",
   "metadata": {},
   "outputs": [],
   "source": [
    "# Adicionando Primeiro Slide\n",
    "Layout = A.slide_layouts[0]\n",
    "first_slide = A.slides.add_slide(Layout)"
   ]
  },
  {
   "cell_type": "code",
   "execution_count": 4,
   "id": "33a86400-b6b6-4eed-a360-6b622b1c028d",
   "metadata": {},
   "outputs": [],
   "source": [
    "first_slide.shapes.title.text = \"Criando Um Slide Usando Python\"\n",
    "first_slide.placeholders[1].text = \"Teste da Prima Página\""
   ]
  },
  {
   "cell_type": "code",
   "execution_count": 5,
   "id": "675bfdb5-e85c-4506-9231-8c591ed840f7",
   "metadata": {},
   "outputs": [],
   "source": [
    "# Salvando Apresentação\n",
    "A.save(\"criacao_apresentacao.pptx\")"
   ]
  },
  {
   "cell_type": "code",
   "execution_count": 6,
   "id": "34f1dae0-da10-4a75-8485-24a829e93b30",
   "metadata": {},
   "outputs": [],
   "source": [
    "# Importando Métodos\n",
    "from pptx.util import Inches"
   ]
  },
  {
   "cell_type": "code",
   "execution_count": 7,
   "id": "4e6d823e-f84d-488c-afa3-4ea04e51353a",
   "metadata": {},
   "outputs": [],
   "source": [
    "# Criando Segundo Slide\n",
    "Second_Layout = A.slide_layouts[5]\n",
    "second_slide = A.slides.add_slide(Second_Layout)"
   ]
  },
  {
   "cell_type": "code",
   "execution_count": 8,
   "id": "3c1a7936-a7a2-4bed-ba7c-c0061d8ea4bc",
   "metadata": {},
   "outputs": [],
   "source": [
    "second_slide.shapes.title.text = \"Segundo Slide\""
   ]
  },
  {
   "cell_type": "code",
   "execution_count": 9,
   "id": "5f6cd940-3724-4480-8b33-5bd260bb0983",
   "metadata": {},
   "outputs": [],
   "source": [
    "# 3 pol da esquerda, 1.5 do topo, 3 de largura e 1 de altura\n",
    "# 1 polegada -> 2.54 cm\n",
    "textbox = second_slide.shapes.add_textbox(Inches(3), Inches(1.5),Inches(3), Inches(1))"
   ]
  },
  {
   "cell_type": "code",
   "execution_count": 10,
   "id": "b4a4d87b-bb75-4a19-a8eb-cc4e9000ef37",
   "metadata": {},
   "outputs": [],
   "source": [
    "# Caixa de Texto\n",
    "textframe = textbox.text_frame"
   ]
  },
  {
   "cell_type": "code",
   "execution_count": 11,
   "id": "464ec09d-4e05-4d28-9cd0-79337cd0e3d2",
   "metadata": {},
   "outputs": [],
   "source": [
    "# Adicionar Conteúdo\n",
    "paragrafo = textframe.add_paragraph()\n",
    "paragrafo.text = \"Este é o texto de um parágrafo do segundo slide!\""
   ]
  },
  {
   "cell_type": "code",
   "execution_count": 12,
   "id": "9f586f54-2610-4a45-ae06-cea04dffe077",
   "metadata": {},
   "outputs": [],
   "source": [
    "A.save(\"criacao_apresentacao.pptx\")"
   ]
  },
  {
   "cell_type": "code",
   "execution_count": null,
   "id": "9a504ca9-1b61-481e-8c24-c5aa2dff489b",
   "metadata": {},
   "outputs": [],
   "source": []
  }
 ],
 "metadata": {
  "kernelspec": {
   "display_name": "Python 3 (ipykernel)",
   "language": "python",
   "name": "python3"
  },
  "language_info": {
   "codemirror_mode": {
    "name": "ipython",
    "version": 3
   },
   "file_extension": ".py",
   "mimetype": "text/x-python",
   "name": "python",
   "nbconvert_exporter": "python",
   "pygments_lexer": "ipython3",
   "version": "3.9.1"
  }
 },
 "nbformat": 4,
 "nbformat_minor": 5
}
