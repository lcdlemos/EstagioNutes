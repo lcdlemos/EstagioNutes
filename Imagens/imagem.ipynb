{
 "cells": [
  {
   "cell_type": "code",
   "execution_count": 1,
   "id": "daabd6cd-0791-41d5-aee3-a75d4ae955b9",
   "metadata": {},
   "outputs": [],
   "source": [
    "# Importando as classes das bibliotecas\n",
    "from pptx import Presentation\n",
    "from PIL import Image\n",
    "from io import BytesIO"
   ]
  },
  {
   "cell_type": "code",
   "execution_count": 2,
   "id": "48aa2b4b-cec7-41c6-ad05-02016a6337dc",
   "metadata": {},
   "outputs": [],
   "source": [
    "# Carregando a apresentação\n",
    "A = Presentation(\"apresentacao_imagem.pptx\")"
   ]
  },
  {
   "cell_type": "code",
   "execution_count": 6,
   "id": "ea2b31d7-a928-462e-b5e8-e990357109a3",
   "metadata": {},
   "outputs": [],
   "source": [
    "# Percorrendo os slides e extraindo as imagens\n",
    "for slide in A.slides:\n",
    "    for shape in slide.shapes:\n",
    "        if shape.shape_type == 3:  # VErifica se é uma imagem [3 é o código para imagem]\n",
    "            image = shape.image\n",
    "            image_bytes = imagem.blob\n",
    "\n",
    "            # Convertendo image_bytes em um objeto de imagem Pillow\n",
    "            img = Image.open(BytesIO(image_bytes))\n",
    "            \n",
    "            # Salvando a imagem em um arquivo\n",
    "            img.save(\"imagem_extraida.png\")"
   ]
  },
  {
   "cell_type": "code",
   "execution_count": 7,
   "id": "e78712f4-b500-4fef-b271-f3d5bfbe9d33",
   "metadata": {},
   "outputs": [],
   "source": [
    "# Importing Image module from PIL package\n",
    "from PIL import Image  \n",
    "import PIL\n",
    "  \n",
    "# creating a image object (main image)  \n",
    "im1 = Image.open(r\"C:\\Users\\Luiz Carlos\\Documents\\UEPB\\Estágio\\Imagens\\flowers.jpg\")  \n",
    "  \n",
    "# save a image using extension \n",
    "im1 = im1.save(\"geeks.jpg\") "
   ]
  },
  {
   "cell_type": "code",
   "execution_count": null,
   "id": "7277f714-0bac-4672-a1a4-b63f2c543478",
   "metadata": {},
   "outputs": [],
   "source": []
  }
 ],
 "metadata": {
  "kernelspec": {
   "display_name": "Python 3 (ipykernel)",
   "language": "python",
   "name": "python3"
  },
  "language_info": {
   "codemirror_mode": {
    "name": "ipython",
    "version": 3
   },
   "file_extension": ".py",
   "mimetype": "text/x-python",
   "name": "python",
   "nbconvert_exporter": "python",
   "pygments_lexer": "ipython3",
   "version": "3.9.1"
  }
 },
 "nbformat": 4,
 "nbformat_minor": 5
}
