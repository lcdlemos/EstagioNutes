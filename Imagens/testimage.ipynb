{
 "cells": [
  {
   "cell_type": "code",
   "execution_count": 1,
   "id": "2ef9cad4-a459-4c90-ad9c-dfc083fdbb68",
   "metadata": {},
   "outputs": [],
   "source": [
    "import requests\n",
    "import json\n",
    "from idkey import id_key"
   ]
  },
  {
   "cell_type": "code",
   "execution_count": 2,
   "id": "9dbf0423-bd69-453a-a86b-b7488981f1b4",
   "metadata": {},
   "outputs": [],
   "source": [
    "busca = \"artificial neural network\""
   ]
  },
  {
   "cell_type": "code",
   "execution_count": 3,
   "id": "9dd50e73-ab1e-4da4-8206-55bae4259fd3",
   "metadata": {},
   "outputs": [],
   "source": [
    "requisicao = requests.get(f\"https://api.unsplash.com/search/photos?client_id={id_key}&query={busca}\")"
   ]
  },
  {
   "cell_type": "code",
   "execution_count": 4,
   "id": "957e9314-b323-49ad-9453-44a263473161",
   "metadata": {},
   "outputs": [
    {
     "name": "stdout",
     "output_type": "stream",
     "text": [
      "<Response [200]>\n"
     ]
    }
   ],
   "source": [
    "print(requisicao)"
   ]
  },
  {
   "cell_type": "code",
   "execution_count": 5,
   "id": "4ec76e90-cccf-4065-b967-4a0914b611a0",
   "metadata": {},
   "outputs": [],
   "source": [
    "# print(requisicao.text)"
   ]
  },
  {
   "cell_type": "code",
   "execution_count": 6,
   "id": "b5aa33d3-b94e-4db5-9077-f263e798dd94",
   "metadata": {},
   "outputs": [],
   "source": [
    "resposta = requisicao.json()"
   ]
  },
  {
   "cell_type": "code",
   "execution_count": 7,
   "id": "b1721f6b-906c-489c-9b84-8543d983b604",
   "metadata": {},
   "outputs": [],
   "source": [
    "url_image = resposta['results'][0]['urls']['small']"
   ]
  },
  {
   "cell_type": "code",
   "execution_count": 8,
   "id": "bd8d34f2-ac7f-4da3-b1e3-af03ebeab428",
   "metadata": {},
   "outputs": [],
   "source": [
    "import urllib.request\n",
    "from PIL import Image"
   ]
  },
  {
   "cell_type": "code",
   "execution_count": 9,
   "id": "537be5e0-8969-4aeb-80db-9488960d1ed5",
   "metadata": {},
   "outputs": [
    {
     "data": {
      "text/plain": [
       "('./imagem_url.jpeg', <http.client.HTTPMessage at 0x2222211d190>)"
      ]
     },
     "execution_count": 9,
     "metadata": {},
     "output_type": "execute_result"
    }
   ],
   "source": [
    "urllib.request.urlretrieve(url_image, \"./imagem_url.jpeg\")"
   ]
  },
  {
   "cell_type": "code",
   "execution_count": 10,
   "id": "ad5803a0-42e5-4603-aeea-370bbd0e599a",
   "metadata": {},
   "outputs": [],
   "source": [
    "img = Image.open(\"imagem_url.jpeg\")"
   ]
  },
  {
   "cell_type": "code",
   "execution_count": 11,
   "id": "8a6ee405-8a44-4a94-a2b3-4f69b69f746e",
   "metadata": {},
   "outputs": [],
   "source": [
    "img = img.resize((300, 200))"
   ]
  },
  {
   "cell_type": "code",
   "execution_count": 12,
   "id": "76013f8b-765c-4ebd-b3a4-7406a2a6a0d2",
   "metadata": {},
   "outputs": [],
   "source": [
    "img.save(\"imagem_url.jpeg\")"
   ]
  },
  {
   "cell_type": "code",
   "execution_count": 13,
   "id": "4a264914-2f27-4118-a3b7-419848edad9c",
   "metadata": {},
   "outputs": [],
   "source": [
    "img.show()"
   ]
  }
 ],
 "metadata": {
  "kernelspec": {
   "display_name": "Python 3 (ipykernel)",
   "language": "python",
   "name": "python3"
  },
  "language_info": {
   "codemirror_mode": {
    "name": "ipython",
    "version": 3
   },
   "file_extension": ".py",
   "mimetype": "text/x-python",
   "name": "python",
   "nbconvert_exporter": "python",
   "pygments_lexer": "ipython3",
   "version": "3.9.1"
  }
 },
 "nbformat": 4,
 "nbformat_minor": 5
}
