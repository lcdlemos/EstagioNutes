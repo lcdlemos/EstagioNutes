{
 "cells": [
  {
   "cell_type": "markdown",
   "id": "f609bfdf-8692-4b9b-a7c9-dd1dc2234b84",
   "metadata": {},
   "source": [
    "# Lendo o arquivo de texto com roteiro"
   ]
  },
  {
   "cell_type": "code",
   "execution_count": 1,
   "id": "3e5fb954-9831-4682-a097-ca024b24a1aa",
   "metadata": {},
   "outputs": [
    {
     "name": "stdout",
     "output_type": "stream",
     "text": [
      "Slide 1: Capa\n",
      "- Título: Introdução à Inteligência Artificial\n",
      "- Fundo: Imagem representativa da IA\n",
      "\n",
      "Slide 2:\n",
      "- Título: O que é Inteligência Artificial?\n",
      "- Breve descrição da IA\n",
      "- Exemplos de aplicações da IA (assistente virtual, carros autônomos, reconhecimento facial, etc.)\n",
      "- Citação sobre a importância da IA na atualidade\n",
      "\n",
      "Slide 3:\n",
      "- Título: Como funciona a Inteligência Artificial?\n",
      "- Explicação básica do funcionamento da IA, como redes neurais artificiais, algoritmos de aprendizado de máquina e processamento de dados\n",
      "- Imagem ilustrativa para auxiliar na explicação\n",
      "\n",
      "Slide 4:\n",
      "- Título: Benefícios e Desafios da Inteligência Artificial\n",
      "- Listagem dos principais benefícios da IA, como automação de tarefas, melhoria da eficiência, previsões precisas, entre outros\n",
      "- Destaque para os desafios, como privacidade, ética e impactos no mercado de trabalho\n",
      "\n",
      "Slide 5:\n",
      "- Título: Futuro da Inteligência Artificial\n",
      "- Perspectivas para o futuro da IA, como avanços tecnológicos, aplicações em áreas diversas, impacto na sociedade e economia\n",
      "- Inspirar a plateia a explorar e contribuir para o desenvolvimento da IA\n",
      "\n",
      "Slide 6: Conclusão\n",
      "- Recapitulação dos pontos-chave abordados\n",
      "- Ênfase na importância e impacto da IA em nosso cotidiano\n",
      "- Convite para perguntas e discussões sobre o tema\n"
     ]
    }
   ],
   "source": [
    "with open(\"info.txt\", \"r\", encoding=\"utf-8\") as arquivo:\n",
    "\ttexto = arquivo.read()\n",
    "print(texto)"
   ]
  },
  {
   "cell_type": "markdown",
   "id": "bc05e3d8-5770-4e4e-aae2-4849fae88e33",
   "metadata": {},
   "source": [
    "## Contabilizando Número de Slides"
   ]
  },
  {
   "cell_type": "code",
   "execution_count": 2,
   "id": "790b83d5-20dc-4f61-b0f2-c4af129ad642",
   "metadata": {},
   "outputs": [
    {
     "name": "stdout",
     "output_type": "stream",
     "text": [
      "Total de slides:  6\n"
     ]
    }
   ],
   "source": [
    "num_slides = texto.count(\"Slide\")\n",
    "print(\"Total de slides: \", num_slides)"
   ]
  },
  {
   "cell_type": "markdown",
   "id": "d2cdbdfb-ab17-4a74-8142-1ebeeecf6086",
   "metadata": {},
   "source": [
    "## Lendo o Arquivo Linha a Linha"
   ]
  },
  {
   "cell_type": "code",
   "execution_count": 3,
   "id": "9c59d7d8-49b0-4861-b04e-46c28df55418",
   "metadata": {},
   "outputs": [
    {
     "name": "stdout",
     "output_type": "stream",
     "text": [
      "['Slide 1: Capa\\n', '- Título: Introdução à Inteligência Artificial\\n', '- Fundo: Imagem representativa da IA\\n', '\\n', 'Slide 2:\\n', '- Título: O que é Inteligência Artificial?\\n', '- Breve descrição da IA\\n', '- Exemplos de aplicações da IA (assistente virtual, carros autônomos, reconhecimento facial, etc.)\\n', '- Citação sobre a importância da IA na atualidade\\n', '\\n', 'Slide 3:\\n', '- Título: Como funciona a Inteligência Artificial?\\n', '- Explicação básica do funcionamento da IA, como redes neurais artificiais, algoritmos de aprendizado de máquina e processamento de dados\\n', '- Imagem ilustrativa para auxiliar na explicação\\n', '\\n', 'Slide 4:\\n', '- Título: Benefícios e Desafios da Inteligência Artificial\\n', '- Listagem dos principais benefícios da IA, como automação de tarefas, melhoria da eficiência, previsões precisas, entre outros\\n', '- Destaque para os desafios, como privacidade, ética e impactos no mercado de trabalho\\n', '\\n', 'Slide 5:\\n', '- Título: Futuro da Inteligência Artificial\\n', '- Perspectivas para o futuro da IA, como avanços tecnológicos, aplicações em áreas diversas, impacto na sociedade e economia\\n', '- Inspirar a plateia a explorar e contribuir para o desenvolvimento da IA\\n', '\\n', 'Slide 6: Conclusão\\n', '- Recapitulação dos pontos-chave abordados\\n', '- Ênfase na importância e impacto da IA em nosso cotidiano\\n', '- Convite para perguntas e discussões sobre o tema']\n"
     ]
    }
   ],
   "source": [
    "with open(\"info.txt\", \"r\", encoding=\"utf-8\") as file:\n",
    "    texto = file.readlines()\n",
    "print(texto)"
   ]
  },
  {
   "cell_type": "markdown",
   "id": "3db5f2bd-22fe-4627-9499-c512381f9951",
   "metadata": {},
   "source": [
    "# Importando a Biblioteca de Criação do PPTX"
   ]
  },
  {
   "cell_type": "code",
   "execution_count": 4,
   "id": "601138db-c935-489b-9631-523656edf925",
   "metadata": {},
   "outputs": [],
   "source": [
    "from pptx import Presentation"
   ]
  },
  {
   "cell_type": "markdown",
   "id": "2a5616e3-ef9f-47cf-b273-b534db61750a",
   "metadata": {},
   "source": [
    "# Criando a Apresentação"
   ]
  },
  {
   "cell_type": "code",
   "execution_count": 5,
   "id": "8151ff46-6a83-4c1d-8ee9-67816f5c27ff",
   "metadata": {},
   "outputs": [],
   "source": [
    "apresentacao = Presentation()"
   ]
  },
  {
   "cell_type": "markdown",
   "id": "273a1476-ecb1-4834-be9d-3debaf28a65e",
   "metadata": {},
   "source": [
    "## Criando o Slide 1 - Capa"
   ]
  },
  {
   "cell_type": "code",
   "execution_count": 6,
   "id": "f1d52b57-faff-4305-976b-0c67a9cf35c3",
   "metadata": {},
   "outputs": [],
   "source": [
    "# Escolhendo Layout do Slide 1 - Modelo Capa\n",
    "modelo_slide1 = apresentacao.slide_layouts[0]\n",
    "# Registrando Slide 1 na Apresentação\n",
    "slide1 = apresentacao.slides.add_slide(modelo_slide1)\n",
    "# Definindo Título e Subtítulo\n",
    "titulo1 = slide1.shapes.title\n",
    "subtitulo1 = slide1.placeholders[1]\n",
    "# Inserindo Textos no Título e Subtítulo\n",
    "titulo1.text = texto[1].strip(\"- Título: \" \"\\n\")\n",
    "subtitulo1.text = texto[2].strip(\"- Fundo: \" \"\\n\")"
   ]
  },
  {
   "cell_type": "markdown",
   "id": "4443c25b-29a7-4be2-a581-e69a4259b6db",
   "metadata": {},
   "source": [
    "## Criando o Slide 2"
   ]
  },
  {
   "cell_type": "code",
   "execution_count": 7,
   "id": "cff45554-7cf8-42ce-886d-eb096c8ad869",
   "metadata": {},
   "outputs": [],
   "source": [
    "# Escolhendo Layout do Slide 2 - Modelo Tópicos\n",
    "modelo_slide2 = apresentacao.slide_layouts[1]\n",
    "slide2 = apresentacao.slides.add_slide(modelo_slide2)\n",
    "# Título do Slide\n",
    "titulo2 = slide2.shapes.title\n",
    "titulo2.text = texto[5].strip(\"- Título: \"\"\\n\")\n",
    "# Definindo Caixa dos Tópicos\n",
    "caixa_de_topicos = slide2.shapes\n",
    "# Inserindo Tópicos\n",
    "caixa_de_topicos_1 = caixa_de_topicos.placeholders[1]\n",
    "caixa_de_topicos_1.text = texto[6].strip(\"- \"\"\\n\")\n",
    "# Adicionando Parágrafos ao Tópico\n",
    "caixa_de_topicos_2 = caixa_de_topicos_1.text_frame.add_paragraph()\n",
    "caixa_de_topicos_2.text = texto[7].strip(\"- \"\"\\n\")\n",
    "caixa_de_topicos_3 = caixa_de_topicos_1.text_frame.add_paragraph()\n",
    "caixa_de_topicos_3.text = texto[8].strip(\"- \"\"\\n\")"
   ]
  },
  {
   "cell_type": "markdown",
   "id": "43f390e9-2ed5-48bb-aecb-dc9435031a56",
   "metadata": {},
   "source": [
    "# Salvando a Apresentação"
   ]
  },
  {
   "cell_type": "code",
   "execution_count": 8,
   "id": "5e5b1094-ead3-45f9-902a-d2ce8047d150",
   "metadata": {},
   "outputs": [],
   "source": [
    "apresentacao.save(\"roteiro_apresentacao.pptx\")"
   ]
  },
  {
   "cell_type": "code",
   "execution_count": null,
   "id": "7ba4a9a1-2875-4093-9aef-942b9a5a13ed",
   "metadata": {},
   "outputs": [],
   "source": []
  }
 ],
 "metadata": {
  "kernelspec": {
   "display_name": "Python 3 (ipykernel)",
   "language": "python",
   "name": "python3"
  },
  "language_info": {
   "codemirror_mode": {
    "name": "ipython",
    "version": 3
   },
   "file_extension": ".py",
   "mimetype": "text/x-python",
   "name": "python",
   "nbconvert_exporter": "python",
   "pygments_lexer": "ipython3",
   "version": "3.9.1"
  }
 },
 "nbformat": 4,
 "nbformat_minor": 5
}
