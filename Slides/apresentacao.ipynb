{
 "cells": [
  {
   "cell_type": "markdown",
   "id": "f609bfdf-8692-4b9b-a7c9-dd1dc2234b84",
   "metadata": {},
   "source": [
    "# Lendo o arquivo de texto com roteiro"
   ]
  },
  {
   "cell_type": "code",
   "execution_count": 1,
   "id": "3e5fb954-9831-4682-a097-ca024b24a1aa",
   "metadata": {},
   "outputs": [
    {
     "name": "stdout",
     "output_type": "stream",
     "text": [
      "Slide 1: Capa\n",
      "- Título: Introdução à Inteligência Artificial\n",
      "- Fundo: Imagem representativa da IA\n",
      "\n",
      "Slide 2:\n",
      "- Título: O que é Inteligência Artificial?\n",
      "- Breve descrição da IA\n",
      "- Exemplos de aplicações da IA (assistente virtual, carros autônomos, reconhecimento facial, etc.)\n",
      "- Citação sobre a importância da IA na atualidade\n",
      "\n",
      "Slide 3:\n",
      "- Título: Como funciona a Inteligência Artificial?\n",
      "- Explicação básica do funcionamento da IA:\n",
      "    - Redes neurais artificiais\n",
      "    - Algoritmos de aprendizado de máquina\n",
      "    - Processamento de dados\n",
      "- Imagem ilustrativa para auxiliar na explicação\n",
      "\n",
      "Slide 4:\n",
      "- Título: Benefícios e Desafios da Inteligência Artificial\n",
      "- Listagem dos principais benefícios da IA, como automação de tarefas, melhoria da eficiência, previsões precisas, entre outros\n",
      "- Destaque para os desafios, como privacidade, ética e impactos no mercado de trabalho\n",
      "\n",
      "Slide 5:\n",
      "- Título: Futuro da Inteligência Artificial\n",
      "- Perspectivas para o futuro da IA, como avanços tecnológicos, aplicações em áreas diversas, impacto na sociedade e economia\n",
      "- Inspirar a plateia a explorar e contribuir para o desenvolvimento da IA\n",
      "\n",
      "Slide 6: Conclusão\n",
      "- Recapitulação dos pontos-chave abordados\n",
      "- Ênfase na importância e impacto da IA em nosso cotidiano\n",
      "- Convite para perguntas e discussões sobre o tema\n"
     ]
    }
   ],
   "source": [
    "with open(\"info.txt\", \"r\", encoding=\"utf-8\") as arquivo:\n",
    "\ttexto = arquivo.read()\n",
    "print(texto)"
   ]
  },
  {
   "cell_type": "markdown",
   "id": "bc05e3d8-5770-4e4e-aae2-4849fae88e33",
   "metadata": {},
   "source": [
    "## Contabilizando Número de Slides"
   ]
  },
  {
   "cell_type": "code",
   "execution_count": 2,
   "id": "790b83d5-20dc-4f61-b0f2-c4af129ad642",
   "metadata": {},
   "outputs": [
    {
     "name": "stdout",
     "output_type": "stream",
     "text": [
      "Total de slides:  6\n"
     ]
    }
   ],
   "source": [
    "num_slides = texto.count(\"Slide\")\n",
    "print(\"Total de slides: \", num_slides)"
   ]
  },
  {
   "cell_type": "markdown",
   "id": "d2cdbdfb-ab17-4a74-8142-1ebeeecf6086",
   "metadata": {},
   "source": [
    "## Lendo o Arquivo Linha a Linha"
   ]
  },
  {
   "cell_type": "code",
   "execution_count": 3,
   "id": "9c59d7d8-49b0-4861-b04e-46c28df55418",
   "metadata": {},
   "outputs": [
    {
     "name": "stdout",
     "output_type": "stream",
     "text": [
      "['Slide 1: Capa\\n', '- Título: Introdução à Inteligência Artificial\\n', '- Fundo: Imagem representativa da IA\\n', '\\n', 'Slide 2:\\n', '- Título: O que é Inteligência Artificial?\\n', '- Breve descrição da IA\\n', '- Exemplos de aplicações da IA (assistente virtual, carros autônomos, reconhecimento facial, etc.)\\n', '- Citação sobre a importância da IA na atualidade\\n', '\\n', 'Slide 3:\\n', '- Título: Como funciona a Inteligência Artificial?\\n', '- Explicação básica do funcionamento da IA:\\n', '    - Redes neurais artificiais\\n', '    - Algoritmos de aprendizado de máquina\\n', '    - Processamento de dados\\n', '- Imagem ilustrativa para auxiliar na explicação\\n', '\\n', 'Slide 4:\\n', '- Título: Benefícios e Desafios da Inteligência Artificial\\n', '- Listagem dos principais benefícios da IA, como automação de tarefas, melhoria da eficiência, previsões precisas, entre outros\\n', '- Destaque para os desafios, como privacidade, ética e impactos no mercado de trabalho\\n', '\\n', 'Slide 5:\\n', '- Título: Futuro da Inteligência Artificial\\n', '- Perspectivas para o futuro da IA, como avanços tecnológicos, aplicações em áreas diversas, impacto na sociedade e economia\\n', '- Inspirar a plateia a explorar e contribuir para o desenvolvimento da IA\\n', '\\n', 'Slide 6: Conclusão\\n', '- Recapitulação dos pontos-chave abordados\\n', '- Ênfase na importância e impacto da IA em nosso cotidiano\\n', '- Convite para perguntas e discussões sobre o tema']\n"
     ]
    }
   ],
   "source": [
    "with open(\"info.txt\", \"r\", encoding=\"utf-8\") as file:\n",
    "    texto = file.readlines()\n",
    "print(texto)"
   ]
  },
  {
   "cell_type": "markdown",
   "id": "3db5f2bd-22fe-4627-9499-c512381f9951",
   "metadata": {},
   "source": [
    "# Importando a Biblioteca de Criação do PPTX"
   ]
  },
  {
   "cell_type": "code",
   "execution_count": 4,
   "id": "601138db-c935-489b-9631-523656edf925",
   "metadata": {},
   "outputs": [],
   "source": [
    "from pptx import Presentation"
   ]
  },
  {
   "cell_type": "markdown",
   "id": "2a5616e3-ef9f-47cf-b273-b534db61750a",
   "metadata": {},
   "source": [
    "# Criando a Apresentação"
   ]
  },
  {
   "cell_type": "code",
   "execution_count": 5,
   "id": "8151ff46-6a83-4c1d-8ee9-67816f5c27ff",
   "metadata": {},
   "outputs": [],
   "source": [
    "apresentacao = Presentation()"
   ]
  },
  {
   "cell_type": "markdown",
   "id": "273a1476-ecb1-4834-be9d-3debaf28a65e",
   "metadata": {},
   "source": [
    "## Criando o Slide 1 - Capa"
   ]
  },
  {
   "cell_type": "code",
   "execution_count": 6,
   "id": "f1d52b57-faff-4305-976b-0c67a9cf35c3",
   "metadata": {},
   "outputs": [],
   "source": [
    "# Escolhendo Layout do Slide 1 - Modelo Capa\n",
    "modelo_slide1 = apresentacao.slide_layouts[0]\n",
    "# Registrando Slide 1 na Apresentação\n",
    "slide1 = apresentacao.slides.add_slide(modelo_slide1)\n",
    "# Definindo Título e Subtítulo\n",
    "titulo1 = slide1.shapes.title\n",
    "subtitulo1 = slide1.placeholders[1]\n",
    "# Inserindo Textos no Título e Subtítulo\n",
    "titulo1.text = texto[1].strip(\"- Título: \"\"\\n\")\n",
    "subtitulo1.text = texto[2].strip(\"- Fundo: \"\"\\n\")"
   ]
  },
  {
   "cell_type": "markdown",
   "id": "4443c25b-29a7-4be2-a581-e69a4259b6db",
   "metadata": {},
   "source": [
    "## Criando o Slide 2 - Tópicos"
   ]
  },
  {
   "cell_type": "code",
   "execution_count": 7,
   "id": "cff45554-7cf8-42ce-886d-eb096c8ad869",
   "metadata": {},
   "outputs": [],
   "source": [
    "# Escolhendo Layout do Slide 2 - Modelo Tópicos\n",
    "modelo_slide2 = apresentacao.slide_layouts[1]\n",
    "slide2 = apresentacao.slides.add_slide(modelo_slide2)\n",
    "# Título do Slide\n",
    "titulo2 = slide2.shapes.title\n",
    "titulo2.text = texto[5].strip(\"- Título: \"\"\\n\")\n",
    "# Definindo Caixa dos Tópicos\n",
    "caixa_de_topicos = slide2.shapes\n",
    "# Inserindo Tópicos\n",
    "caixa_de_topicos_1 = caixa_de_topicos.placeholders[1]\n",
    "caixa_de_topicos_1.text = texto[6].strip(\"- \"\"\\n\")\n",
    "# Adicionando Parágrafos ao Tópico\n",
    "caixa_de_topicos_2 = caixa_de_topicos_1.text_frame.add_paragraph()\n",
    "caixa_de_topicos_2.text = texto[7].strip(\"- \"\"\\n\")\n",
    "caixa_de_topicos_3 = caixa_de_topicos_1.text_frame.add_paragraph()\n",
    "caixa_de_topicos_3.text = texto[8].strip(\"- \"\"\\n\")"
   ]
  },
  {
   "cell_type": "markdown",
   "id": "11a76238-6429-4b98-93e9-a1da4265d137",
   "metadata": {},
   "source": [
    "## Criando o Slide 3 - Subtópicos e Imagem"
   ]
  },
  {
   "cell_type": "code",
   "execution_count": 8,
   "id": "9c61d699-e8c8-4b49-8da1-63d9de926015",
   "metadata": {},
   "outputs": [],
   "source": [
    "# Escolhendo Layout do Slide 3 - Modelo Tópicos\n",
    "modelo_slide3 = apresentacao.slide_layouts[1]\n",
    "slide3 = apresentacao.slides.add_slide(modelo_slide3)\n",
    "# Título do Slide\n",
    "titulo3 = slide3.shapes.title\n",
    "titulo3.text = texto[11].strip(\"- Título: \"\"\\n\")\n",
    "# Definindo Caixa dos Tópicos\n",
    "caixa_de_topicos = slide3.shapes\n",
    "# Inserindo Tópicos\n",
    "caixa_de_topicos_1 = caixa_de_topicos.placeholders[1]\n",
    "caixa_de_topicos_1.text = texto[12].strip(\"- \"\"\\n\")\n",
    "# Adicionando Subópicos\n",
    "caixa_de_topicos_2 = caixa_de_topicos_1.text_frame.add_paragraph()\n",
    "caixa_de_topicos_2.text = texto[13].strip(\"- \"\"\\n\")\n",
    "caixa_de_topicos_2.level = 1\n",
    "caixa_de_topicos_3 = caixa_de_topicos_1.text_frame.add_paragraph()\n",
    "caixa_de_topicos_3.text = texto[14].strip(\"- \"\"\\n\")\n",
    "caixa_de_topicos_3.level = 1\n",
    "caixa_de_topicos_4 = caixa_de_topicos_1.text_frame.add_paragraph()\n",
    "caixa_de_topicos_4.text = texto[15].strip(\"- \"\"\\n\")\n",
    "caixa_de_topicos_4.level = 1"
   ]
  },
  {
   "cell_type": "markdown",
   "id": "11e6957f-5a78-4abf-b27c-7b1164c1e57d",
   "metadata": {},
   "source": [
    "### Adicionando Imagem"
   ]
  },
  {
   "cell_type": "code",
   "execution_count": 9,
   "id": "084088ac-30bc-4f0d-bb43-ba96900f125d",
   "metadata": {},
   "outputs": [],
   "source": [
    "# Importando Biblioteca Para Posicionar Imagem Inserida\n",
    "from pptx.util import Inches\n",
    "import os\n",
    "imagem = r\"C:\\Users\\Luiz Carlos\\Documents\\UEPB\\Estágio\\Slides\\ia.jpg\"\n",
    "if os.path.isfile(imagem):\n",
    "    # Adiciona Imagem\n",
    "    img1 = \"ia.jpg\"\n",
    "    esquerda = Inches(3)\n",
    "    topo = Inches(4.5)\n",
    "    adiciona_imagem = slide3.shapes.add_picture(img1, esquerda, topo)\n",
    "else:\n",
    "    # Adiciona Tópico\n",
    "    caixa_de_topicos_5 = caixa_de_topicos_1.text_frame.add_paragraph()\n",
    "    caixa_de_topicos_5.text = \"\\n * Não Há Nenhuma Imagem Para Adicionar *\""
   ]
  },
  {
   "cell_type": "markdown",
   "id": "360a013b-1ec7-47fb-948d-074bbdfcdb43",
   "metadata": {},
   "source": [
    "## Criando Slide 4"
   ]
  },
  {
   "cell_type": "code",
   "execution_count": null,
   "id": "df99a0ef-4c8b-4734-af5a-ce65763a512f",
   "metadata": {},
   "outputs": [],
   "source": [
    "# Escolhendo Layout do Slide 4 - Modelo Tópicos\n",
    "modelo_slide4 = apresentacao.slide_layouts[1]\n",
    "slide4 = apresentacao.slides.add_slide(modelo_slide4)\n",
    "# Título do Slide\n",
    "titulo4 = slide4.shapes.title\n",
    "titulo4.text = texto[19].strip(\"- Título: \"\"\\n\")\n",
    "# Definindo Caixa dos Tópicos\n",
    "caixa_de_topicos = slide4.shapes\n",
    "# Inserindo Tópicos\n",
    "caixa_de_topicos_1 = caixa_de_topicos.placeholders[1]\n",
    "caixa_de_topicos_1.text = texto[20].strip(\"- \"\"\\n\")\n",
    "# Adicionando Subópicos\n",
    "caixa_de_topicos_2 = caixa_de_topicos_1.text_frame.add_paragraph()\n",
    "caixa_de_topicos_2.text = texto[21].strip(\"- \"\"\\n\")\n",
    "caixa_de_topicos_2.level = 1\n",
    "caixa_de_topicos_3 = caixa_de_topicos_1.text_frame.add_paragraph()\n",
    "caixa_de_topicos_3.text = texto[22].strip(\"- \"\"\\n\")\n",
    "caixa_de_topicos_3.level = 1\n",
    "caixa_de_topicos_4 = caixa_de_topicos_1.text_frame.add_paragraph()\n",
    "caixa_de_topicos_4.text = texto[23].strip(\"- \"\"\\n\")\n",
    "caixa_de_topicos_4.level = 1\n",
    "# Inserindo Novo Tópico\n",
    "caixa_de_topicos_5 = caixa_de_topicos_1.text_frame.add_paragraph()\n",
    "caixa_de_topicos_5.text = texto[24].strip(\"- \"\"\\n\")\n",
    "caixa_de_topicos_6 = caixa_de_topicos_1.text_frame.add_paragraph()\n",
    "caixa_de_topicos_6.text = texto[25].strip(\"- \"\"\\n\")\n",
    "caixa_de_topicos_6.level = 1\n",
    "caixa_de_topicos_7 = caixa_de_topicos_1.text_frame.add_paragraph()\n",
    "caixa_de_topicos_7.text = texto[26].strip(\"- \"\"\\n\")\n",
    "caixa_de_topicos_7.level = 1\n",
    "caixa_de_topicos_8 = caixa_de_topicos_1.text_frame.add_paragraph()\n",
    "caixa_de_topicos_8.text = texto[27].strip(\"- \"\"\\n\")\n",
    "caixa_de_topicos_8.level = 1"
   ]
  },
  {
   "cell_type": "markdown",
   "id": "43f390e9-2ed5-48bb-aecb-dc9435031a56",
   "metadata": {},
   "source": [
    "# Salvando a Apresentação"
   ]
  },
  {
   "cell_type": "code",
   "execution_count": 10,
   "id": "5e5b1094-ead3-45f9-902a-d2ce8047d150",
   "metadata": {},
   "outputs": [],
   "source": [
    "apresentacao.save(\"roteiro_apresentacao.pptx\")"
   ]
  },
  {
   "cell_type": "code",
   "execution_count": null,
   "id": "7ba4a9a1-2875-4093-9aef-942b9a5a13ed",
   "metadata": {},
   "outputs": [],
   "source": []
  }
 ],
 "metadata": {
  "kernelspec": {
   "display_name": "Python 3 (ipykernel)",
   "language": "python",
   "name": "python3"
  },
  "language_info": {
   "codemirror_mode": {
    "name": "ipython",
    "version": 3
   },
   "file_extension": ".py",
   "mimetype": "text/x-python",
   "name": "python",
   "nbconvert_exporter": "python",
   "pygments_lexer": "ipython3",
   "version": "3.9.1"
  }
 },
 "nbformat": 4,
 "nbformat_minor": 5
}
