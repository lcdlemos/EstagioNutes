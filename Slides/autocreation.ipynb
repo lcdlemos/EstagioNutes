{
 "cells": [
  {
   "cell_type": "code",
   "execution_count": 1,
   "id": "31d9b76c-f60d-4585-8db2-8fd77c5ef025",
   "metadata": {},
   "outputs": [],
   "source": [
    "nome_arquivo = \"info.txt\""
   ]
  },
  {
   "cell_type": "code",
   "execution_count": 2,
   "id": "d54d9a48-6433-4d44-8d12-e0f559131826",
   "metadata": {},
   "outputs": [],
   "source": [
    "import funcoes as fun"
   ]
  },
  {
   "cell_type": "code",
   "execution_count": 3,
   "id": "a4e9a2ff-a455-49a4-bd0e-0e1902cee8bc",
   "metadata": {},
   "outputs": [],
   "source": [
    "num_slides = fun.contar_slides(nome_arquivo)"
   ]
  },
  {
   "cell_type": "code",
   "execution_count": 4,
   "id": "599ba805-b6df-47c3-8adc-f6e9d353db9c",
   "metadata": {},
   "outputs": [],
   "source": [
    "texto = fun.ler_arquivo(nome_arquivo)"
   ]
  },
  {
   "cell_type": "code",
   "execution_count": 5,
   "id": "c182ce52-e90c-4ca9-95af-5a5121141972",
   "metadata": {},
   "outputs": [],
   "source": [
    "from pptx import Presentation\n",
    "auto_apresentacao = Presentation()"
   ]
  },
  {
   "cell_type": "code",
   "execution_count": 6,
   "id": "ef6b1ac2-ba67-4dca-b75c-8c982f6bd840",
   "metadata": {},
   "outputs": [
    {
     "ename": "NameError",
     "evalue": "name 'url_image' is not defined",
     "output_type": "error",
     "traceback": [
      "\u001b[1;31m---------------------------------------------------------------------------\u001b[0m",
      "\u001b[1;31mNameError\u001b[0m                                 Traceback (most recent call last)",
      "Cell \u001b[1;32mIn[6], line 4\u001b[0m\n\u001b[0;32m      2\u001b[0m titulos \u001b[38;5;241m=\u001b[39m fun\u001b[38;5;241m.\u001b[39mcoletar_titulos(texto)\n\u001b[0;32m      3\u001b[0m topicos \u001b[38;5;241m=\u001b[39m fun\u001b[38;5;241m.\u001b[39mcoletar_topicos(texto)\n\u001b[1;32m----> 4\u001b[0m slides \u001b[38;5;241m=\u001b[39m \u001b[43mfun\u001b[49m\u001b[38;5;241;43m.\u001b[39;49m\u001b[43madicionar_slides\u001b[49m\u001b[43m(\u001b[49m\u001b[43mauto_apresentacao\u001b[49m\u001b[43m,\u001b[49m\u001b[43m \u001b[49m\u001b[43mtexto\u001b[49m\u001b[43m,\u001b[49m\u001b[43m \u001b[49m\u001b[43mtitulos\u001b[49m\u001b[43m,\u001b[49m\u001b[43m \u001b[49m\u001b[43mtopicos\u001b[49m\u001b[43m,\u001b[49m\u001b[43m \u001b[49m\u001b[43mnum_slides\u001b[49m\u001b[43m)\u001b[49m\n",
      "File \u001b[1;32m~\\Documents\\UEPB\\Estágio\\Slides\\funcoes.py:91\u001b[0m, in \u001b[0;36madicionar_slides\u001b[1;34m(auto_apresentacao, texto, titulos, topicos, num_slides)\u001b[0m\n\u001b[0;32m     89\u001b[0m resposta[\u001b[38;5;124m'\u001b[39m\u001b[38;5;124mdata\u001b[39m\u001b[38;5;124m'\u001b[39m][\u001b[38;5;241m0\u001b[39m][\u001b[38;5;124m'\u001b[39m\u001b[38;5;124murl\u001b[39m\u001b[38;5;124m'\u001b[39m]\n\u001b[0;32m     90\u001b[0m \u001b[38;5;66;03m#url_image = resposta['results'][0]['urls']['small']\u001b[39;00m\n\u001b[1;32m---> 91\u001b[0m urllib\u001b[38;5;241m.\u001b[39mrequest\u001b[38;5;241m.\u001b[39murlretrieve(\u001b[43murl_image\u001b[49m, \u001b[38;5;124m\"\u001b[39m\u001b[38;5;124m./imagem_url.jpeg\u001b[39m\u001b[38;5;124m\"\u001b[39m)\n\u001b[0;32m     93\u001b[0m ima \u001b[38;5;241m=\u001b[39m Image\u001b[38;5;241m.\u001b[39mopen(\u001b[38;5;124m\"\u001b[39m\u001b[38;5;124mimagem_url.jpeg\u001b[39m\u001b[38;5;124m\"\u001b[39m)\n\u001b[0;32m     94\u001b[0m ima \u001b[38;5;241m=\u001b[39m ima\u001b[38;5;241m.\u001b[39mresize((\u001b[38;5;241m300\u001b[39m, \u001b[38;5;241m200\u001b[39m))\n",
      "\u001b[1;31mNameError\u001b[0m: name 'url_image' is not defined"
     ]
    }
   ],
   "source": [
    "fun.criar_capa(auto_apresentacao, texto)\n",
    "titulos = fun.coletar_titulos(texto)\n",
    "topicos = fun.coletar_topicos(texto)\n",
    "slides = fun.adicionar_slides(auto_apresentacao, texto, titulos, topicos, num_slides)"
   ]
  },
  {
   "cell_type": "code",
   "execution_count": null,
   "id": "667757b6-bfb3-40ec-b8d3-daa2a87e9171",
   "metadata": {},
   "outputs": [],
   "source": [
    "auto_apresentacao.save(\"auto_apresentacao.pptx\")"
   ]
  }
 ],
 "metadata": {
  "kernelspec": {
   "display_name": "Python 3 (ipykernel)",
   "language": "python",
   "name": "python3"
  },
  "language_info": {
   "codemirror_mode": {
    "name": "ipython",
    "version": 3
   },
   "file_extension": ".py",
   "mimetype": "text/x-python",
   "name": "python",
   "nbconvert_exporter": "python",
   "pygments_lexer": "ipython3",
   "version": "3.9.1"
  }
 },
 "nbformat": 4,
 "nbformat_minor": 5
}
