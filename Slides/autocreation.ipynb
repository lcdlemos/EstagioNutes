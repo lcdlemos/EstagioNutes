{
 "cells": [
  {
   "cell_type": "code",
   "execution_count": 1,
   "id": "5b0d3f4a-9bd5-47a9-bc00-ccb451d3132f",
   "metadata": {},
   "outputs": [
    {
     "name": "stdout",
     "output_type": "stream",
     "text": [
      "Slide 1: Capa\n",
      "- Título: Introdução à Inteligência Artificial\n",
      "- Autor: Luiz Carlos de Lemos IA\n",
      "\n",
      "Slide 2:\n",
      "- Título: O que é Inteligência Artificial?\n",
      "- Breve descrição da IA\n",
      "- Exemplos de aplicações da IA (assistente virtual, carros autônomos, reconhecimento facial, etc.)\n",
      "- Citação sobre a importância da IA na atualidade\n",
      "\n",
      "Slide 3:\n",
      "- Título: Como funciona a Inteligência Artificial?\n",
      "- Explicação básica do funcionamento da IA:\n",
      "    - Redes neurais artificiais\n",
      "    - Algoritmos de aprendizado de máquina\n",
      "    - Processamento de dados\n",
      "- Imagem ilustrativa para auxiliar na explicação\n",
      "\n",
      "Slide 4:\n",
      "- Título: Benefícios e Desafios da Inteligência Artificial\n",
      "- Listagem dos principais benefícios da IA:\n",
      "    - Automação de tarefas\n",
      "    - Melhoria da eficiência\n",
      "    - Previsões precisas\n",
      "- Destaque para os desafios:\n",
      "    - Privacidade\n",
      "    - Ética\n",
      "    - Impactos no mercado de trabalho\n",
      "\n",
      "Slide 5:\n",
      "- Título: Futuro da Inteligência Artificial\n",
      "- Perspectivas para o futuro da IA:\n",
      "    - Avanços tecnológicos\n",
      "    - Aplicações em áreas diversas\n",
      "    - Impacto na sociedade e economia\n",
      "\n",
      "Slide 6:\n",
      "- Título: Conclusão\n",
      "- Recapitulação dos pontos-chave abordados\n",
      "- Ênfase na importância e impacto da IA em nosso cotidiano\n",
      "- Convite para perguntas e discussões sobre o tema\n"
     ]
    }
   ],
   "source": [
    "with open(\"info.txt\", \"r\", encoding=\"utf-8\") as arquivo:\n",
    "\ttexto = arquivo.read()\n",
    "print(texto)"
   ]
  },
  {
   "cell_type": "code",
   "execution_count": 2,
   "id": "32c0fa85-ea28-40ec-871d-a139e2234a22",
   "metadata": {},
   "outputs": [
    {
     "name": "stdout",
     "output_type": "stream",
     "text": [
      "Total de slides:  6\n"
     ]
    }
   ],
   "source": [
    "num_slides = texto.count(\"Slide\")\n",
    "print(\"Total de slides: \", num_slides)"
   ]
  },
  {
   "cell_type": "code",
   "execution_count": 4,
   "id": "c182ce52-e90c-4ca9-95af-5a5121141972",
   "metadata": {},
   "outputs": [],
   "source": [
    "from pptx import Presentation\n",
    "auto_apresentacao = Presentation()"
   ]
  },
  {
   "cell_type": "code",
   "execution_count": null,
   "id": "ef6b1ac2-ba67-4dca-b75c-8c982f6bd840",
   "metadata": {},
   "outputs": [],
   "source": []
  }
 ],
 "metadata": {
  "kernelspec": {
   "display_name": "Python 3 (ipykernel)",
   "language": "python",
   "name": "python3"
  },
  "language_info": {
   "codemirror_mode": {
    "name": "ipython",
    "version": 3
   },
   "file_extension": ".py",
   "mimetype": "text/x-python",
   "name": "python",
   "nbconvert_exporter": "python",
   "pygments_lexer": "ipython3",
   "version": "3.9.1"
  }
 },
 "nbformat": 4,
 "nbformat_minor": 5
}
