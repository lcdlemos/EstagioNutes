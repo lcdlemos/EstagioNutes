{
 "cells": [
  {
   "cell_type": "code",
   "execution_count": 1,
   "id": "31d9b76c-f60d-4585-8db2-8fd77c5ef025",
   "metadata": {},
   "outputs": [],
   "source": [
    "nome_arquivo = \"info.txt\""
   ]
  },
  {
   "cell_type": "code",
   "execution_count": 2,
   "id": "d54d9a48-6433-4d44-8d12-e0f559131826",
   "metadata": {},
   "outputs": [],
   "source": [
    "import funcoes as fun"
   ]
  },
  {
   "cell_type": "code",
   "execution_count": 3,
   "id": "a4e9a2ff-a455-49a4-bd0e-0e1902cee8bc",
   "metadata": {},
   "outputs": [],
   "source": [
    "num_slides = fun.contar_slides(nome_arquivo)"
   ]
  },
  {
   "cell_type": "code",
   "execution_count": 4,
   "id": "599ba805-b6df-47c3-8adc-f6e9d353db9c",
   "metadata": {},
   "outputs": [],
   "source": [
    "texto = fun.ler_arquivo(nome_arquivo)"
   ]
  },
  {
   "cell_type": "code",
   "execution_count": 5,
   "id": "c182ce52-e90c-4ca9-95af-5a5121141972",
   "metadata": {},
   "outputs": [],
   "source": [
    "from pptx import Presentation\n",
    "auto_apresentacao = Presentation()"
   ]
  },
  {
   "cell_type": "code",
   "execution_count": 6,
   "id": "ef6b1ac2-ba67-4dca-b75c-8c982f6bd840",
   "metadata": {},
   "outputs": [],
   "source": [
    "fun.criar_capa(auto_apresentacao, texto)\n",
    "titulos = fun.coletar_titulos(texto)\n",
    "topicos = fun.coletar_topicos(texto)\n",
    "slides = fun.adicionar_slides(auto_apresentacao, texto, titulos, topicos, num_slides)"
   ]
  },
  {
   "cell_type": "code",
   "execution_count": 7,
   "id": "667757b6-bfb3-40ec-b8d3-daa2a87e9171",
   "metadata": {
    "jupyter": {
     "source_hidden": true
    }
   },
   "outputs": [],
   "source": [
    "auto_apresentacao.save(\"auto_apresentacao.pptx\")"
   ]
  },
  {
   "cell_type": "code",
   "execution_count": 8,
   "id": "bb17d0da-1ed6-48c5-9257-995a71e69cf1",
   "metadata": {},
   "outputs": [
    {
     "data": {
      "text/plain": [
       "['Introdução à Inteligência Artificial',\n",
       " 'O que é Inteligência Artificial?',\n",
       " 'Como funciona a Inteligência Artificial?',\n",
       " 'Benefícios e Desafios da Inteligência Artificial',\n",
       " 'Futuro da Inteligência Artificial',\n",
       " 'Conclusão']"
      ]
     },
     "execution_count": 8,
     "metadata": {},
     "output_type": "execute_result"
    }
   ],
   "source": [
    "titulos"
   ]
  },
  {
   "cell_type": "code",
   "execution_count": null,
   "id": "bb0ae8c2-7078-4c95-acfb-93bb8325afc5",
   "metadata": {},
   "outputs": [],
   "source": []
  }
 ],
 "metadata": {
  "kernelspec": {
   "display_name": "Python 3 (ipykernel)",
   "language": "python",
   "name": "python3"
  },
  "language_info": {
   "codemirror_mode": {
    "name": "ipython",
    "version": 3
   },
   "file_extension": ".py",
   "mimetype": "text/x-python",
   "name": "python",
   "nbconvert_exporter": "python",
   "pygments_lexer": "ipython3",
   "version": "3.9.1"
  }
 },
 "nbformat": 4,
 "nbformat_minor": 5
}
