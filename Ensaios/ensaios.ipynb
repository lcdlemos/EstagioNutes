{
 "cells": [
  {
   "cell_type": "markdown",
   "id": "3e787843-3fbc-4df7-ac7c-8ae393b1f051",
   "metadata": {},
   "source": [
    "# read -> para arquivos simples (ex: senhas, tokens, informações únicas)"
   ]
  },
  {
   "cell_type": "code",
   "execution_count": 1,
   "id": "e8ce7b31-42cd-4df7-ac1e-735fe979f215",
   "metadata": {},
   "outputs": [
    {
     "name": "stdout",
     "output_type": "stream",
     "text": [
      "superman@alluniverse.com\n",
      "batman@universe.com\n"
     ]
    }
   ],
   "source": [
    "with open(\"email.txt\", \"r\") as arquivo:\n",
    "\temail = arquivo.read()\n",
    "print(email)"
   ]
  },
  {
   "cell_type": "code",
   "execution_count": 2,
   "id": "16d0a81d-d652-44ae-8386-0d7d3ab6a6da",
   "metadata": {},
   "outputs": [
    {
     "name": "stdout",
     "output_type": "stream",
     "text": [
      "senha = BatmanSalvador2023\n"
     ]
    }
   ],
   "source": [
    "with open(\"senha.txt\", \"r\") as arquivo:\n",
    "\tsenha = arquivo.read()\n",
    "print(senha)"
   ]
  },
  {
   "cell_type": "markdown",
   "id": "090ee810-4b1f-4309-a4b4-35ecade3668c",
   "metadata": {},
   "source": [
    "# read lines -> para arquivos maiores"
   ]
  },
  {
   "cell_type": "code",
   "execution_count": 3,
   "id": "b77858d8-aa68-4ee2-8580-5d9eee6b2246",
   "metadata": {},
   "outputs": [
    {
     "name": "stdout",
     "output_type": "stream",
     "text": [
      "['Dear Friends,\\n', '\\n', 'The Justice League came to end.\\n', '\\n', 'Batman follow new path now, and without him, we are lose.\\n', '\\n', 'Sorry for our loss.\\n', '\\n', 'Take care youserlves.\\n', '\\n', 'Kal-El.']\n"
     ]
    }
   ],
   "source": [
    "with open(\"mensagem.txt\", \"r\", encoding=\"utf-8\") as arquivo:\n",
    "\ttexto = arquivo.readlines()\n",
    "print(texto)"
   ]
  },
  {
   "cell_type": "code",
   "execution_count": 4,
   "id": "04d4f847-574b-4fa8-9cfc-7f16428e4904",
   "metadata": {},
   "outputs": [
    {
     "name": "stdout",
     "output_type": "stream",
     "text": [
      "Batman follow new path now, and without him, we are lose.\n",
      "\n"
     ]
    }
   ],
   "source": [
    "for frase in texto:\n",
    "    if \"Batman\" in frase:\n",
    "        print(frase)"
   ]
  },
  {
   "cell_type": "markdown",
   "id": "4dc67538-3fb5-4f2f-853e-0d04b1a95f9b",
   "metadata": {},
   "source": [
    "# write -> substitui por completo o texto que está escrito"
   ]
  },
  {
   "cell_type": "code",
   "execution_count": 5,
   "id": "b12c578a-f5bb-47b5-b2f0-93f77fa83f42",
   "metadata": {},
   "outputs": [
    {
     "name": "stdout",
     "output_type": "stream",
     "text": [
      "superman@alluniverse.com\n",
      "batman@universe.com\n"
     ]
    }
   ],
   "source": [
    "with open(\"email.txt\", \"r\") as arquivo:\n",
    "\temail = arquivo.read()\n",
    "print(email)"
   ]
  },
  {
   "cell_type": "code",
   "execution_count": 6,
   "id": "62cba492-89b3-4043-b63e-c8d9445d2099",
   "metadata": {},
   "outputs": [],
   "source": [
    "with open(\"email.txt\", \"w\") as arquivo:\n",
    "\tarquivo.write(\"superman@alluniverse.com\")"
   ]
  },
  {
   "cell_type": "code",
   "execution_count": 7,
   "id": "c8a08924-3c27-4143-8e77-f984a8ee3e52",
   "metadata": {},
   "outputs": [
    {
     "name": "stdout",
     "output_type": "stream",
     "text": [
      "superman@alluniverse.com\n"
     ]
    }
   ],
   "source": [
    "with open(\"email.txt\", \"r\") as arquivo:\n",
    "\temail = arquivo.read()\n",
    "print(email)"
   ]
  },
  {
   "cell_type": "markdown",
   "id": "4ff909f5-6f7e-4073-9231-552eb2a1e41a",
   "metadata": {},
   "source": [
    "# append -> adiciona uma informação ao texto original"
   ]
  },
  {
   "cell_type": "code",
   "execution_count": 8,
   "id": "a4d7d628-60d8-49d0-b862-eb2861226b40",
   "metadata": {},
   "outputs": [],
   "source": [
    "with open(\"email.txt\", \"a\") as arquivo:\n",
    "\tarquivo.write(\"\\nbatman@universe.com\")"
   ]
  },
  {
   "cell_type": "code",
   "execution_count": 9,
   "id": "2f6c02aa-1952-47c8-ab2c-1722e2a65ee6",
   "metadata": {},
   "outputs": [
    {
     "name": "stdout",
     "output_type": "stream",
     "text": [
      "superman@alluniverse.com\n",
      "batman@universe.com\n"
     ]
    }
   ],
   "source": [
    "with open(\"email.txt\", \"r\") as arquivo:\n",
    "\temail = arquivo.read()\n",
    "print(email)"
   ]
  },
  {
   "cell_type": "code",
   "execution_count": 10,
   "id": "0b4c8cd1-40a9-462e-8a94-b9b4cd48b5b3",
   "metadata": {},
   "outputs": [
    {
     "name": "stdout",
     "output_type": "stream",
     "text": [
      "Dear Friends,\n",
      "\n",
      "The Justice League came to end.\n",
      "\n",
      "Batman follow new path now, and without him, we are lose.\n",
      "\n",
      "Sorry for our loss.\n",
      "\n",
      "Take care youserlves.\n",
      "\n",
      "Kal-El.\n"
     ]
    }
   ],
   "source": [
    "with open(\"mensagem.txt\", \"r\", encoding=\"utf-8\") as arquivo:\n",
    "\ttexto = arquivo.read()\n",
    "print(texto)"
   ]
  },
  {
   "cell_type": "markdown",
   "id": "cd6bc426-c8ca-4918-93b8-767b0186ab5a",
   "metadata": {},
   "source": [
    "# ler do arqvuio e salvar numa variável"
   ]
  },
  {
   "cell_type": "code",
   "execution_count": 11,
   "id": "5a3257c7-6d6a-4fc3-8961-4bd38577d875",
   "metadata": {},
   "outputs": [
    {
     "name": "stdout",
     "output_type": "stream",
     "text": [
      "Slide 1: Capa\n",
      "- Título: Introdução à Inteligência Artificial\n",
      "- Fundo: Imagem representativa da IA\n",
      "\n",
      "Slide 2:\n",
      "- Título: O que é Inteligência Artificial?\n",
      "- Breve descrição da IA\n",
      "- Exemplos de aplicações da IA (assistente virtual, carros autônomos, reconhecimento facial, etc.)\n",
      "- Citação sobre a importância da IA na atualidade\n",
      "\n",
      "Slide 3:\n",
      "- Título: Como funciona a Inteligência Artificial?\n",
      "- Explicação básica do funcionamento da IA, como redes neurais artificiais, algoritmos de aprendizado de máquina e processamento de dados\n",
      "- Imagem ilustrativa para auxiliar na explicação\n",
      "\n",
      "Slide 4:\n",
      "- Título: Benefícios e Desafios da Inteligência Artificial\n",
      "- Listagem dos principais benefícios da IA, como automação de tarefas, melhoria da eficiência, previsões precisas, entre outros\n",
      "- Destaque para os desafios, como privacidade, ética e impactos no mercado de trabalho\n",
      "\n",
      "Slide 5:\n",
      "- Título: Futuro da Inteligência Artificial\n",
      "- Perspectivas para o futuro da IA, como avanços tecnológicos, aplicações em áreas diversas, impacto na sociedade e economia\n",
      "- Inspirar a plateia a explorar e contribuir para o desenvolvimento da IA\n",
      "\n",
      "Slide 6: Conclusão\n",
      "- Recapitulação dos pontos-chave abordados\n",
      "- Ênfase na importância e impacto da IA em nosso cotidiano\n",
      "- Convite para perguntas e discussões sobre o tema\n"
     ]
    }
   ],
   "source": [
    "with open(\"info.txt\", \"r\", encoding=\"utf-8\") as file:\n",
    "    text = file.read()\n",
    "print(text)"
   ]
  },
  {
   "cell_type": "code",
   "execution_count": 12,
   "id": "3bb6fc6e-c6cc-4db5-8ca1-0eb8f73ad6b6",
   "metadata": {},
   "outputs": [
    {
     "name": "stdout",
     "output_type": "stream",
     "text": [
      "Total de slides:  6\n"
     ]
    }
   ],
   "source": [
    "num_slides = text.count(\"Slide\")\n",
    "print(\"Total de slides: \", num_slides)"
   ]
  },
  {
   "cell_type": "code",
   "execution_count": 13,
   "id": "5e0f54a3-c5c1-495b-81c0-853ddf33689f",
   "metadata": {},
   "outputs": [
    {
     "name": "stdout",
     "output_type": "stream",
     "text": [
      "['Slide 1: Capa\\n', '- Título: Introdução à Inteligência Artificial\\n', '- Fundo: Imagem representativa da IA\\n', '\\n', 'Slide 2:\\n', '- Título: O que é Inteligência Artificial?\\n', '- Breve descrição da IA\\n', '- Exemplos de aplicações da IA (assistente virtual, carros autônomos, reconhecimento facial, etc.)\\n', '- Citação sobre a importância da IA na atualidade\\n', '\\n', 'Slide 3:\\n', '- Título: Como funciona a Inteligência Artificial?\\n', '- Explicação básica do funcionamento da IA, como redes neurais artificiais, algoritmos de aprendizado de máquina e processamento de dados\\n', '- Imagem ilustrativa para auxiliar na explicação\\n', '\\n', 'Slide 4:\\n', '- Título: Benefícios e Desafios da Inteligência Artificial\\n', '- Listagem dos principais benefícios da IA, como automação de tarefas, melhoria da eficiência, previsões precisas, entre outros\\n', '- Destaque para os desafios, como privacidade, ética e impactos no mercado de trabalho\\n', '\\n', 'Slide 5:\\n', '- Título: Futuro da Inteligência Artificial\\n', '- Perspectivas para o futuro da IA, como avanços tecnológicos, aplicações em áreas diversas, impacto na sociedade e economia\\n', '- Inspirar a plateia a explorar e contribuir para o desenvolvimento da IA\\n', '\\n', 'Slide 6: Conclusão\\n', '- Recapitulação dos pontos-chave abordados\\n', '- Ênfase na importância e impacto da IA em nosso cotidiano\\n', '- Convite para perguntas e discussões sobre o tema']\n"
     ]
    }
   ],
   "source": [
    "with open(\"info.txt\", \"r\", encoding=\"utf-8\") as file:\n",
    "    text = file.readlines()\n",
    "print(text)"
   ]
  },
  {
   "cell_type": "code",
   "execution_count": 14,
   "id": "648afdb4-9ced-4fa4-8aa0-aea9521f1f36",
   "metadata": {},
   "outputs": [
    {
     "name": "stdout",
     "output_type": "stream",
     "text": [
      "Slide 1: Capa\n",
      "\n"
     ]
    }
   ],
   "source": [
    "print(text[0])"
   ]
  },
  {
   "cell_type": "code",
   "execution_count": 15,
   "id": "b2064cc6-18ff-4df0-b893-db9ecd06139e",
   "metadata": {},
   "outputs": [
    {
     "name": "stdout",
     "output_type": "stream",
     "text": [
      "- Título: Introdução à Inteligência Artificial\n",
      "\n"
     ]
    }
   ],
   "source": [
    "print(text[1])"
   ]
  },
  {
   "cell_type": "code",
   "execution_count": 16,
   "id": "2f0d3cea-bce9-46a6-9344-cfd3102a121e",
   "metadata": {},
   "outputs": [
    {
     "name": "stdout",
     "output_type": "stream",
     "text": [
      "- Fundo: Imagem representativa da IA\n",
      "\n"
     ]
    }
   ],
   "source": [
    "print(text[2])"
   ]
  },
  {
   "cell_type": "code",
   "execution_count": 17,
   "id": "0d2aceea-b068-408b-83d6-dc8b3b532a90",
   "metadata": {},
   "outputs": [
    {
     "name": "stdout",
     "output_type": "stream",
     "text": [
      "\n",
      "\n"
     ]
    }
   ],
   "source": [
    "print(text[3])"
   ]
  },
  {
   "cell_type": "code",
   "execution_count": 18,
   "id": "f333316a-525b-4b46-835a-ed73a79159cd",
   "metadata": {},
   "outputs": [
    {
     "name": "stdout",
     "output_type": "stream",
     "text": [
      "- Título: Introdução à Inteligência Artificial\n",
      "\n",
      "- Título: O que é Inteligência Artificial?\n",
      "\n",
      "- Título: Como funciona a Inteligência Artificial?\n",
      "\n",
      "- Título: Benefícios e Desafios da Inteligência Artificial\n",
      "\n",
      "- Título: Futuro da Inteligência Artificial\n",
      "\n"
     ]
    }
   ],
   "source": [
    "for line in text:\n",
    "    if \"Título\" in line:\n",
    "        print(line)"
   ]
  },
  {
   "cell_type": "code",
   "execution_count": 19,
   "id": "a6eac0b6-ff5f-4139-909a-6cd991b89b7e",
   "metadata": {},
   "outputs": [
    {
     "name": "stdout",
     "output_type": "stream",
     "text": [
      "- Título: Introdução à Inteligência Artificial\n",
      "\n"
     ]
    }
   ],
   "source": [
    "if \"Título\" in text[1]:\n",
    "    print(text[1])"
   ]
  },
  {
   "cell_type": "code",
   "execution_count": null,
   "id": "55140602-adb3-4742-8907-33f8cf9af1ab",
   "metadata": {},
   "outputs": [],
   "source": []
  }
 ],
 "metadata": {
  "kernelspec": {
   "display_name": "Python 3 (ipykernel)",
   "language": "python",
   "name": "python3"
  },
  "language_info": {
   "codemirror_mode": {
    "name": "ipython",
    "version": 3
   },
   "file_extension": ".py",
   "mimetype": "text/x-python",
   "name": "python",
   "nbconvert_exporter": "python",
   "pygments_lexer": "ipython3",
   "version": "3.9.1"
  }
 },
 "nbformat": 4,
 "nbformat_minor": 5
}
