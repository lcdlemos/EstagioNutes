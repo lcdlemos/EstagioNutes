{
 "cells": [
  {
   "cell_type": "code",
   "execution_count": 1,
   "id": "aa41a05c-fe9d-4a7b-89b7-a8b7c49c47f1",
   "metadata": {},
   "outputs": [],
   "source": [
    "from senha import API_KEY"
   ]
  },
  {
   "cell_type": "code",
   "execution_count": 2,
   "id": "3fdf00dd-adf3-4437-afec-fccffb139789",
   "metadata": {},
   "outputs": [],
   "source": [
    "import requests"
   ]
  },
  {
   "cell_type": "code",
   "execution_count": 3,
   "id": "b122ee70-3782-4c3f-84df-396fbb9f303b",
   "metadata": {},
   "outputs": [],
   "source": [
    "import json"
   ]
  },
  {
   "cell_type": "code",
   "execution_count": 4,
   "id": "2062d8c8-1bd7-491a-b6e9-3c948baebb09",
   "metadata": {},
   "outputs": [],
   "source": [
    "headers = {\"Authorization\": f\"Bearer {API_KEY}\", \"Content-Type\": \"application/json\"}\n",
    "id_modelo = \"dall-e-3\"\n",
    "link = \"https://api.openai.com/v1/images/generations\""
   ]
  },
  {
   "cell_type": "code",
   "execution_count": 5,
   "id": "beeb6640-f46b-4261-8128-aeb174fc7c2d",
   "metadata": {},
   "outputs": [],
   "source": [
    "body_message = {\n",
    "    \"model\": id_modelo,\n",
    "    \"prompt\": \"Inteligência Artificial em Tons de Verde\",\n",
    "    \"n\": 1,\n",
    "    \"size\": \"1024x1024\",\n",
    "}"
   ]
  },
  {
   "cell_type": "code",
   "execution_count": 6,
   "id": "88209f6a-0ffd-4278-968c-4359d603de17",
   "metadata": {},
   "outputs": [],
   "source": [
    "body_message = json.dumps(body_message)"
   ]
  },
  {
   "cell_type": "code",
   "execution_count": 7,
   "id": "a38e204c-a74d-4cce-8f14-6cb5f8cdada1",
   "metadata": {},
   "outputs": [],
   "source": [
    "requisicao = requests.post(link, headers=headers, data=body_message)"
   ]
  },
  {
   "cell_type": "code",
   "execution_count": 8,
   "id": "af62ca30-6b90-4bab-b5a8-d351cbb54cbd",
   "metadata": {},
   "outputs": [
    {
     "name": "stdout",
     "output_type": "stream",
     "text": [
      "<Response [200]>\n"
     ]
    }
   ],
   "source": [
    "print(requisicao)"
   ]
  },
  {
   "cell_type": "code",
   "execution_count": 9,
   "id": "8c5768bd-28d8-4b2d-9541-fc049c254542",
   "metadata": {},
   "outputs": [
    {
     "name": "stdout",
     "output_type": "stream",
     "text": [
      "{\n",
      "  \"created\": 1715908540,\n",
      "  \"data\": [\n",
      "    {\n",
      "      \"revised_prompt\": \"Artificial Intelligence portrayed in shades of green\",\n",
      "      \"url\": \"https://oaidalleapiprodscus.blob.core.windows.net/private/org-MFbAJW6PEVA3uiYiTrPc9goS/user-yMHpi2Q2lmKigtg9uO7D7Abs/img-bBaCJWRmcQS1wpvuAMv55Bj9.png?st=2024-05-17T00%3A15%3A40Z&se=2024-05-17T02%3A15%3A40Z&sp=r&sv=2021-08-06&sr=b&rscd=inline&rsct=image/png&skoid=6aaadede-4fb3-4698-a8f6-684d7786b067&sktid=a48cca56-e6da-484e-a814-9c849652bcb3&skt=2024-05-16T20%3A01%3A55Z&ske=2024-05-17T20%3A01%3A55Z&sks=b&skv=2021-08-06&sig=VA/zIOQJmCEbFZq8K/N0YbeFUiPtmExnD58O4C6H4dE%3D\"\n",
      "    }\n",
      "  ]\n",
      "}\n",
      "\n"
     ]
    }
   ],
   "source": [
    "print(requisicao.text)"
   ]
  },
  {
   "cell_type": "code",
   "execution_count": 13,
   "id": "b7f52f5b-db2a-4a56-a1c0-60a3540e9040",
   "metadata": {},
   "outputs": [],
   "source": [
    "resposta = requisicao.json()"
   ]
  },
  {
   "cell_type": "code",
   "execution_count": 14,
   "id": "d8f4bc81-c11d-454a-900a-ea9bd513746a",
   "metadata": {},
   "outputs": [
    {
     "name": "stdout",
     "output_type": "stream",
     "text": [
      "https://oaidalleapiprodscus.blob.core.windows.net/private/org-MFbAJW6PEVA3uiYiTrPc9goS/user-yMHpi2Q2lmKigtg9uO7D7Abs/img-bBaCJWRmcQS1wpvuAMv55Bj9.png?st=2024-05-17T00%3A15%3A40Z&se=2024-05-17T02%3A15%3A40Z&sp=r&sv=2021-08-06&sr=b&rscd=inline&rsct=image/png&skoid=6aaadede-4fb3-4698-a8f6-684d7786b067&sktid=a48cca56-e6da-484e-a814-9c849652bcb3&skt=2024-05-16T20%3A01%3A55Z&ske=2024-05-17T20%3A01%3A55Z&sks=b&skv=2021-08-06&sig=VA/zIOQJmCEbFZq8K/N0YbeFUiPtmExnD58O4C6H4dE%3D\n"
     ]
    }
   ],
   "source": [
    "print(resposta['data'][0]['url'])"
   ]
  },
  {
   "cell_type": "code",
   "execution_count": 16,
   "id": "c8ff92d5-74ed-4b24-8331-8a153a8463dc",
   "metadata": {},
   "outputs": [
    {
     "name": "stdout",
     "output_type": "stream",
     "text": [
      "Imagem salva! =)\n"
     ]
    }
   ],
   "source": [
    "with open('iaverde.jpeg', 'wb') as imagem:\n",
    "    resposta = requests.get(resposta['data'][0]['url'], stream=True)\n",
    "\n",
    "    if not resposta.ok:\n",
    "        print(\"Ocorreu um erro, status:\" , resposta.status_code)\n",
    "    else:\n",
    "        for dado in resposta.iter_content(1024):\n",
    "            if not dado:\n",
    "                break\n",
    "        \n",
    "            imagem.write(dado)\n",
    "\n",
    "        print(\"Imagem salva! =)\")"
   ]
  },
  {
   "cell_type": "code",
   "execution_count": 18,
   "id": "0d7fa811-fbf3-4e32-b629-500b405834dd",
   "metadata": {},
   "outputs": [
    {
     "data": {
      "text/plain": [
       "('./imagem_url.jpeg', <http.client.HTTPMessage at 0x2013d14ba00>)"
      ]
     },
     "execution_count": 18,
     "metadata": {},
     "output_type": "execute_result"
    }
   ],
   "source": [
    "import urllib.request\n",
    "url_image = \"https://oaidalleapiprodscus.blob.core.windows.net/private/org-MFbAJW6PEVA3uiYiTrPc9goS/user-yMHpi2Q2lmKigtg9uO7D7Abs/img-bBaCJWRmcQS1wpvuAMv55Bj9.png?st=2024-05-17T00%3A15%3A40Z&se=2024-05-17T02%3A15%3A40Z&sp=r&sv=2021-08-06&sr=b&rscd=inline&rsct=image/png&skoid=6aaadede-4fb3-4698-a8f6-684d7786b067&sktid=a48cca56-e6da-484e-a814-9c849652bcb3&skt=2024-05-16T20%3A01%3A55Z&ske=2024-05-17T20%3A01%3A55Z&sks=b&skv=2021-08-06&sig=VA/zIOQJmCEbFZq8K/N0YbeFUiPtmExnD58O4C6H4dE%3D\"\n",
    "urllib.request.urlretrieve(url_image, \"./imagem_url.jpeg\")"
   ]
  },
  {
   "cell_type": "code",
   "execution_count": null,
   "id": "b151642c-6fd8-4f30-bc26-8bf433176925",
   "metadata": {},
   "outputs": [],
   "source": []
  }
 ],
 "metadata": {
  "kernelspec": {
   "display_name": "Python 3 (ipykernel)",
   "language": "python",
   "name": "python3"
  },
  "language_info": {
   "codemirror_mode": {
    "name": "ipython",
    "version": 3
   },
   "file_extension": ".py",
   "mimetype": "text/x-python",
   "name": "python",
   "nbconvert_exporter": "python",
   "pygments_lexer": "ipython3",
   "version": "3.9.1"
  }
 },
 "nbformat": 4,
 "nbformat_minor": 5
}
