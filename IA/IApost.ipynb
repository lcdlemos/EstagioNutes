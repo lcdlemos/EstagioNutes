{
 "cells": [
  {
   "cell_type": "code",
   "execution_count": 1,
   "id": "b3ab80fc-6198-450f-9c3b-b6a8234c6014",
   "metadata": {},
   "outputs": [],
   "source": [
    "from senha import API_KEY"
   ]
  },
  {
   "cell_type": "code",
   "execution_count": 2,
   "id": "e836f3fd-95f3-4d2f-993d-4ed0c59521cb",
   "metadata": {},
   "outputs": [],
   "source": [
    "import requests"
   ]
  },
  {
   "cell_type": "code",
   "execution_count": 3,
   "id": "c0a4475f-1535-4eed-9f96-42fbd3ffc3c7",
   "metadata": {},
   "outputs": [],
   "source": [
    "import json"
   ]
  },
  {
   "cell_type": "code",
   "execution_count": 4,
   "id": "33beea40-f6c5-4ffa-b760-92fc3ac0dedc",
   "metadata": {},
   "outputs": [],
   "source": [
    "headers = {\"Authorization\": f\"Bearer {API_KEY}\", \"Content-Type\": \"application/json\"}\n",
    "id_modelo = \"gpt-3.5-turbo\"\n",
    "link = \"https://api.openai.com/v1/chat/completions\""
   ]
  },
  {
   "cell_type": "code",
   "execution_count": 5,
   "id": "62565aad-a6fe-40eb-99c7-bff6be8af0e8",
   "metadata": {},
   "outputs": [],
   "source": [
    "body_message = {\n",
    "    \"model\": id_modelo,\n",
    "     \"messages\": [\n",
    "         {\"role\": \"user\", \"content\": \"Faça uma apresentação sobre inteligencia artifical com 10 slides incluindo capa. Na capa, identifique o título e autor com nome de luiz carlos. Nos demais slides, além dos tópicos, identifique o título em cada slide.\"}\n",
    "     ],\n",
    "}"
   ]
  },
  {
   "cell_type": "code",
   "execution_count": 6,
   "id": "ceaaa224-4308-4f82-abd2-32ef0ac9d125",
   "metadata": {},
   "outputs": [],
   "source": [
    "# Tranforma dicionário Python em Json\n",
    "body_message = json.dumps(body_message)"
   ]
  },
  {
   "cell_type": "code",
   "execution_count": 7,
   "id": "17731a06-5883-4ce6-8e2a-77adce10926e",
   "metadata": {},
   "outputs": [],
   "source": [
    "requisicao = requests.post(link, headers=headers, data=body_message)"
   ]
  },
  {
   "cell_type": "code",
   "execution_count": 8,
   "id": "78dfe86a-1009-4f7b-ae2d-245bc9c2375d",
   "metadata": {},
   "outputs": [
    {
     "name": "stdout",
     "output_type": "stream",
     "text": [
      "<Response [200]>\n"
     ]
    }
   ],
   "source": [
    "print(requisicao)"
   ]
  },
  {
   "cell_type": "code",
   "execution_count": 9,
   "id": "ba51b7a0-74ef-46d6-bcef-f98e6249b598",
   "metadata": {},
   "outputs": [
    {
     "name": "stdout",
     "output_type": "stream",
     "text": [
      "{\n",
      "  \"id\": \"chatcmpl-9PfwIdDDn1mc7XBFS48p4aGPaCcSH\",\n",
      "  \"object\": \"chat.completion\",\n",
      "  \"created\": 1715906442,\n",
      "  \"model\": \"gpt-3.5-turbo-0125\",\n",
      "  \"choices\": [\n",
      "    {\n",
      "      \"index\": 0,\n",
      "      \"message\": {\n",
      "        \"role\": \"assistant\",\n",
      "        \"content\": \"Slide 1:\\n\\nTítulo: Inteligência Artificial\\nAutor: Luiz Carlos\\n\\nSlide 2:\\n\\nTítulo: O que é Inteligência Artificial?\\n- Conceito\\n- História\\n- Aplicações\\n\\nSlide 3:\\n\\nTítulo: Como funciona a Inteligência Artificial?\\n- Algoritmos\\n- Aprendizado de Máquina\\n- Redes Neurais\\n\\nSlide 4:\\n\\nTítulo: Tipos de Inteligência Artificial\\n- IA Fraca\\n- IA Forte\\n- IA Generalizada\\n\\nSlide 5:\\n\\nTítulo: Aplicações da Inteligência Artificial\\n- Setor financeiro\\n- Saúde\\n- Indústria\\n- Marketing\\n\\nSlide 6:\\n\\nTítulo: Vantagens da Inteligência Artificial\\n- Automatização de tarefas\\n- Tomada de decisões mais precisas\\n- Redução de erros\\n\\nSlide 7:\\n\\nTítulo: Desafios da Inteligência Artificial\\n- Ética\\n- Segurança\\n- Desemprego\\n\\nSlide 8:\\n\\nTítulo: Futuro da Inteligência Artificial\\n- Desenvolvimentos futuros\\n- Impacto na sociedade\\n\\nSlide 9:\\n\\nTítulo: Exemplos de Inteligência Artificial no dia a dia\\n- Assistente virtual\\n- Reconhecimento facial\\n- Carros autônomos\\n\\nSlide 10:\\n\\nTítulo: Conclusão\\n- Importância\\n- Evolução constante\\n- Potencialidades futuras\\n\\nFim da apresentação. Obrigado!\"\n",
      "      },\n",
      "      \"logprobs\": null,\n",
      "      \"finish_reason\": \"stop\"\n",
      "    }\n",
      "  ],\n",
      "  \"usage\": {\n",
      "    \"prompt_tokens\": 66,\n",
      "    \"completion_tokens\": 326,\n",
      "    \"total_tokens\": 392\n",
      "  },\n",
      "  \"system_fingerprint\": null\n",
      "}\n",
      "\n"
     ]
    }
   ],
   "source": [
    "print(requisicao.text)"
   ]
  },
  {
   "cell_type": "code",
   "execution_count": 10,
   "id": "9ad3bdbf-07da-4874-acf0-c3b8326047cf",
   "metadata": {},
   "outputs": [],
   "source": [
    "body_message = {\n",
    "    \"model\": id_modelo,\n",
    "     \"messages\": [\n",
    "         {\"role\": \"user\", \"content\": \"Como vincular Google Imagens ao Python?\"}\n",
    "     ],\n",
    "}"
   ]
  },
  {
   "cell_type": "code",
   "execution_count": 11,
   "id": "12cd8c50-2174-412c-90f8-7b2e43986785",
   "metadata": {},
   "outputs": [],
   "source": [
    "body_message = json.dumps(body_message)"
   ]
  },
  {
   "cell_type": "code",
   "execution_count": 12,
   "id": "c1293a27-23bd-40b8-a0ff-61a627bf40c8",
   "metadata": {},
   "outputs": [],
   "source": [
    "requisicao = requests.post(link, headers=headers, data=body_message)"
   ]
  },
  {
   "cell_type": "code",
   "execution_count": 13,
   "id": "bee5e8f7-eac3-46e2-8663-d5d818ba7606",
   "metadata": {},
   "outputs": [
    {
     "name": "stdout",
     "output_type": "stream",
     "text": [
      "<Response [200]>\n"
     ]
    }
   ],
   "source": [
    "print(requisicao)"
   ]
  },
  {
   "cell_type": "code",
   "execution_count": 14,
   "id": "6787ad6c-8a9e-4a78-b7aa-691b8631fd32",
   "metadata": {},
   "outputs": [
    {
     "name": "stdout",
     "output_type": "stream",
     "text": [
      "{\n",
      "  \"id\": \"chatcmpl-9PfwP762KQr33viGaQPjiNPu8OVfa\",\n",
      "  \"object\": \"chat.completion\",\n",
      "  \"created\": 1715906449,\n",
      "  \"model\": \"gpt-3.5-turbo-0125\",\n",
      "  \"choices\": [\n",
      "    {\n",
      "      \"index\": 0,\n",
      "      \"message\": {\n",
      "        \"role\": \"assistant\",\n",
      "        \"content\": \"Para vincular o Google Imagens ao Python, você pode utilizar a biblioteca `google_images_download` que permite fazer download de imagens do Google.\\n\\nPara instalar o `google_images_download`, você pode executar o seguinte comando no terminal:\\n\\n```\\npip install google_images_download\\n```\\n\\nApós instalar a biblioteca, você pode utilizar o seguinte código Python para fazer o download de imagens do Google:\\n\\n```python\\nfrom google_images_download import google_images_download\\n\\nresponse = google_images_download.googleimagesdownload()\\n\\narguments = {\\\"keywords\\\":\\\"dog\\\", \\\"limit\\\":5, \\\"print_urls\\\":True}\\npaths = response.download(arguments)\\n```\\n\\nEste código irá fazer o download de 5 imagens de cachorros e exibirá as URLs das imagens baixadas. Você pode alterar o termo de pesquisa e o número limite de imagens de acordo com suas necessidades.\\n\\nLembre-se de que é importante respeitar os termos de uso do Google Imagens e garantir que você está fazendo o download de imagens de forma legal e ética.\"\n",
      "      },\n",
      "      \"logprobs\": null,\n",
      "      \"finish_reason\": \"stop\"\n",
      "    }\n",
      "  ],\n",
      "  \"usage\": {\n",
      "    \"prompt_tokens\": 16,\n",
      "    \"completion_tokens\": 225,\n",
      "    \"total_tokens\": 241\n",
      "  },\n",
      "  \"system_fingerprint\": null\n",
      "}\n",
      "\n"
     ]
    }
   ],
   "source": [
    "print(requisicao.text)"
   ]
  },
  {
   "cell_type": "code",
   "execution_count": null,
   "id": "3970c6e6-039d-49eb-9283-fcd5fe631676",
   "metadata": {},
   "outputs": [],
   "source": []
  },
  {
   "cell_type": "code",
   "execution_count": null,
   "id": "29f1137d-0611-463f-a903-c261615c6a93",
   "metadata": {},
   "outputs": [],
   "source": []
  }
 ],
 "metadata": {
  "kernelspec": {
   "display_name": "Python 3 (ipykernel)",
   "language": "python",
   "name": "python3"
  },
  "language_info": {
   "codemirror_mode": {
    "name": "ipython",
    "version": 3
   },
   "file_extension": ".py",
   "mimetype": "text/x-python",
   "name": "python",
   "nbconvert_exporter": "python",
   "pygments_lexer": "ipython3",
   "version": "3.9.1"
  }
 },
 "nbformat": 4,
 "nbformat_minor": 5
}
