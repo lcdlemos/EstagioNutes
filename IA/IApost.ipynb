{
 "cells": [
  {
   "cell_type": "code",
   "execution_count": 1,
   "id": "b3ab80fc-6198-450f-9c3b-b6a8234c6014",
   "metadata": {},
   "outputs": [],
   "source": [
    "from senha import API_KEY"
   ]
  },
  {
   "cell_type": "code",
   "execution_count": 2,
   "id": "e836f3fd-95f3-4d2f-993d-4ed0c59521cb",
   "metadata": {},
   "outputs": [],
   "source": [
    "import requests"
   ]
  },
  {
   "cell_type": "code",
   "execution_count": 3,
   "id": "c0a4475f-1535-4eed-9f96-42fbd3ffc3c7",
   "metadata": {},
   "outputs": [],
   "source": [
    "import json"
   ]
  },
  {
   "cell_type": "code",
   "execution_count": 4,
   "id": "33beea40-f6c5-4ffa-b760-92fc3ac0dedc",
   "metadata": {},
   "outputs": [],
   "source": [
    "headers = {\"Authorization\": f\"Bearer {API_KEY}\", \"Content-Type\": \"application/json\"}\n",
    "id_modelo = \"gpt-3.5-turbo\"\n",
    "link = \"https://api.openai.com/v1/chat/completions\""
   ]
  },
  {
   "cell_type": "code",
   "execution_count": 5,
   "id": "62565aad-a6fe-40eb-99c7-bff6be8af0e8",
   "metadata": {},
   "outputs": [],
   "source": [
    "body_message = {\n",
    "    \"model\": id_modelo,\n",
    "     \"messages\": [\n",
    "         {\"role\": \"user\", \"content\": \"Faça uma apresentação sobre são joão de campina grande com 10 slides incluindo capa. Na capa, identifique o título e autor com nome de luiz gonzaga. Nos demais slides, além dos tópicos, identifique o título em cada slide.\"}\n",
    "     ],\n",
    "}"
   ]
  },
  {
   "cell_type": "code",
   "execution_count": 6,
   "id": "ceaaa224-4308-4f82-abd2-32ef0ac9d125",
   "metadata": {},
   "outputs": [],
   "source": [
    "# Tranforma dicionário Python em Json\n",
    "body_message = json.dumps(body_message)"
   ]
  },
  {
   "cell_type": "code",
   "execution_count": 7,
   "id": "17731a06-5883-4ce6-8e2a-77adce10926e",
   "metadata": {},
   "outputs": [],
   "source": [
    "requisicao = requests.post(link, headers=headers, data=body_message)"
   ]
  },
  {
   "cell_type": "code",
   "execution_count": 8,
   "id": "78dfe86a-1009-4f7b-ae2d-245bc9c2375d",
   "metadata": {},
   "outputs": [
    {
     "name": "stdout",
     "output_type": "stream",
     "text": [
      "<Response [200]>\n"
     ]
    }
   ],
   "source": [
    "print(requisicao)"
   ]
  },
  {
   "cell_type": "code",
   "execution_count": 9,
   "id": "a45690c4-b060-49df-9281-a834173b60c2",
   "metadata": {},
   "outputs": [],
   "source": [
    "resposta = requisicao.json()"
   ]
  },
  {
   "cell_type": "code",
   "execution_count": 10,
   "id": "691e9acb-8c7b-4291-8c7f-965c0bc948f4",
   "metadata": {},
   "outputs": [],
   "source": [
    "file = open(\"info_presentation.txt\",\"w\", encoding = \"utf-8\")\n",
    "file.write(resposta['choices'][0]['message']['content'])\n",
    "file.close()"
   ]
  },
  {
   "cell_type": "code",
   "execution_count": 11,
   "id": "aaff12bf-c3bc-4f3a-8a53-928ffbd83f5a",
   "metadata": {},
   "outputs": [
    {
     "name": "stdout",
     "output_type": "stream",
     "text": [
      "['Slide 1: \\n', 'Título: São João de Campina Grande\\n', 'Autor: Luiz Gonzaga\\n', '\\n', 'Slide 2:\\n', 'Título: O que é São João de Campina Grande\\n', '- Maior festa de São João do mundo\\n', '- Localizada na Paraíba\\n', '- Atrai milhões de turistas todos os anos\\n', '\\n', 'Slide 3:\\n', 'Título: Atrações musicais\\n', '- Shows de artistas renomados\\n', '- Forró pé de serra\\n', '- Trios de sanfoneiros\\n', '\\n', 'Slide 4:\\n', 'Título: Quadrilhas juninas\\n', '- Competições de quadrilhas\\n', '- Cores e animação\\n', '- Tradição junina\\n', '\\n', 'Slide 5:\\n', 'Título: Gastronomia\\n', '- Comidas típicas\\n', '- Milho cozido\\n', '- Canjica\\n', '- Pé de moleque\\n', '\\n', 'Slide 6:\\n', 'Título: Parque do Povo\\n', '- Local das festividades\\n', '- Decoração temática\\n', '- Espaço para shows e barracas de comidas\\n', '\\n', 'Slide 7:\\n', 'Título: Curiosidades\\n', '- Fogueira gigante\\n', '- Casamento coletivo\\n', '- Programação diversificada\\n', '\\n', 'Slide 8:\\n', 'Título: Economia local\\n', '- Geração de empregos\\n', '- Movimentação financeira\\n', '- Fomento ao turismo\\n', '\\n', 'Slide 9:\\n', 'Título: Impacto cultural\\n', '- Preservação da tradição junina\\n', '- Valorização da cultura nordestina\\n', '- Integração entre comunidade e turistas\\n', '\\n', 'Slide 10:\\n', 'Título: Conclusão\\n']\n"
     ]
    }
   ],
   "source": [
    "with open(\"info_presentation.txt\", \"r\", encoding=\"utf-8\") as arquivo:\n",
    "        texto = arquivo.readlines()\n",
    "    \n",
    "texto.pop()\n",
    "texto"
   ]
  },
  {
   "cell_type": "code",
   "execution_count": null,
   "id": "f2087f3b-86b7-4820-b32a-1033c2e71bf7",
   "metadata": {},
   "outputs": [],
   "source": []
  }
 ],
 "metadata": {
  "kernelspec": {
   "display_name": "Python 3 (ipykernel)",
   "language": "python",
   "name": "python3"
  },
  "language_info": {
   "codemirror_mode": {
    "name": "ipython",
    "version": 3
   },
   "file_extension": ".py",
   "mimetype": "text/x-python",
   "name": "python",
   "nbconvert_exporter": "python",
   "pygments_lexer": "ipython3",
   "version": "3.9.1"
  }
 },
 "nbformat": 4,
 "nbformat_minor": 5
}
