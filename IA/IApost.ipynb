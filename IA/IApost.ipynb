{
 "cells": [
  {
   "cell_type": "code",
   "execution_count": 1,
   "id": "b3ab80fc-6198-450f-9c3b-b6a8234c6014",
   "metadata": {},
   "outputs": [],
   "source": [
    "from senha import API_KEY"
   ]
  },
  {
   "cell_type": "code",
   "execution_count": 2,
   "id": "e836f3fd-95f3-4d2f-993d-4ed0c59521cb",
   "metadata": {},
   "outputs": [],
   "source": [
    "import requests"
   ]
  },
  {
   "cell_type": "code",
   "execution_count": 3,
   "id": "c0a4475f-1535-4eed-9f96-42fbd3ffc3c7",
   "metadata": {},
   "outputs": [],
   "source": [
    "import json"
   ]
  },
  {
   "cell_type": "code",
   "execution_count": 4,
   "id": "33beea40-f6c5-4ffa-b760-92fc3ac0dedc",
   "metadata": {},
   "outputs": [],
   "source": [
    "headers = {\"Authorization\": f\"Bearer {API_KEY}\", \"Content-Type\": \"application/json\"}\n",
    "id_modelo = \"gpt-3.5-turbo\"\n",
    "link = \"https://api.openai.com/v1/chat/completions\""
   ]
  },
  {
   "cell_type": "code",
   "execution_count": 15,
   "id": "62565aad-a6fe-40eb-99c7-bff6be8af0e8",
   "metadata": {},
   "outputs": [],
   "source": [
    "body_message = {\n",
    "    \"model\": id_modelo,\n",
    "     \"messages\": [\n",
    "         {\"role\": \"user\", \"content\": \"O que é Midjourney?\"}\n",
    "     ],\n",
    "}"
   ]
  },
  {
   "cell_type": "code",
   "execution_count": 16,
   "id": "ceaaa224-4308-4f82-abd2-32ef0ac9d125",
   "metadata": {},
   "outputs": [],
   "source": [
    "# Tranforma dicionário Python em Json\n",
    "body_message = json.dumps(body_message)"
   ]
  },
  {
   "cell_type": "code",
   "execution_count": 17,
   "id": "17731a06-5883-4ce6-8e2a-77adce10926e",
   "metadata": {},
   "outputs": [],
   "source": [
    "requisicao = requests.post(link, headers=headers, data=body_message)"
   ]
  },
  {
   "cell_type": "code",
   "execution_count": 19,
   "id": "78dfe86a-1009-4f7b-ae2d-245bc9c2375d",
   "metadata": {},
   "outputs": [
    {
     "name": "stdout",
     "output_type": "stream",
     "text": [
      "<Response [200]>\n"
     ]
    }
   ],
   "source": [
    "print(requisicao)"
   ]
  },
  {
   "cell_type": "code",
   "execution_count": 20,
   "id": "ba51b7a0-74ef-46d6-bcef-f98e6249b598",
   "metadata": {},
   "outputs": [
    {
     "name": "stdout",
     "output_type": "stream",
     "text": [
      "{\n",
      "  \"id\": \"chatcmpl-8G6Jf4rbFD2QOuHaWeKiDXLZ6qugY\",\n",
      "  \"object\": \"chat.completion\",\n",
      "  \"created\": 1698848219,\n",
      "  \"model\": \"gpt-3.5-turbo-0613\",\n",
      "  \"choices\": [\n",
      "    {\n",
      "      \"index\": 0,\n",
      "      \"message\": {\n",
      "        \"role\": \"assistant\",\n",
      "        \"content\": \"Midjourney é um termo utilizado no marketing e no desenvolvimento de produtos para se referir à fase intermediária na jornada do consumidor. É um estágio em que o consumidor já tem conhecimento sobre uma marca ou produto, mas ainda não está pronto para tomar uma decisão de compra.\\n\\nDurante a fase midjourney, os profissionais de marketing e equipes de desenvolvimento de produtos trabalham para fornecer informações e experiências relevantes que ajudem o consumidor a avançar em sua jornada de compra. Isso pode incluir o fornecimento de conteúdos educativos, demonstrações de produtos, depoimentos de clientes e outras estratégias de engajamento.\\n\\nA ideia por trás do midjourney é criar um relacionamento contínuo com o consumidor, estabelecendo confiança e oferecendo suporte para ajudá-lo a tomar uma decisão de compra informada. Ao fazer isso, as marcas têm a chance de converter um lead em cliente fiel.\"\n",
      "      },\n",
      "      \"finish_reason\": \"stop\"\n",
      "    }\n",
      "  ],\n",
      "  \"usage\": {\n",
      "    \"prompt_tokens\": 14,\n",
      "    \"completion_tokens\": 220,\n",
      "    \"total_tokens\": 234\n",
      "  }\n",
      "}\n",
      "\n"
     ]
    }
   ],
   "source": [
    "print(requisicao.text)"
   ]
  },
  {
   "cell_type": "code",
   "execution_count": 10,
   "id": "9ad3bdbf-07da-4874-acf0-c3b8326047cf",
   "metadata": {},
   "outputs": [],
   "source": [
    "body_message = {\n",
    "    \"model\": id_modelo,\n",
    "     \"messages\": [\n",
    "         {\"role\": \"user\", \"content\": \"Como vincular Google Imagens ao Python?\"}\n",
    "     ],\n",
    "}"
   ]
  },
  {
   "cell_type": "code",
   "execution_count": 11,
   "id": "12cd8c50-2174-412c-90f8-7b2e43986785",
   "metadata": {},
   "outputs": [],
   "source": [
    "body_message = json.dumps(body_message)"
   ]
  },
  {
   "cell_type": "code",
   "execution_count": 12,
   "id": "c1293a27-23bd-40b8-a0ff-61a627bf40c8",
   "metadata": {},
   "outputs": [],
   "source": [
    "requisicao = requests.post(link, headers=headers, data=body_message)"
   ]
  },
  {
   "cell_type": "code",
   "execution_count": 13,
   "id": "bee5e8f7-eac3-46e2-8663-d5d818ba7606",
   "metadata": {},
   "outputs": [
    {
     "name": "stdout",
     "output_type": "stream",
     "text": [
      "<Response [200]>\n"
     ]
    }
   ],
   "source": [
    "print(requisicao)"
   ]
  },
  {
   "cell_type": "code",
   "execution_count": 14,
   "id": "6787ad6c-8a9e-4a78-b7aa-691b8631fd32",
   "metadata": {},
   "outputs": [
    {
     "name": "stdout",
     "output_type": "stream",
     "text": [
      "{\n",
      "  \"id\": \"chatcmpl-8G5nfGLIQ1Dom4mhnNaz5Dwf5inSh\",\n",
      "  \"object\": \"chat.completion\",\n",
      "  \"created\": 1698846235,\n",
      "  \"model\": \"gpt-3.5-turbo-0613\",\n",
      "  \"choices\": [\n",
      "    {\n",
      "      \"index\": 0,\n",
      "      \"message\": {\n",
      "        \"role\": \"assistant\",\n",
      "        \"content\": \"Você pode vincular o Google Imagens com Python usando a biblioteca `google_images_search`. \\n\\nPrimeiro, você precisa instalar a biblioteca usando o pip:\\n\\n```\\npip install google_images_search\\n```\\n\\nAgora você pode usar a biblioteca em seu código Python. Veja um exemplo de como obter imagens relacionadas a uma pesquisa usando a biblioteca:\\n\\n```python\\nfrom google_images_search import GoogleImagesSearch\\n\\n# Configurar a chave da API e o ID da pesquisa\\ngis = GoogleImagesSearch('YOUR_API_KEY', 'YOUR_CSE_ID')\\n\\n# Definir a pesquisa\\nsearch_params = {'q': 'cachorro'}\\n\\n# Fazer a pesquisa\\ngis.search(search_params)\\n\\n# Obter as primeiras 10 imagens\\nfor image in gis.results():\\n    print(image.url)\\n```\\n\\nCertifique-se de substituir `'YOUR_API_KEY'` pelo sua chave de API do Google e `'YOUR_CSE_ID'` pelo seu ID de pesquisa personalizado do Google. Você pode obter sua chave de API e ID de pesquisa personalizado no Console de APIs do Google.\\n\\nEste exemplo irá imprimir as URLs das 10 primeiras imagens relacionadas a \\\"cachorro\\\". Você pode customizar esse código para atender às suas necessidades.\"\n",
      "      },\n",
      "      \"finish_reason\": \"stop\"\n",
      "    }\n",
      "  ],\n",
      "  \"usage\": {\n",
      "    \"prompt_tokens\": 16,\n",
      "    \"completion_tokens\": 268,\n",
      "    \"total_tokens\": 284\n",
      "  }\n",
      "}\n",
      "\n"
     ]
    }
   ],
   "source": [
    "print(requisicao.text)"
   ]
  },
  {
   "cell_type": "code",
   "execution_count": null,
   "id": "3970c6e6-039d-49eb-9283-fcd5fe631676",
   "metadata": {},
   "outputs": [],
   "source": []
  }
 ],
 "metadata": {
  "kernelspec": {
   "display_name": "Python 3 (ipykernel)",
   "language": "python",
   "name": "python3"
  },
  "language_info": {
   "codemirror_mode": {
    "name": "ipython",
    "version": 3
   },
   "file_extension": ".py",
   "mimetype": "text/x-python",
   "name": "python",
   "nbconvert_exporter": "python",
   "pygments_lexer": "ipython3",
   "version": "3.9.1"
  }
 },
 "nbformat": 4,
 "nbformat_minor": 5
}
