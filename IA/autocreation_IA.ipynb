{
 "cells": [
  {
   "cell_type": "code",
   "execution_count": 1,
   "id": "6344f01d-e9b4-4287-ae61-bfd6244797d4",
   "metadata": {},
   "outputs": [],
   "source": [
    "import chat as gpt"
   ]
  },
  {
   "cell_type": "code",
   "execution_count": 2,
   "id": "33605852-3b04-44b4-9b51-181b57755a3d",
   "metadata": {},
   "outputs": [
    {
     "name": "stdin",
     "output_type": "stream",
     "text": [
      "Qual o tema da apresentação? nfl\n"
     ]
    }
   ],
   "source": [
    "tema = input(\"Qual o tema da apresentação?\")"
   ]
  },
  {
   "cell_type": "code",
   "execution_count": 3,
   "id": "f3be2202-8a42-4d80-ada1-34348f47ef47",
   "metadata": {},
   "outputs": [
    {
     "name": "stdin",
     "output_type": "stream",
     "text": [
      "Quantos slides deseja ter? 18\n"
     ]
    }
   ],
   "source": [
    "quantidade = input(\"Quantos slides deseja ter?\")"
   ]
  },
  {
   "cell_type": "code",
   "execution_count": 4,
   "id": "53ac5ef5-3050-4b58-b6da-fec54e9c26a9",
   "metadata": {},
   "outputs": [
    {
     "name": "stdin",
     "output_type": "stream",
     "text": [
      "Qual o nome do autor? tom brady\n"
     ]
    }
   ],
   "source": [
    "autor = input(\"Qual o nome do autor?\")"
   ]
  },
  {
   "cell_type": "code",
   "execution_count": 5,
   "id": "66e10b1b-6a1e-4281-bb1d-cf0d30f538c7",
   "metadata": {},
   "outputs": [
    {
     "name": "stdout",
     "output_type": "stream",
     "text": [
      "<Response [200]>\n"
     ]
    }
   ],
   "source": [
    "gpt.askGPT(tema, quantidade, autor)"
   ]
  },
  {
   "cell_type": "code",
   "execution_count": 6,
   "id": "31d9b76c-f60d-4585-8db2-8fd77c5ef025",
   "metadata": {},
   "outputs": [],
   "source": [
    "nome_arquivo = \"info_presentation.txt\""
   ]
  },
  {
   "cell_type": "code",
   "execution_count": 7,
   "id": "d54d9a48-6433-4d44-8d12-e0f559131826",
   "metadata": {},
   "outputs": [],
   "source": [
    "import funcoes as fun"
   ]
  },
  {
   "cell_type": "code",
   "execution_count": 8,
   "id": "a4e9a2ff-a455-49a4-bd0e-0e1902cee8bc",
   "metadata": {},
   "outputs": [],
   "source": [
    "num_slides = fun.contar_slides(nome_arquivo)"
   ]
  },
  {
   "cell_type": "code",
   "execution_count": 9,
   "id": "599ba805-b6df-47c3-8adc-f6e9d353db9c",
   "metadata": {},
   "outputs": [],
   "source": [
    "texto = fun.ler_arquivo(nome_arquivo)"
   ]
  },
  {
   "cell_type": "code",
   "execution_count": 10,
   "id": "c182ce52-e90c-4ca9-95af-5a5121141972",
   "metadata": {},
   "outputs": [],
   "source": [
    "from pptx import Presentation\n",
    "auto_apresentacao = Presentation()"
   ]
  },
  {
   "cell_type": "code",
   "execution_count": null,
   "id": "ef6b1ac2-ba67-4dca-b75c-8c982f6bd840",
   "metadata": {},
   "outputs": [],
   "source": [
    "fun.criar_capa(auto_apresentacao, texto)\n",
    "titulos = fun.coletar_titulos(texto)\n",
    "topicos = fun.coletar_topicos(texto)\n",
    "slides = fun.adicionar_slides(auto_apresentacao, texto, titulos, topicos, num_slides)"
   ]
  },
  {
   "cell_type": "code",
   "execution_count": null,
   "id": "667757b6-bfb3-40ec-b8d3-daa2a87e9171",
   "metadata": {},
   "outputs": [],
   "source": [
    "auto_apresentacao.save(\"auto_apresentacao_IA.pptx\")"
   ]
  }
 ],
 "metadata": {
  "kernelspec": {
   "display_name": "Python 3 (ipykernel)",
   "language": "python",
   "name": "python3"
  },
  "language_info": {
   "codemirror_mode": {
    "name": "ipython",
    "version": 3
   },
   "file_extension": ".py",
   "mimetype": "text/x-python",
   "name": "python",
   "nbconvert_exporter": "python",
   "pygments_lexer": "ipython3",
   "version": "3.9.1"
  }
 },
 "nbformat": 4,
 "nbformat_minor": 5
}
