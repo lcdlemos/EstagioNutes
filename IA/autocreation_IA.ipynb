{
 "cells": [
  {
   "cell_type": "code",
   "execution_count": 1,
   "id": "31d9b76c-f60d-4585-8db2-8fd77c5ef025",
   "metadata": {},
   "outputs": [],
   "source": [
    "nome_arquivo = \"info_presentation.txt\""
   ]
  },
  {
   "cell_type": "code",
   "execution_count": 2,
   "id": "d54d9a48-6433-4d44-8d12-e0f559131826",
   "metadata": {},
   "outputs": [
    {
     "ename": "ModuleNotFoundError",
     "evalue": "No module named 'idkey'",
     "output_type": "error",
     "traceback": [
      "\u001b[1;31m---------------------------------------------------------------------------\u001b[0m",
      "\u001b[1;31mModuleNotFoundError\u001b[0m                       Traceback (most recent call last)",
      "Cell \u001b[1;32mIn[2], line 1\u001b[0m\n\u001b[1;32m----> 1\u001b[0m \u001b[38;5;28;01mimport\u001b[39;00m \u001b[38;5;21;01mfuncoes\u001b[39;00m \u001b[38;5;28;01mas\u001b[39;00m \u001b[38;5;21;01mfun\u001b[39;00m\n",
      "File \u001b[1;32m~\\Documents\\UEPB\\Estágio\\IA\\funcoes.py:5\u001b[0m\n\u001b[0;32m      3\u001b[0m \u001b[38;5;28;01mimport\u001b[39;00m \u001b[38;5;21;01mrequests\u001b[39;00m\n\u001b[0;32m      4\u001b[0m \u001b[38;5;28;01mimport\u001b[39;00m \u001b[38;5;21;01mjson\u001b[39;00m\n\u001b[1;32m----> 5\u001b[0m \u001b[38;5;28;01mfrom\u001b[39;00m \u001b[38;5;21;01midkey\u001b[39;00m \u001b[38;5;28;01mimport\u001b[39;00m id_key\n\u001b[0;32m      6\u001b[0m \u001b[38;5;28;01mimport\u001b[39;00m \u001b[38;5;21;01murllib\u001b[39;00m\u001b[38;5;21;01m.\u001b[39;00m\u001b[38;5;21;01mrequest\u001b[39;00m\n\u001b[0;32m      7\u001b[0m \u001b[38;5;28;01mfrom\u001b[39;00m \u001b[38;5;21;01mPIL\u001b[39;00m \u001b[38;5;28;01mimport\u001b[39;00m Image\n",
      "\u001b[1;31mModuleNotFoundError\u001b[0m: No module named 'idkey'"
     ]
    }
   ],
   "source": [
    "import funcoes as fun"
   ]
  },
  {
   "cell_type": "code",
   "execution_count": null,
   "id": "a4e9a2ff-a455-49a4-bd0e-0e1902cee8bc",
   "metadata": {},
   "outputs": [],
   "source": [
    "num_slides = fun.contar_slides(nome_arquivo)"
   ]
  },
  {
   "cell_type": "code",
   "execution_count": null,
   "id": "599ba805-b6df-47c3-8adc-f6e9d353db9c",
   "metadata": {},
   "outputs": [],
   "source": [
    "texto = fun.ler_arquivo(nome_arquivo)"
   ]
  },
  {
   "cell_type": "code",
   "execution_count": null,
   "id": "c182ce52-e90c-4ca9-95af-5a5121141972",
   "metadata": {},
   "outputs": [],
   "source": [
    "from pptx import Presentation\n",
    "auto_apresentacao = Presentation()"
   ]
  },
  {
   "cell_type": "code",
   "execution_count": null,
   "id": "ef6b1ac2-ba67-4dca-b75c-8c982f6bd840",
   "metadata": {},
   "outputs": [],
   "source": [
    "fun.criar_capa(auto_apresentacao, texto)\n",
    "titulos = fun.coletar_titulos(texto)\n",
    "topicos = fun.coletar_topicos(texto)\n",
    "slides = fun.adicionar_slides(auto_apresentacao, texto, titulos, topicos, num_slides)"
   ]
  },
  {
   "cell_type": "code",
   "execution_count": null,
   "id": "667757b6-bfb3-40ec-b8d3-daa2a87e9171",
   "metadata": {},
   "outputs": [],
   "source": [
    "auto_apresentacao.save(\"auto_apresentacao_IA.pptx\")"
   ]
  }
 ],
 "metadata": {
  "kernelspec": {
   "display_name": "Python 3 (ipykernel)",
   "language": "python",
   "name": "python3"
  },
  "language_info": {
   "codemirror_mode": {
    "name": "ipython",
    "version": 3
   },
   "file_extension": ".py",
   "mimetype": "text/x-python",
   "name": "python",
   "nbconvert_exporter": "python",
   "pygments_lexer": "ipython3",
   "version": "3.9.1"
  }
 },
 "nbformat": 4,
 "nbformat_minor": 5
}
