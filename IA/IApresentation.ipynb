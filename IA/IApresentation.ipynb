{
 "cells": [
  {
   "cell_type": "code",
   "execution_count": 1,
   "id": "76585670-5a2b-4c63-b8ce-2e37ccb31828",
   "metadata": {},
   "outputs": [],
   "source": [
    "from senha import API_KEY\n",
    "import requests\n",
    "import json"
   ]
  },
  {
   "cell_type": "code",
   "execution_count": 2,
   "id": "6995441f-fe23-40e5-a9ac-83a4183e993d",
   "metadata": {},
   "outputs": [],
   "source": [
    "headers = {\"Authorization\": f\"Bearer {API_KEY}\", \"Content-Type\": \"application/json\"}\n",
    "id_modelo = \"gpt-3.5-turbo\"\n",
    "link = \"https://api.openai.com/v1/chat/completions\""
   ]
  },
  {
   "cell_type": "code",
   "execution_count": 3,
   "id": "2d533b36-ed4c-4875-ad68-fb054daa682d",
   "metadata": {},
   "outputs": [],
   "source": [
    "body_message = {\n",
    "    \"model\": id_modelo,\n",
    "     \"messages\": [\n",
    "         {\"role\": \"user\", \"content\": \"Crie uma apresentação sobre computação, sendo o primeiro slide a capa.\"}\n",
    "     ],\n",
    "}"
   ]
  },
  {
   "cell_type": "code",
   "execution_count": 4,
   "id": "2790932c-909b-4d48-877c-a7d994e7bf41",
   "metadata": {},
   "outputs": [],
   "source": [
    "# Tranforma dicionário Python em Json\n",
    "body_message = json.dumps(body_message)"
   ]
  },
  {
   "cell_type": "code",
   "execution_count": 5,
   "id": "737860cb-7e20-4af3-82ce-e6e5cc8e2d8a",
   "metadata": {},
   "outputs": [],
   "source": [
    "requisicao = requests.post(link, headers=headers, data=body_message)"
   ]
  },
  {
   "cell_type": "code",
   "execution_count": 6,
   "id": "539e8555-b721-44fe-af58-1420bc59abd9",
   "metadata": {},
   "outputs": [
    {
     "name": "stdout",
     "output_type": "stream",
     "text": [
      "<Response [200]>\n"
     ]
    }
   ],
   "source": [
    "print(requisicao)"
   ]
  },
  {
   "cell_type": "code",
   "execution_count": 7,
   "id": "801b3e1d-1aa5-4e84-8849-d168b0af9448",
   "metadata": {},
   "outputs": [
    {
     "name": "stdout",
     "output_type": "stream",
     "text": [
      "{\n",
      "  \"id\": \"chatcmpl-8IgxS5t4lqF0WtCNcaEFJqauUb2G9\",\n",
      "  \"object\": \"chat.completion\",\n",
      "  \"created\": 1699465726,\n",
      "  \"model\": \"gpt-3.5-turbo-0613\",\n",
      "  \"choices\": [\n",
      "    {\n",
      "      \"index\": 0,\n",
      "      \"message\": {\n",
      "        \"role\": \"assistant\",\n",
      "        \"content\": \"Slide 1: Capa\\n(Título: Introdução à Computação)\\n\\n- Fundo: Imagem representativa da tecnologia ou do universo digital (por exemplo, circuitos eletrônicos, linhas de código, bytes ou um computador moderno).\\n\\n- Conteúdo:\\n     1. Nome da Apresentação: Introdução à Computação\\n     2. Nome do Apresentador: [Seu nome]\\n     3. Data: [Data da apresentação]\\n\\n- Layout: Fontes limpas e legíveis com bom contraste em relação ao fundo, como Arial ou Calibri. Tamanhos de fonte e cores adequados para facilitar a leitura.\\n\\nObservações: \\n- Incluir o logotipo ou nome da instituição ou empresa, se necessário.\\n- Se preferir, adicionar um subtítulo com um slogan ou frase impactante relacionada à computação.\\n- Evitar poluição visual, mantendo o design simples e limpo.\\n- Usar cores que transmitam profissionalismo e despertem interesse.\\n\\nDica: Não se esqueça de revisar a ortografia e a gramática antes de prosseguir com os próximos slides!\"\n",
      "      },\n",
      "      \"finish_reason\": \"stop\"\n",
      "    }\n",
      "  ],\n",
      "  \"usage\": {\n",
      "    \"prompt_tokens\": 24,\n",
      "    \"completion_tokens\": 256,\n",
      "    \"total_tokens\": 280\n",
      "  }\n",
      "}\n",
      "\n"
     ]
    }
   ],
   "source": [
    "print(requisicao.text)"
   ]
  },
  {
   "cell_type": "code",
   "execution_count": 8,
   "id": "edb39adf-79ac-4df1-bdba-5bb234b2c4e8",
   "metadata": {},
   "outputs": [],
   "source": [
    "file = open(\"info_presentation.txt\",\"w\")\n",
    "file.write(requisicao.text)\n",
    "file.close()"
   ]
  },
  {
   "cell_type": "code",
   "execution_count": null,
   "id": "a933b2ab-4a59-4c0a-b461-e3a1a0d2051c",
   "metadata": {},
   "outputs": [],
   "source": []
  }
 ],
 "metadata": {
  "kernelspec": {
   "display_name": "Python 3 (ipykernel)",
   "language": "python",
   "name": "python3"
  },
  "language_info": {
   "codemirror_mode": {
    "name": "ipython",
    "version": 3
   },
   "file_extension": ".py",
   "mimetype": "text/x-python",
   "name": "python",
   "nbconvert_exporter": "python",
   "pygments_lexer": "ipython3",
   "version": "3.9.1"
  }
 },
 "nbformat": 4,
 "nbformat_minor": 5
}
