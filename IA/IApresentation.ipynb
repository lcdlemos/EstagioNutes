{
 "cells": [
  {
   "cell_type": "code",
   "execution_count": 1,
   "id": "76585670-5a2b-4c63-b8ce-2e37ccb31828",
   "metadata": {},
   "outputs": [],
   "source": [
    "from senha import API_KEY\n",
    "import requests\n",
    "import json"
   ]
  },
  {
   "cell_type": "code",
   "execution_count": 2,
   "id": "6995441f-fe23-40e5-a9ac-83a4183e993d",
   "metadata": {},
   "outputs": [],
   "source": [
    "headers = {\"Authorization\": f\"Bearer {API_KEY}\", \"Content-Type\": \"application/json\"}\n",
    "id_modelo = \"gpt-3.5-turbo\"\n",
    "link = \"https://api.openai.com/v1/chat/completions\""
   ]
  },
  {
   "cell_type": "code",
   "execution_count": 3,
   "id": "2d533b36-ed4c-4875-ad68-fb054daa682d",
   "metadata": {},
   "outputs": [],
   "source": [
    "body_message = {\n",
    "    \"model\": id_modelo,\n",
    "     \"messages\": [\n",
    "         {\"role\": \"user\", \"content\": \"Crie uma apresentação sobre inteligência artificial com 5 slides incluindo capa.\"}\n",
    "     ],\n",
    "}"
   ]
  },
  {
   "cell_type": "code",
   "execution_count": 4,
   "id": "2790932c-909b-4d48-877c-a7d994e7bf41",
   "metadata": {},
   "outputs": [],
   "source": [
    "# Tranforma dicionário Python em Json\n",
    "body_message = json.dumps(body_message)"
   ]
  },
  {
   "cell_type": "code",
   "execution_count": 5,
   "id": "737860cb-7e20-4af3-82ce-e6e5cc8e2d8a",
   "metadata": {},
   "outputs": [],
   "source": [
    "requisicao = requests.post(link, headers=headers, data=body_message)"
   ]
  },
  {
   "cell_type": "code",
   "execution_count": 6,
   "id": "539e8555-b721-44fe-af58-1420bc59abd9",
   "metadata": {},
   "outputs": [
    {
     "name": "stdout",
     "output_type": "stream",
     "text": [
      "<Response [200]>\n"
     ]
    }
   ],
   "source": [
    "print(requisicao)"
   ]
  },
  {
   "cell_type": "code",
   "execution_count": 7,
   "id": "801b3e1d-1aa5-4e84-8849-d168b0af9448",
   "metadata": {},
   "outputs": [
    {
     "name": "stdout",
     "output_type": "stream",
     "text": [
      "{\n",
      "  \"id\": \"chatcmpl-8IzB86hoA19mvZbdmq34JAiZK885D\",\n",
      "  \"object\": \"chat.completion\",\n",
      "  \"created\": 1699535766,\n",
      "  \"model\": \"gpt-3.5-turbo-0613\",\n",
      "  \"choices\": [\n",
      "    {\n",
      "      \"index\": 0,\n",
      "      \"message\": {\n",
      "        \"role\": \"assistant\",\n",
      "        \"content\": \"Slide 1: Capa\\n- Título: Introdução à Inteligência Artificial\\n- Fundo: Imagem representativa da IA\\n\\nSlide 2:\\n- Título: O que é Inteligência Artificial?\\n- Breve descrição da IA\\n- Exemplos de aplicações da IA (assistente virtual, carros autônomos, reconhecimento facial, etc.)\\n- Citação sobre a importância da IA na atualidade\\n\\nSlide 3:\\n- Título: Como funciona a Inteligência Artificial?\\n- Explicação básica do funcionamento da IA, como redes neurais artificiais, algoritmos de aprendizado de máquina e processamento de dados\\n- Imagem ilustrativa para auxiliar na explicação\\n\\nSlide 4:\\n- Título: Benefícios e Desafios da Inteligência Artificial\\n- Listagem dos principais benefícios da IA, como automação de tarefas, melhoria da eficiência, previsões precisas, entre outros\\n- Destaque para os desafios, como privacidade, ética e impactos no mercado de trabalho\\n\\nSlide 5:\\n- Título: Futuro da Inteligência Artificial\\n- Perspectivas para o futuro da IA, como avanços tecnológicos, aplicações em áreas diversas, impacto na sociedade e economia\\n- Inspirar a plateia a explorar e contribuir para o desenvolvimento da IA\\n\\nSlide 6: Conclusão\\n- Recapitulação dos pontos-chave abordados\\n- Ênfase na importância e impacto da IA em nosso cotidiano\\n- Convite para perguntas e discussões sobre o tema\\n\\nObs: Você pode adicionar imagens, gráficos ou dados relevantes aos slides, de acordo com o conteúdo que deseja apresentar.\"\n",
      "      },\n",
      "      \"finish_reason\": \"stop\"\n",
      "    }\n",
      "  ],\n",
      "  \"usage\": {\n",
      "    \"prompt_tokens\": 26,\n",
      "    \"completion_tokens\": 395,\n",
      "    \"total_tokens\": 421\n",
      "  }\n",
      "}\n",
      "\n"
     ]
    }
   ],
   "source": [
    "print(requisicao.text)"
   ]
  },
  {
   "cell_type": "code",
   "execution_count": 10,
   "id": "e0418259-fa4e-4323-8c27-8cd155b5bcb8",
   "metadata": {},
   "outputs": [],
   "source": [
    "resposta = requisicao.json()"
   ]
  },
  {
   "cell_type": "code",
   "execution_count": 11,
   "id": "48d5c462-6513-4566-b750-35cf5dc9fd9a",
   "metadata": {},
   "outputs": [
    {
     "name": "stdout",
     "output_type": "stream",
     "text": [
      "{'id': 'chatcmpl-8IzB86hoA19mvZbdmq34JAiZK885D', 'object': 'chat.completion', 'created': 1699535766, 'model': 'gpt-3.5-turbo-0613', 'choices': [{'index': 0, 'message': {'role': 'assistant', 'content': 'Slide 1: Capa\\n- Título: Introdução à Inteligência Artificial\\n- Fundo: Imagem representativa da IA\\n\\nSlide 2:\\n- Título: O que é Inteligência Artificial?\\n- Breve descrição da IA\\n- Exemplos de aplicações da IA (assistente virtual, carros autônomos, reconhecimento facial, etc.)\\n- Citação sobre a importância da IA na atualidade\\n\\nSlide 3:\\n- Título: Como funciona a Inteligência Artificial?\\n- Explicação básica do funcionamento da IA, como redes neurais artificiais, algoritmos de aprendizado de máquina e processamento de dados\\n- Imagem ilustrativa para auxiliar na explicação\\n\\nSlide 4:\\n- Título: Benefícios e Desafios da Inteligência Artificial\\n- Listagem dos principais benefícios da IA, como automação de tarefas, melhoria da eficiência, previsões precisas, entre outros\\n- Destaque para os desafios, como privacidade, ética e impactos no mercado de trabalho\\n\\nSlide 5:\\n- Título: Futuro da Inteligência Artificial\\n- Perspectivas para o futuro da IA, como avanços tecnológicos, aplicações em áreas diversas, impacto na sociedade e economia\\n- Inspirar a plateia a explorar e contribuir para o desenvolvimento da IA\\n\\nSlide 6: Conclusão\\n- Recapitulação dos pontos-chave abordados\\n- Ênfase na importância e impacto da IA em nosso cotidiano\\n- Convite para perguntas e discussões sobre o tema\\n\\nObs: Você pode adicionar imagens, gráficos ou dados relevantes aos slides, de acordo com o conteúdo que deseja apresentar.'}, 'finish_reason': 'stop'}], 'usage': {'prompt_tokens': 26, 'completion_tokens': 395, 'total_tokens': 421}}\n"
     ]
    }
   ],
   "source": [
    "print(resposta)"
   ]
  },
  {
   "cell_type": "code",
   "execution_count": 12,
   "id": "fa4f49fc-2c28-40b8-b30e-2b2aa0b88480",
   "metadata": {},
   "outputs": [
    {
     "name": "stdout",
     "output_type": "stream",
     "text": [
      "Slide 1: Capa\n",
      "- Título: Introdução à Inteligência Artificial\n",
      "- Fundo: Imagem representativa da IA\n",
      "\n",
      "Slide 2:\n",
      "- Título: O que é Inteligência Artificial?\n",
      "- Breve descrição da IA\n",
      "- Exemplos de aplicações da IA (assistente virtual, carros autônomos, reconhecimento facial, etc.)\n",
      "- Citação sobre a importância da IA na atualidade\n",
      "\n",
      "Slide 3:\n",
      "- Título: Como funciona a Inteligência Artificial?\n",
      "- Explicação básica do funcionamento da IA, como redes neurais artificiais, algoritmos de aprendizado de máquina e processamento de dados\n",
      "- Imagem ilustrativa para auxiliar na explicação\n",
      "\n",
      "Slide 4:\n",
      "- Título: Benefícios e Desafios da Inteligência Artificial\n",
      "- Listagem dos principais benefícios da IA, como automação de tarefas, melhoria da eficiência, previsões precisas, entre outros\n",
      "- Destaque para os desafios, como privacidade, ética e impactos no mercado de trabalho\n",
      "\n",
      "Slide 5:\n",
      "- Título: Futuro da Inteligência Artificial\n",
      "- Perspectivas para o futuro da IA, como avanços tecnológicos, aplicações em áreas diversas, impacto na sociedade e economia\n",
      "- Inspirar a plateia a explorar e contribuir para o desenvolvimento da IA\n",
      "\n",
      "Slide 6: Conclusão\n",
      "- Recapitulação dos pontos-chave abordados\n",
      "- Ênfase na importância e impacto da IA em nosso cotidiano\n",
      "- Convite para perguntas e discussões sobre o tema\n",
      "\n",
      "Obs: Você pode adicionar imagens, gráficos ou dados relevantes aos slides, de acordo com o conteúdo que deseja apresentar.\n"
     ]
    }
   ],
   "source": [
    "print(resposta['choices'][0]['message']['content'])"
   ]
  },
  {
   "cell_type": "code",
   "execution_count": 13,
   "id": "edb39adf-79ac-4df1-bdba-5bb234b2c4e8",
   "metadata": {},
   "outputs": [],
   "source": [
    "file = open(\"info_presentation.txt\",\"w\")\n",
    "file.write(resposta['choices'][0]['message']['content'])\n",
    "file = open(\"info_presentation.py\",\"w\")\n",
    "file.write(resposta['choices'][0]['message']['content'])\n",
    "file.close()"
   ]
  },
  {
   "cell_type": "code",
   "execution_count": null,
   "id": "649898e5-6600-47d8-a65f-15407a5e33a6",
   "metadata": {},
   "outputs": [],
   "source": []
  }
 ],
 "metadata": {
  "kernelspec": {
   "display_name": "Python 3 (ipykernel)",
   "language": "python",
   "name": "python3"
  },
  "language_info": {
   "codemirror_mode": {
    "name": "ipython",
    "version": 3
   },
   "file_extension": ".py",
   "mimetype": "text/x-python",
   "name": "python",
   "nbconvert_exporter": "python",
   "pygments_lexer": "ipython3",
   "version": "3.9.1"
  }
 },
 "nbformat": 4,
 "nbformat_minor": 5
}
