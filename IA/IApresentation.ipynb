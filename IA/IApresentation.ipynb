{
 "cells": [
  {
   "cell_type": "code",
   "execution_count": 1,
   "id": "76585670-5a2b-4c63-b8ce-2e37ccb31828",
   "metadata": {},
   "outputs": [],
   "source": [
    "from senha import API_KEY\n",
    "import requests\n",
    "import json"
   ]
  },
  {
   "cell_type": "code",
   "execution_count": 2,
   "id": "6fb53c26-853e-4618-8c18-aaba791282e1",
   "metadata": {},
   "outputs": [
    {
     "name": "stdin",
     "output_type": "stream",
     "text": [
      "Chat GPT: Que apresentação você deseja? Faça uma apresentação sobre eletrônica digital contendo 10 slides incluindo capa. Na capa, identifique título e autor. Nos demais slides, identifique os títulos.\n"
     ]
    }
   ],
   "source": [
    "pergunta = input(\"Chat GPT: Que apresentação você deseja?\")"
   ]
  },
  {
   "cell_type": "code",
   "execution_count": 3,
   "id": "6995441f-fe23-40e5-a9ac-83a4183e993d",
   "metadata": {},
   "outputs": [],
   "source": [
    "headers = {\"Authorization\": f\"Bearer {API_KEY}\", \"Content-Type\": \"application/json\"}\n",
    "id_modelo = \"gpt-3.5-turbo\"\n",
    "link = \"https://api.openai.com/v1/chat/completions\""
   ]
  },
  {
   "cell_type": "code",
   "execution_count": 4,
   "id": "2d533b36-ed4c-4875-ad68-fb054daa682d",
   "metadata": {},
   "outputs": [],
   "source": [
    "body_message = {\n",
    "    \"model\": id_modelo,\n",
    "     \"messages\": [\n",
    "         {\"role\": \"user\", \"content\": pergunta}\n",
    "     ],\n",
    "}"
   ]
  },
  {
   "cell_type": "code",
   "execution_count": 5,
   "id": "2790932c-909b-4d48-877c-a7d994e7bf41",
   "metadata": {},
   "outputs": [],
   "source": [
    "# Tranforma dicionário Python em Json\n",
    "body_message = json.dumps(body_message)"
   ]
  },
  {
   "cell_type": "code",
   "execution_count": 6,
   "id": "737860cb-7e20-4af3-82ce-e6e5cc8e2d8a",
   "metadata": {},
   "outputs": [
    {
     "name": "stdout",
     "output_type": "stream",
     "text": [
      "<Response [200]>\n"
     ]
    }
   ],
   "source": [
    "requisicao = requests.post(link, headers=headers, data=body_message)\n",
    "print(requisicao)\n",
    "# print(requisicao.text)"
   ]
  },
  {
   "cell_type": "code",
   "execution_count": 24,
   "id": "e0418259-fa4e-4323-8c27-8cd155b5bcb8",
   "metadata": {},
   "outputs": [],
   "source": [
    "resposta = requisicao.json()\n",
    "# print(resposta)\n",
    "# print(resposta['choices'][0]['message']['content'])"
   ]
  },
  {
   "cell_type": "code",
   "execution_count": 29,
   "id": "edb39adf-79ac-4df1-bdba-5bb234b2c4e8",
   "metadata": {},
   "outputs": [],
   "source": [
    "file = open(\"info_presentation.txt\",\"w\", encoding = \"utf-8\")\n",
    "file.write(resposta['choices'][0]['message']['content'])\n",
    "file.close()"
   ]
  },
  {
   "cell_type": "code",
   "execution_count": 37,
   "id": "e22e4dbc-4959-4ead-b800-59288713697d",
   "metadata": {},
   "outputs": [],
   "source": [
    "with open(\"info_presentation.txt\", \"r\", encoding=\"utf-8\") as arquivo:\n",
    "    texto = arquivo.readlines()"
   ]
  },
  {
   "cell_type": "code",
   "execution_count": 38,
   "id": "85438ce4-0443-4314-bdd3-799bbd15169f",
   "metadata": {},
   "outputs": [
    {
     "name": "stdout",
     "output_type": "stream",
     "text": [
      "['Slide 1: Capa\\n', '- Título: Introdução à Eletrônica Digital\\n', '- Autor: [Seu nome]\\n', '\\n', 'Slide 2: O que é Eletrônica Digital?\\n', '- Título: O que é Eletrônica Digital?\\n', '- Definição de Eletrônica Digital\\n', '- Principais características da eletrônica digital\\n', '\\n', 'Slide 3: Sistemas de Numeração\\n', '- Título: Sistemas de Numeração na Eletrônica Digital\\n', '- Exploração dos sistemas decimal, binário e hexadecimal\\n', '- Conversão entre diferentes sistemas de numeração\\n', '\\n', 'Slide 4: Portas Lógicas\\n', '- Título: Portas Lógicas na Eletrônica Digital\\n', '- Apresentação das portas lógicas AND, OR, NOT, NAND, NOR e XOR\\n', '- Tabelas verdade e representação gráfica de cada porta\\n', '\\n', 'Slide 5: Circuitos Combinacionais\\n', '- Título: Circuitos Combinacionais\\n', '- Combinação de portas lógicas para criar circuitos mais complexos\\n', '- Exemplos de projetos de circuitos combinacionais\\n', '\\n', 'Slide 6: Circuitos Sequenciais\\n', '- Título: Circuitos Sequenciais\\n', '- Introdução aos circuitos que possuem memória - flip-flops\\n', '- Noções básicas de registradores e contadores\\n', '\\n', 'Slide 7: Aritmética Binária\\n', '- Título: Aritmética Binária\\n', '- Operações matemáticas com números binários\\n', '- Adição, subtração, multiplicação e divisão binária\\n', '\\n', 'Slide 8: Memória Digital\\n', '- Título: Memória Digital na Eletrônica\\n', '- Tipos de memória: ROM, RAM, EEPROM, entre outros\\n', '- Aplicações e importância da memória digital\\n', '\\n', 'Slide 9: Circuitos Integrados\\n', '- Título: Circuitos Integrados\\n', '- Conceitos básicos de circuitos integrados\\n', '- Uso e vantagens dos CIs na eletrônica digital\\n', '\\n', 'Slide 10: Conclusão\\n', '- Título: Conclusão\\n', '- Breve resumo dos principais pontos abordados\\n', '- Importância da eletrônica digital na sociedade moderna\\n', '\\n']\n"
     ]
    }
   ],
   "source": [
    "texto.pop()\n",
    "print(texto)"
   ]
  },
  {
   "cell_type": "code",
   "execution_count": null,
   "id": "62339e6a-9120-404b-9a53-7b9c834f58c5",
   "metadata": {},
   "outputs": [],
   "source": []
  }
 ],
 "metadata": {
  "kernelspec": {
   "display_name": "Python 3 (ipykernel)",
   "language": "python",
   "name": "python3"
  },
  "language_info": {
   "codemirror_mode": {
    "name": "ipython",
    "version": 3
   },
   "file_extension": ".py",
   "mimetype": "text/x-python",
   "name": "python",
   "nbconvert_exporter": "python",
   "pygments_lexer": "ipython3",
   "version": "3.9.1"
  }
 },
 "nbformat": 4,
 "nbformat_minor": 5
}
