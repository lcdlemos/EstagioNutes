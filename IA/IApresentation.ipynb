{
 "cells": [
  {
   "cell_type": "code",
   "execution_count": 1,
   "id": "76585670-5a2b-4c63-b8ce-2e37ccb31828",
   "metadata": {},
   "outputs": [],
   "source": [
    "from senha import API_KEY\n",
    "import requests\n",
    "import json"
   ]
  },
  {
   "cell_type": "code",
   "execution_count": 2,
   "id": "d4c89b21-1050-4c59-a643-7afe048def45",
   "metadata": {},
   "outputs": [
    {
     "name": "stdin",
     "output_type": "stream",
     "text": [
      "Qual o tema da apresentação? Eletrônica Digital\n"
     ]
    }
   ],
   "source": [
    "tema = input(\"Qual o tema da apresentação?\")"
   ]
  },
  {
   "cell_type": "code",
   "execution_count": 3,
   "id": "2383de9c-c3da-4cc9-beba-99183fcc2285",
   "metadata": {},
   "outputs": [
    {
     "name": "stdin",
     "output_type": "stream",
     "text": [
      "Quantos slides deseja ter? 10\n"
     ]
    }
   ],
   "source": [
    "quantidade = input(\"Quantos slides deseja ter?\")"
   ]
  },
  {
   "cell_type": "code",
   "execution_count": 4,
   "id": "6fb53c26-853e-4618-8c18-aaba791282e1",
   "metadata": {},
   "outputs": [],
   "source": [
    "pergunta = f\"Faça uma apresentação sobre {tema} com {quantidade} slides incluindo capa. Na capa, identifique o título e autor. Nos demais slides, além dos tópicos, identifique o título.\""
   ]
  },
  {
   "cell_type": "code",
   "execution_count": 5,
   "id": "eb38f2ed-a073-4294-bbf1-df5073ae324b",
   "metadata": {},
   "outputs": [
    {
     "name": "stdout",
     "output_type": "stream",
     "text": [
      "Faça uma apresentação sobre Eletrônica Digital com 10 slides incluindo capa. Na capa, identifique o título e autor. Nos demais slides, além dos tópicos, identifique o título.\n"
     ]
    }
   ],
   "source": [
    "print(pergunta)"
   ]
  },
  {
   "cell_type": "code",
   "execution_count": 6,
   "id": "6995441f-fe23-40e5-a9ac-83a4183e993d",
   "metadata": {},
   "outputs": [],
   "source": [
    "headers = {\"Authorization\": f\"Bearer {API_KEY}\", \"Content-Type\": \"application/json\"}\n",
    "id_modelo = \"gpt-3.5-turbo\"\n",
    "link = \"https://api.openai.com/v1/chat/completions\""
   ]
  },
  {
   "cell_type": "code",
   "execution_count": 7,
   "id": "2d533b36-ed4c-4875-ad68-fb054daa682d",
   "metadata": {},
   "outputs": [],
   "source": [
    "body_message = {\n",
    "    \"model\": id_modelo,\n",
    "     \"messages\": [\n",
    "         {\"role\": \"user\", \"content\": pergunta}\n",
    "     ],\n",
    "}"
   ]
  },
  {
   "cell_type": "code",
   "execution_count": 8,
   "id": "2790932c-909b-4d48-877c-a7d994e7bf41",
   "metadata": {},
   "outputs": [],
   "source": [
    "# Tranforma dicionário Python em Json\n",
    "body_message = json.dumps(body_message)"
   ]
  },
  {
   "cell_type": "code",
   "execution_count": 9,
   "id": "737860cb-7e20-4af3-82ce-e6e5cc8e2d8a",
   "metadata": {},
   "outputs": [
    {
     "name": "stdout",
     "output_type": "stream",
     "text": [
      "<Response [200]>\n"
     ]
    }
   ],
   "source": [
    "requisicao = requests.post(link, headers=headers, data=body_message)\n",
    "print(requisicao)\n",
    "# print(requisicao.text)"
   ]
  },
  {
   "cell_type": "code",
   "execution_count": 10,
   "id": "e0418259-fa4e-4323-8c27-8cd155b5bcb8",
   "metadata": {},
   "outputs": [],
   "source": [
    "resposta = requisicao.json()\n",
    "# print(resposta)\n",
    "# print(resposta['choices'][0]['message']['content'])"
   ]
  },
  {
   "cell_type": "code",
   "execution_count": 11,
   "id": "edb39adf-79ac-4df1-bdba-5bb234b2c4e8",
   "metadata": {},
   "outputs": [],
   "source": [
    "file = open(\"info_presentation.txt\",\"w\", encoding = \"utf-8\")\n",
    "file.write(resposta['choices'][0]['message']['content'])\n",
    "file.close()"
   ]
  },
  {
   "cell_type": "code",
   "execution_count": 12,
   "id": "e22e4dbc-4959-4ead-b800-59288713697d",
   "metadata": {},
   "outputs": [],
   "source": [
    "with open(\"info_presentation.txt\", \"r\", encoding=\"utf-8\") as arquivo:\n",
    "    texto = arquivo.readlines()"
   ]
  },
  {
   "cell_type": "code",
   "execution_count": 13,
   "id": "85438ce4-0443-4314-bdd3-799bbd15169f",
   "metadata": {},
   "outputs": [
    {
     "name": "stdout",
     "output_type": "stream",
     "text": [
      "['Slide 1 (Capa):\\n', '- Título: Introdução à Eletrônica Digital\\n', '- Autor: [Seu nome]\\n', '\\n', 'Slide 2:\\n', '- Título: O que é Eletrônica Digital?\\n', '- Introdução ao tema\\n', '- Definição de eletrônica digital\\n', '- Importância da eletrônica digital no mundo moderno\\n', '\\n', 'Slide 3:\\n', '- Título: Sinais Digitais e Sinais Analógicos\\n', '- Diferença entre sinais digitais e analógicos\\n', '- Características dos sinais digitais\\n', '- Vantagens dos sinais digitais\\n', '\\n', 'Slide 4:\\n', '- Título: Sistemas Digitais\\n', '- Explicação sobre sistemas digitais\\n', '- Exemplos de sistemas digitais comuns (computadores, celulares, etc.)\\n', '- Benefícios dos sistemas digitais\\n', '\\n', 'Slide 5:\\n', '- Título: Componentes Básicos da Eletrônica Digital\\n', '- Introdução aos principais componentes da eletrônica digital\\n', '- Tabela com componentes básicos (transistores, diodos, resistores, etc.)\\n', '- Função de cada componente na eletrônica digital\\n', '\\n', 'Slide 6:\\n', '- Título: Portas Lógicas\\n', '- Explicação sobre o conceito de portas lógicas\\n', '- Tipos de portas lógicas (AND, OR, NOT, XOR, NAND, NOR)\\n', '- Exemplificação das portas lógicas através de diagramas\\n', '\\n', 'Slide 7:\\n', '- Título: Circuitos Combinacionais\\n', '- Definição de circuitos combinacionais\\n', '- Exemplos de circuitos combinacionais (decodificadores, multiplexadores, somadores)\\n', '- Utilização de circuitos combinacionais na eletrônica digital\\n', '\\n', 'Slide 8:\\n', '- Título: Circuitos Sequenciais\\n', '- Explicação sobre circuitos sequenciais\\n', '- Tipos de circuitos sequenciais (flip-flops, contadores, registradores)\\n', '- Aplicações dos circuitos sequenciais\\n', '\\n', 'Slide 9:\\n', '- Título: Microcontroladores\\n', '- Descrição de microcontroladores\\n', '- Vantagens e aplicações dos microcontroladores\\n', '- Exemplos de microcontroladores famosos (Arduino, PIC, STM32)\\n', '\\n', 'Slide 10:\\n', '- Título: Conclusão\\n', '- Recapitulação dos principais pontos abordados\\n', '- Importância da eletrônica digital na tecnologia atual\\n', '- Referências utilizadas na apresentação\\n', '\\n']\n"
     ]
    }
   ],
   "source": [
    "texto.pop()\n",
    "print(texto)"
   ]
  }
 ],
 "metadata": {
  "kernelspec": {
   "display_name": "Python 3 (ipykernel)",
   "language": "python",
   "name": "python3"
  },
  "language_info": {
   "codemirror_mode": {
    "name": "ipython",
    "version": 3
   },
   "file_extension": ".py",
   "mimetype": "text/x-python",
   "name": "python",
   "nbconvert_exporter": "python",
   "pygments_lexer": "ipython3",
   "version": "3.9.1"
  }
 },
 "nbformat": 4,
 "nbformat_minor": 5
}
