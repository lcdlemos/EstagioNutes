{
 "cells": [
  {
   "cell_type": "code",
   "execution_count": 1,
   "id": "acdb755b-08fc-4392-87a2-cf6ec440cf73",
   "metadata": {},
   "outputs": [],
   "source": [
    "from tika import parser"
   ]
  },
  {
   "cell_type": "code",
   "execution_count": 2,
   "id": "0ff13815-bd2b-46be-8005-73172d91a387",
   "metadata": {},
   "outputs": [
    {
     "name": "stderr",
     "output_type": "stream",
     "text": [
      "2023-10-26 11:39:44,713 [MainThread  ] [WARNI]  Failed to see startup log message; retrying...\n"
     ]
    }
   ],
   "source": [
    "# caminho do arquivo -> r no início para informar formato raw e evitar erro de unicode\n",
    "parsed = parser.from_file(r\"C:\\Users\\Luiz Carlos\\Documents\\UEPB\\Estágio\\Extração\\apresentacao.pptx\")"
   ]
  },
  {
   "cell_type": "code",
   "execution_count": 3,
   "id": "a0ba4c5b-6fe9-4b18-8a92-aedf512a40c6",
   "metadata": {},
   "outputs": [
    {
     "name": "stdout",
     "output_type": "stream",
     "text": [
      "{'cp:revision': '2', 'extended-properties:AppVersion': '15.0000', 'meta:paragraph-count': '10', 'meta:word-count': '45', 'extended-properties:PresentationFormat': 'Widescreen', 'X-TIKA:Parsed-By-Full-Set': ['org.apache.tika.parser.DefaultParser', 'org.apache.tika.parser.microsoft.ooxml.OOXMLParser', 'org.apache.tika.parser.image.JpegParser'], 'X-TIKA:content_handler': ['ToTextContentHandler', 'ToTextContentHandler'], 'dc:creator': 'Luiz Carlos', 'extended-properties:Company': 'LTDA', 'dcterms:created': '2023-10-23T14:16:27Z', 'dcterms:modified': '2023-10-23T15:03:45Z', 'dc:title': ['Extração de Dados de Slides', '/docProps/thumbnail.jpeg'], 'extended-properties:TotalTime': '3', 'Content-Length': '48621', 'Content-Type': ['application/vnd.openxmlformats-officedocument.presentationml.presentation', 'image/jpeg'], 'extended-properties:Application': 'Microsoft Office PowerPoint', 'meta:last-author': 'Luiz Carlos', 'meta:slide-count': '2', 'xmpTPg:NPages': '2', 'resourceName': [\"b'apresentacao.pptx'\", '/docProps/thumbnail.jpeg'], 'extended-properties:Template': 'Slice', 'X-TIKA:Parsed-By': ['org.apache.tika.parser.DefaultParser', 'org.apache.tika.parser.microsoft.ooxml.OOXMLParser', ['org.apache.tika.parser.DefaultParser', 'org.apache.tika.parser.image.JpegParser']], 'extended-properties:DocSecurityString': 'None', 'X-TIKA:parse_time_millis': ['1875', '140'], 'X-TIKA:embedded_depth': ['0', '1'], 'dc:publisher': 'LTDA', 'Number of Tables': '4 Huffman tables', 'Compression Type': 'Baseline', 'Data Precision': '8 bits', 'Number of Components': '3', 'tiff:ImageLength': '144', 'Component 2': 'Cb component: Quantization table 1, Sampling factors 1 horiz/1 vert', 'Thumbnail Height Pixels': '0', 'Component 1': 'Y component: Quantization table 0, Sampling factors 2 horiz/2 vert', 'X Resolution': '96 dots', 'embeddedRelationshipId': '/docProps/thumbnail.jpeg', 'File Size': '5896 bytes', 'Component 3': 'Cr component: Quantization table 1, Sampling factors 1 horiz/1 vert', 'Version': '1.1', 'embeddedResourceType': 'THUMBNAIL', 'File Name': 'apache-tika-18217374695493785293.jpeg', 'tiff:BitsPerSample': '8', 'Resolution Units': 'inch', 'File Modified Date': 'qui. out. 26 11:39:51 -03:00 2023', 'Image Height': '144 pixels', 'Thumbnail Width Pixels': '0', 'Image Width': '256 pixels', 'X-TIKA:embedded_resource_path': '/thumbnail.jpeg', 'tiff:ImageWidth': '256', 'Y Resolution': '96 dots'}\n"
     ]
    }
   ],
   "source": [
    "print(parsed[\"metadata\"]) #To get the meta data of the file"
   ]
  },
  {
   "cell_type": "code",
   "execution_count": 4,
   "id": "f92566ac-63c1-462b-8595-841243fe3078",
   "metadata": {},
   "outputs": [
    {
     "name": "stdout",
     "output_type": "stream",
     "text": [
      "\n",
      "\n",
      "\n",
      "\n",
      "\n",
      "\n",
      "\n",
      "\n",
      "\n",
      "\n",
      "\n",
      "\n",
      "\n",
      "\n",
      "\n",
      "\n",
      "\n",
      "\n",
      "\n",
      "\n",
      "\n",
      "\n",
      "\n",
      "\n",
      "\n",
      "Extração de Dados de Slides\n",
      "\n",
      "Extração de Dados\n",
      "de Slides\n",
      "Orientador: Kézia\n",
      "Aluno: Luiz Carlos de Lemos\n",
      "\n",
      "\n",
      "1. Introdução\n",
      "Extração de Dados [PPTX]\n",
      "\n",
      "Extrair dados textuais de slides;\n",
      "Comparar com ferramentas existentes;\n",
      "Realizar o processor inverso:\n",
      "Criar slides a partir de dados fornecidos.\n",
      "\n",
      "\n",
      "\n",
      "\n",
      "\n",
      "\n",
      "\n",
      "\n",
      "\n",
      "\n",
      "\n",
      "\n",
      "\n",
      "\n",
      "\n",
      "\n",
      "\n",
      "\n",
      "\n",
      "\n",
      "\n",
      "\n",
      "\n",
      "\n",
      "\n",
      "\n",
      "\n",
      "\n",
      "\n",
      "\n",
      "\n",
      "\n",
      "\n",
      "\n",
      "\n",
      "/docProps/thumbnail.jpeg\n",
      "\n",
      "\n"
     ]
    }
   ],
   "source": [
    "print(parsed[\"content\"]) # To get the content of the file"
   ]
  },
  {
   "cell_type": "code",
   "execution_count": 5,
   "id": "d11f0eee-8b37-4474-9e57-3cd81322f4d4",
   "metadata": {},
   "outputs": [],
   "source": [
    "parsed = parser.from_file(r\"C:\\Users\\Luiz Carlos\\Documents\\UEPB\\Estágio\\Extração\\apresentacao.ppt\")"
   ]
  },
  {
   "cell_type": "code",
   "execution_count": 6,
   "id": "c60ebfb0-0d67-4676-b2f9-bbffb6469a00",
   "metadata": {},
   "outputs": [
    {
     "name": "stdout",
     "output_type": "stream",
     "text": [
      "{'cp:revision': '2', 'meta:word-count': '45', 'extended-properties:Application': 'Microsoft Office PowerPoint', 'meta:last-author': 'Luiz Carlos', 'X-TIKA:Parsed-By-Full-Set': ['org.apache.tika.parser.DefaultParser', 'org.apache.tika.parser.microsoft.OfficeParser'], 'X-TIKA:content_handler': 'ToTextContentHandler', 'dc:creator': 'Luiz Carlos', 'extended-properties:Company': 'LTDA', 'meta:slide-count': '2', 'xmpTPg:NPages': '2', 'resourceName': \"b'apresentacao.ppt'\", 'dcterms:created': '2023-10-23T14:16:27Z', 'dcterms:modified': '2023-10-23T15:04:00Z', 'extended-properties:Template': 'Slice', 'X-TIKA:Parsed-By': ['org.apache.tika.parser.DefaultParser', 'org.apache.tika.parser.microsoft.OfficeParser'], 'dc:title': 'Extração de Dados de Slides', 'extended-properties:TotalTime': '2773450000', 'X-TIKA:parse_time_millis': '496', 'X-TIKA:embedded_depth': '0', 'Content-Length': '209920', 'Content-Type': 'application/vnd.ms-powerpoint'}\n"
     ]
    }
   ],
   "source": [
    "print(parsed[\"metadata\"]) #To get the meta data of the file"
   ]
  },
  {
   "cell_type": "code",
   "execution_count": 7,
   "id": "c7b961d5-f7e9-4557-8b5f-96e91485c26d",
   "metadata": {},
   "outputs": [
    {
     "name": "stdout",
     "output_type": "stream",
     "text": [
      "\n",
      "\n",
      "\n",
      "\n",
      "\n",
      "\n",
      "\n",
      "\n",
      "\n",
      "\n",
      "\n",
      "\n",
      "\n",
      "\n",
      "\n",
      "\n",
      "\n",
      "\n",
      "\n",
      "\n",
      "Extração de Dados de Slides\n",
      "\n",
      "\n",
      "EXTRAÇÃO DE DADOS\n",
      "DE SLIDES\n",
      "Orientador: Kézia\n",
      "Aluno: Luiz Carlos de Lemos\n",
      "\n",
      "\n",
      "\n",
      "1. INTRODUÇÃO\n",
      "\tExtração de Dados [PPT]\n",
      "\n",
      "\tExtrair dados textuais de slides;\n",
      "\tComparar com ferramentas existentes;\n",
      "\tRealizar o processor inverso:\n",
      "\tCriar slides a partir de dados fornecidos.\n",
      "\n",
      "\n",
      "\n",
      "\n",
      "\n"
     ]
    }
   ],
   "source": [
    "print(parsed[\"content\"]) # To get the content of the file"
   ]
  },
  {
   "cell_type": "code",
   "execution_count": 8,
   "id": "a9783301-80cc-48f9-ab33-f47a79a8fa6f",
   "metadata": {},
   "outputs": [],
   "source": [
    "parsed = parser.from_file(r\"C:\\Users\\Luiz Carlos\\Documents\\UEPB\\Estágio\\Extração\\apresentacao.odp\")"
   ]
  },
  {
   "cell_type": "code",
   "execution_count": 9,
   "id": "96462917-3a5c-4dce-9849-3e288e32d153",
   "metadata": {},
   "outputs": [
    {
     "name": "stdout",
     "output_type": "stream",
     "text": [
      "{'X-TIKA:Parsed-By-Full-Set': ['org.apache.tika.parser.DefaultParser', 'org.apache.tika.parser.odf.OpenDocumentParser', 'org.apache.tika.parser.image.ImageParser'], 'X-TIKA:content_handler': 'ToTextContentHandler', 'dc:creator': 'Luiz Carlos', 'generator': 'LibreOfficeDev/6.0.5.2$Linux_X86_64 LibreOffice_project/', 'resourceName': [\"b'apresentacao.odp'\", 'Thumbnails/thumbnail.png'], 'dcterms:created': '2023-10-23T14:16:27', 'meta:object-count': '57', 'X-TIKA:Parsed-By': ['org.apache.tika.parser.DefaultParser', 'org.apache.tika.parser.odf.OpenDocumentParser', ['org.apache.tika.parser.DefaultParser', 'org.apache.tika.parser.image.ImageParser']], 'odf:version': '1.2', 'X-TIKA:parse_time_millis': ['203', '138'], 'X-TIKA:embedded_depth': ['0', '1'], 'Content-Length': '23514', 'Content-Type': ['application/vnd.oasis.opendocument.presentation', 'image/png'], 'Transparency Alpha': 'none', 'PLTE PLTEEntry': ['index=0, red=5, green=87, blue=141', 'index=1, red=6, green=89, blue=142', 'index=2, red=9, green=93, blue=145', 'index=3, red=12, green=98, blue=149', 'index=4, red=15, green=101, blue=152', 'index=5, red=25, green=98, blue=140', 'index=6, red=16, green=102, blue=153', 'index=7, red=19, green=107, blue=156', 'index=8, red=26, green=102, blue=144', 'index=9, red=28, green=106, blue=148', 'index=10, red=29, green=110, blue=152', 'index=11, red=30, green=113, blue=156', 'index=12, red=23, green=111, blue=160', 'index=13, red=26, green=115, blue=163', 'index=14, red=30, green=120, blue=166', 'index=15, red=30, green=121, blue=168', 'index=16, red=32, green=110, blue=150', 'index=17, red=32, green=110, blue=152', 'index=18, red=33, green=114, blue=156', 'index=19, red=33, green=118, blue=160', 'index=20, red=35, green=122, blue=164', 'index=21, red=33, green=125, blue=170', 'index=22, red=40, green=127, blue=168', 'index=23, red=36, green=128, blue=173', 'index=24, red=40, green=131, blue=173', 'index=25, red=38, green=131, blue=176', 'index=26, red=40, green=134, blue=178', 'index=27, red=43, green=138, blue=181', 'index=28, red=46, green=141, blue=184', 'index=29, red=50, green=146, blue=188', 'index=30, red=58, green=147, blue=187', 'index=31, red=61, green=152, blue=191', 'index=32, red=53, green=151, blue=192', 'index=33, red=54, green=152, blue=193', 'index=34, red=57, green=156, blue=196', 'index=35, red=60, green=160, blue=198', 'index=36, red=61, green=162, blue=201', 'index=37, red=65, green=149, blue=188', 'index=38, red=75, green=145, blue=183', 'index=39, red=77, green=148, blue=185', 'index=40, red=80, green=151, blue=187', 'index=41, red=82, green=154, blue=189', 'index=42, red=66, green=157, blue=195', 'index=43, red=86, green=158, blue=193', 'index=44, red=68, green=160, blue=198', 'index=45, red=64, green=165, blue=203', 'index=46, red=67, green=168, blue=206', 'index=47, red=73, green=161, blue=198', 'index=48, red=75, green=165, blue=201', 'index=49, red=76, green=169, blue=205', 'index=50, red=69, green=172, blue=209', 'index=51, red=72, green=174, blue=210', 'index=52, red=73, green=178, blue=213', 'index=53, red=76, green=181, blue=216', 'index=54, red=78, green=184, blue=218', 'index=55, red=85, green=163, blue=197', 'index=56, red=81, green=165, blue=200', 'index=57, red=82, green=171, blue=205', 'index=58, red=91, green=163, blue=197', 'index=59, red=89, green=166, blue=200', 'index=60, red=91, green=171, blue=204', 'index=61, red=83, green=174, blue=208', 'index=62, red=90, green=175, blue=208', 'index=63, red=83, green=178, blue=212', 'index=64, red=81, green=182, blue=216', 'index=65, red=81, green=187, blue=221', 'index=66, red=91, green=179, blue=211', 'index=67, red=89, green=183, blue=216', 'index=68, red=92, green=186, blue=218', 'index=69, red=84, green=191, blue=224', 'index=70, red=98, green=171, blue=203', 'index=71, red=100, green=176, blue=207', 'index=72, red=99, green=179, blue=210', 'index=73, red=99, green=184, blue=215', 'index=74, red=99, green=188, blue=218', 'index=75, red=106, green=181, blue=211', 'index=76, red=107, green=184, blue=213', 'index=77, red=108, green=189, blue=218', 'index=78, red=117, green=178, blue=206', 'index=79, red=116, green=182, blue=210', 'index=80, red=116, green=185, blue=213', 'index=81, red=114, green=189, blue=217', 'index=82, red=120, green=181, blue=208', 'index=83, red=121, green=186, blue=213', 'index=84, red=122, green=190, blue=216', 'index=85, red=85, green=193, blue=225', 'index=86, red=88, green=197, blue=229', 'index=87, red=91, green=200, blue=230', 'index=88, red=92, green=203, blue=233', 'index=89, red=100, green=192, blue=222', 'index=90, red=107, green=192, blue=221', 'index=91, red=114, green=194, blue=221', 'index=92, red=123, green=194, blue=220', 'index=93, red=101, green=196, blue=225', 'index=94, red=99, green=200, blue=229', 'index=95, red=96, green=206, blue=236', 'index=96, red=105, green=197, blue=226', 'index=97, red=107, green=201, blue=229', 'index=98, red=108, green=205, blue=232', 'index=99, red=97, green=209, blue=238', 'index=100, red=107, green=210, blue=237', 'index=101, red=116, green=197, blue=224', 'index=102, red=117, green=202, blue=229', 'index=103, red=112, green=206, blue=233', 'index=104, red=123, green=198, blue=224', 'index=105, red=124, green=202, blue=228', 'index=106, red=120, green=206, blue=232', 'index=107, red=114, green=210, blue=237', 'index=108, red=123, green=211, blue=236', 'index=109, red=116, green=214, blue=240', 'index=110, red=123, green=214, blue=240', 'index=111, red=125, green=217, blue=240', 'index=112, red=129, green=190, blue=215', 'index=113, red=129, green=191, blue=217', 'index=114, red=131, green=195, blue=219', 'index=115, red=139, green=196, blue=219', 'index=116, red=139, green=200, blue=222', 'index=117, red=144, green=198, blue=220', 'index=118, red=146, green=200, blue=222', 'index=119, red=153, green=198, blue=219', 'index=120, red=153, green=202, blue=222', 'index=121, red=131, green=201, blue=226', 'index=122, red=128, green=207, blue=232', 'index=123, red=141, green=203, blue=225', 'index=124, red=129, green=211, blue=235', 'index=125, red=131, green=216, blue=239', 'index=126, red=129, green=218, blue=241', 'index=127, red=137, green=221, blue=242', 'index=128, red=147, green=205, blue=226', 'index=129, red=154, green=206, blue=226', 'index=130, red=147, green=209, blue=230', 'index=131, red=149, green=212, blue=233', 'index=132, red=155, green=210, blue=229', 'index=133, red=158, green=213, blue=232', 'index=134, red=147, green=224, blue=244', 'index=135, red=161, green=207, blue=226', 'index=136, red=163, green=211, blue=229', 'index=137, red=164, green=214, blue=232', 'index=138, red=163, green=216, blue=233', 'index=139, red=171, green=213, blue=229', 'index=140, red=169, green=215, blue=232', 'index=141, red=171, green=217, blue=233', 'index=142, red=178, green=213, blue=229', 'index=143, red=181, green=216, blue=230', 'index=144, red=179, green=219, blue=234', 'index=145, red=185, green=220, blue=234', 'index=146, red=175, green=232, blue=246', 'index=147, red=183, green=224, blue=238', 'index=148, red=188, green=224, blue=237', 'index=149, red=176, green=232, blue=247', 'index=150, red=191, green=227, blue=240', 'index=151, red=195, green=223, blue=235', 'index=152, red=194, green=225, blue=237', 'index=153, red=201, green=227, blue=237', 'index=154, red=196, green=229, blue=240', 'index=155, red=199, green=232, blue=242', 'index=156, red=203, green=230, blue=240', 'index=157, red=203, green=234, blue=243', 'index=158, red=206, green=239, blue=248', 'index=159, red=205, green=240, blue=248', 'index=160, red=208, green=231, blue=240', 'index=161, red=210, green=234, blue=243', 'index=162, red=210, green=239, blue=248', 'index=163, red=219, green=237, blue=244', 'index=164, red=211, green=241, blue=249', 'index=165, red=222, green=240, blue=246', 'index=166, red=224, green=238, blue=244', 'index=167, red=227, green=241, blue=246', 'index=168, red=229, green=243, blue=248', 'index=169, red=232, green=243, blue=247', 'index=170, red=236, green=245, blue=249', 'index=171, red=240, green=247, blue=250', 'index=172, red=242, green=249, blue=251', 'index=173, red=250, green=252, blue=253', 'index=174, red=0, green=0, blue=0', 'index=175, red=255, green=255, blue=255', 'index=176, red=0, green=0, blue=0', 'index=177, red=0, green=0, blue=0', 'index=178, red=0, green=0, blue=0', 'index=179, red=0, green=0, blue=0', 'index=180, red=0, green=0, blue=0', 'index=181, red=0, green=0, blue=0', 'index=182, red=0, green=0, blue=0', 'index=183, red=0, green=0, blue=0', 'index=184, red=0, green=0, blue=0', 'index=185, red=0, green=0, blue=0', 'index=186, red=0, green=0, blue=0', 'index=187, red=0, green=0, blue=0', 'index=188, red=0, green=0, blue=0', 'index=189, red=0, green=0, blue=0', 'index=190, red=0, green=0, blue=0', 'index=191, red=0, green=0, blue=0', 'index=192, red=0, green=0, blue=0', 'index=193, red=0, green=0, blue=0', 'index=194, red=0, green=0, blue=0', 'index=195, red=0, green=0, blue=0', 'index=196, red=0, green=0, blue=0', 'index=197, red=0, green=0, blue=0', 'index=198, red=0, green=0, blue=0', 'index=199, red=0, green=0, blue=0', 'index=200, red=0, green=0, blue=0', 'index=201, red=0, green=0, blue=0', 'index=202, red=0, green=0, blue=0', 'index=203, red=0, green=0, blue=0', 'index=204, red=0, green=0, blue=0', 'index=205, red=0, green=0, blue=0', 'index=206, red=0, green=0, blue=0', 'index=207, red=0, green=0, blue=0', 'index=208, red=0, green=0, blue=0', 'index=209, red=0, green=0, blue=0', 'index=210, red=0, green=0, blue=0', 'index=211, red=0, green=0, blue=0', 'index=212, red=0, green=0, blue=0', 'index=213, red=0, green=0, blue=0', 'index=214, red=0, green=0, blue=0', 'index=215, red=0, green=0, blue=0', 'index=216, red=0, green=0, blue=0', 'index=217, red=0, green=0, blue=0', 'index=218, red=0, green=0, blue=0', 'index=219, red=0, green=0, blue=0', 'index=220, red=0, green=0, blue=0', 'index=221, red=0, green=0, blue=0', 'index=222, red=0, green=0, blue=0', 'index=223, red=0, green=0, blue=0', 'index=224, red=0, green=0, blue=0', 'index=225, red=0, green=0, blue=0', 'index=226, red=0, green=0, blue=0', 'index=227, red=0, green=0, blue=0', 'index=228, red=0, green=0, blue=0', 'index=229, red=0, green=0, blue=0', 'index=230, red=0, green=0, blue=0', 'index=231, red=0, green=0, blue=0', 'index=232, red=0, green=0, blue=0', 'index=233, red=0, green=0, blue=0', 'index=234, red=0, green=0, blue=0', 'index=235, red=0, green=0, blue=0', 'index=236, red=0, green=0, blue=0', 'index=237, red=0, green=0, blue=0', 'index=238, red=0, green=0, blue=0', 'index=239, red=0, green=0, blue=0', 'index=240, red=0, green=0, blue=0', 'index=241, red=0, green=0, blue=0', 'index=242, red=0, green=0, blue=0', 'index=243, red=0, green=0, blue=0', 'index=244, red=0, green=0, blue=0', 'index=245, red=0, green=0, blue=0', 'index=246, red=0, green=0, blue=0', 'index=247, red=0, green=0, blue=0', 'index=248, red=0, green=0, blue=0', 'index=249, red=0, green=0, blue=0', 'index=250, red=0, green=0, blue=0', 'index=251, red=0, green=0, blue=0', 'index=252, red=0, green=0, blue=0', 'index=253, red=0, green=0, blue=0', 'index=254, red=0, green=0, blue=0', 'index=255, red=0, green=0, blue=0'], 'tiff:ImageLength': '144', 'Compression CompressionTypeName': 'deflate', 'Chroma Palette PaletteEntry': ['index=0, red=5, green=87, blue=141', 'index=1, red=6, green=89, blue=142', 'index=2, red=9, green=93, blue=145', 'index=3, red=12, green=98, blue=149', 'index=4, red=15, green=101, blue=152', 'index=5, red=25, green=98, blue=140', 'index=6, red=16, green=102, blue=153', 'index=7, red=19, green=107, blue=156', 'index=8, red=26, green=102, blue=144', 'index=9, red=28, green=106, blue=148', 'index=10, red=29, green=110, blue=152', 'index=11, red=30, green=113, blue=156', 'index=12, red=23, green=111, blue=160', 'index=13, red=26, green=115, blue=163', 'index=14, red=30, green=120, blue=166', 'index=15, red=30, green=121, blue=168', 'index=16, red=32, green=110, blue=150', 'index=17, red=32, green=110, blue=152', 'index=18, red=33, green=114, blue=156', 'index=19, red=33, green=118, blue=160', 'index=20, red=35, green=122, blue=164', 'index=21, red=33, green=125, blue=170', 'index=22, red=40, green=127, blue=168', 'index=23, red=36, green=128, blue=173', 'index=24, red=40, green=131, blue=173', 'index=25, red=38, green=131, blue=176', 'index=26, red=40, green=134, blue=178', 'index=27, red=43, green=138, blue=181', 'index=28, red=46, green=141, blue=184', 'index=29, red=50, green=146, blue=188', 'index=30, red=58, green=147, blue=187', 'index=31, red=61, green=152, blue=191', 'index=32, red=53, green=151, blue=192', 'index=33, red=54, green=152, blue=193', 'index=34, red=57, green=156, blue=196', 'index=35, red=60, green=160, blue=198', 'index=36, red=61, green=162, blue=201', 'index=37, red=65, green=149, blue=188', 'index=38, red=75, green=145, blue=183', 'index=39, red=77, green=148, blue=185', 'index=40, red=80, green=151, blue=187', 'index=41, red=82, green=154, blue=189', 'index=42, red=66, green=157, blue=195', 'index=43, red=86, green=158, blue=193', 'index=44, red=68, green=160, blue=198', 'index=45, red=64, green=165, blue=203', 'index=46, red=67, green=168, blue=206', 'index=47, red=73, green=161, blue=198', 'index=48, red=75, green=165, blue=201', 'index=49, red=76, green=169, blue=205', 'index=50, red=69, green=172, blue=209', 'index=51, red=72, green=174, blue=210', 'index=52, red=73, green=178, blue=213', 'index=53, red=76, green=181, blue=216', 'index=54, red=78, green=184, blue=218', 'index=55, red=85, green=163, blue=197', 'index=56, red=81, green=165, blue=200', 'index=57, red=82, green=171, blue=205', 'index=58, red=91, green=163, blue=197', 'index=59, red=89, green=166, blue=200', 'index=60, red=91, green=171, blue=204', 'index=61, red=83, green=174, blue=208', 'index=62, red=90, green=175, blue=208', 'index=63, red=83, green=178, blue=212', 'index=64, red=81, green=182, blue=216', 'index=65, red=81, green=187, blue=221', 'index=66, red=91, green=179, blue=211', 'index=67, red=89, green=183, blue=216', 'index=68, red=92, green=186, blue=218', 'index=69, red=84, green=191, blue=224', 'index=70, red=98, green=171, blue=203', 'index=71, red=100, green=176, blue=207', 'index=72, red=99, green=179, blue=210', 'index=73, red=99, green=184, blue=215', 'index=74, red=99, green=188, blue=218', 'index=75, red=106, green=181, blue=211', 'index=76, red=107, green=184, blue=213', 'index=77, red=108, green=189, blue=218', 'index=78, red=117, green=178, blue=206', 'index=79, red=116, green=182, blue=210', 'index=80, red=116, green=185, blue=213', 'index=81, red=114, green=189, blue=217', 'index=82, red=120, green=181, blue=208', 'index=83, red=121, green=186, blue=213', 'index=84, red=122, green=190, blue=216', 'index=85, red=85, green=193, blue=225', 'index=86, red=88, green=197, blue=229', 'index=87, red=91, green=200, blue=230', 'index=88, red=92, green=203, blue=233', 'index=89, red=100, green=192, blue=222', 'index=90, red=107, green=192, blue=221', 'index=91, red=114, green=194, blue=221', 'index=92, red=123, green=194, blue=220', 'index=93, red=101, green=196, blue=225', 'index=94, red=99, green=200, blue=229', 'index=95, red=96, green=206, blue=236', 'index=96, red=105, green=197, blue=226', 'index=97, red=107, green=201, blue=229', 'index=98, red=108, green=205, blue=232', 'index=99, red=97, green=209, blue=238', 'index=100, red=107, green=210, blue=237', 'index=101, red=116, green=197, blue=224', 'index=102, red=117, green=202, blue=229', 'index=103, red=112, green=206, blue=233', 'index=104, red=123, green=198, blue=224', 'index=105, red=124, green=202, blue=228', 'index=106, red=120, green=206, blue=232', 'index=107, red=114, green=210, blue=237', 'index=108, red=123, green=211, blue=236', 'index=109, red=116, green=214, blue=240', 'index=110, red=123, green=214, blue=240', 'index=111, red=125, green=217, blue=240', 'index=112, red=129, green=190, blue=215', 'index=113, red=129, green=191, blue=217', 'index=114, red=131, green=195, blue=219', 'index=115, red=139, green=196, blue=219', 'index=116, red=139, green=200, blue=222', 'index=117, red=144, green=198, blue=220', 'index=118, red=146, green=200, blue=222', 'index=119, red=153, green=198, blue=219', 'index=120, red=153, green=202, blue=222', 'index=121, red=131, green=201, blue=226', 'index=122, red=128, green=207, blue=232', 'index=123, red=141, green=203, blue=225', 'index=124, red=129, green=211, blue=235', 'index=125, red=131, green=216, blue=239', 'index=126, red=129, green=218, blue=241', 'index=127, red=137, green=221, blue=242', 'index=128, red=147, green=205, blue=226', 'index=129, red=154, green=206, blue=226', 'index=130, red=147, green=209, blue=230', 'index=131, red=149, green=212, blue=233', 'index=132, red=155, green=210, blue=229', 'index=133, red=158, green=213, blue=232', 'index=134, red=147, green=224, blue=244', 'index=135, red=161, green=207, blue=226', 'index=136, red=163, green=211, blue=229', 'index=137, red=164, green=214, blue=232', 'index=138, red=163, green=216, blue=233', 'index=139, red=171, green=213, blue=229', 'index=140, red=169, green=215, blue=232', 'index=141, red=171, green=217, blue=233', 'index=142, red=178, green=213, blue=229', 'index=143, red=181, green=216, blue=230', 'index=144, red=179, green=219, blue=234', 'index=145, red=185, green=220, blue=234', 'index=146, red=175, green=232, blue=246', 'index=147, red=183, green=224, blue=238', 'index=148, red=188, green=224, blue=237', 'index=149, red=176, green=232, blue=247', 'index=150, red=191, green=227, blue=240', 'index=151, red=195, green=223, blue=235', 'index=152, red=194, green=225, blue=237', 'index=153, red=201, green=227, blue=237', 'index=154, red=196, green=229, blue=240', 'index=155, red=199, green=232, blue=242', 'index=156, red=203, green=230, blue=240', 'index=157, red=203, green=234, blue=243', 'index=158, red=206, green=239, blue=248', 'index=159, red=205, green=240, blue=248', 'index=160, red=208, green=231, blue=240', 'index=161, red=210, green=234, blue=243', 'index=162, red=210, green=239, blue=248', 'index=163, red=219, green=237, blue=244', 'index=164, red=211, green=241, blue=249', 'index=165, red=222, green=240, blue=246', 'index=166, red=224, green=238, blue=244', 'index=167, red=227, green=241, blue=246', 'index=168, red=229, green=243, blue=248', 'index=169, red=232, green=243, blue=247', 'index=170, red=236, green=245, blue=249', 'index=171, red=240, green=247, blue=250', 'index=172, red=242, green=249, blue=251', 'index=173, red=250, green=252, blue=253', 'index=174, red=0, green=0, blue=0', 'index=175, red=255, green=255, blue=255', 'index=176, red=0, green=0, blue=0', 'index=177, red=0, green=0, blue=0', 'index=178, red=0, green=0, blue=0', 'index=179, red=0, green=0, blue=0', 'index=180, red=0, green=0, blue=0', 'index=181, red=0, green=0, blue=0', 'index=182, red=0, green=0, blue=0', 'index=183, red=0, green=0, blue=0', 'index=184, red=0, green=0, blue=0', 'index=185, red=0, green=0, blue=0', 'index=186, red=0, green=0, blue=0', 'index=187, red=0, green=0, blue=0', 'index=188, red=0, green=0, blue=0', 'index=189, red=0, green=0, blue=0', 'index=190, red=0, green=0, blue=0', 'index=191, red=0, green=0, blue=0', 'index=192, red=0, green=0, blue=0', 'index=193, red=0, green=0, blue=0', 'index=194, red=0, green=0, blue=0', 'index=195, red=0, green=0, blue=0', 'index=196, red=0, green=0, blue=0', 'index=197, red=0, green=0, blue=0', 'index=198, red=0, green=0, blue=0', 'index=199, red=0, green=0, blue=0', 'index=200, red=0, green=0, blue=0', 'index=201, red=0, green=0, blue=0', 'index=202, red=0, green=0, blue=0', 'index=203, red=0, green=0, blue=0', 'index=204, red=0, green=0, blue=0', 'index=205, red=0, green=0, blue=0', 'index=206, red=0, green=0, blue=0', 'index=207, red=0, green=0, blue=0', 'index=208, red=0, green=0, blue=0', 'index=209, red=0, green=0, blue=0', 'index=210, red=0, green=0, blue=0', 'index=211, red=0, green=0, blue=0', 'index=212, red=0, green=0, blue=0', 'index=213, red=0, green=0, blue=0', 'index=214, red=0, green=0, blue=0', 'index=215, red=0, green=0, blue=0', 'index=216, red=0, green=0, blue=0', 'index=217, red=0, green=0, blue=0', 'index=218, red=0, green=0, blue=0', 'index=219, red=0, green=0, blue=0', 'index=220, red=0, green=0, blue=0', 'index=221, red=0, green=0, blue=0', 'index=222, red=0, green=0, blue=0', 'index=223, red=0, green=0, blue=0', 'index=224, red=0, green=0, blue=0', 'index=225, red=0, green=0, blue=0', 'index=226, red=0, green=0, blue=0', 'index=227, red=0, green=0, blue=0', 'index=228, red=0, green=0, blue=0', 'index=229, red=0, green=0, blue=0', 'index=230, red=0, green=0, blue=0', 'index=231, red=0, green=0, blue=0', 'index=232, red=0, green=0, blue=0', 'index=233, red=0, green=0, blue=0', 'index=234, red=0, green=0, blue=0', 'index=235, red=0, green=0, blue=0', 'index=236, red=0, green=0, blue=0', 'index=237, red=0, green=0, blue=0', 'index=238, red=0, green=0, blue=0', 'index=239, red=0, green=0, blue=0', 'index=240, red=0, green=0, blue=0', 'index=241, red=0, green=0, blue=0', 'index=242, red=0, green=0, blue=0', 'index=243, red=0, green=0, blue=0', 'index=244, red=0, green=0, blue=0', 'index=245, red=0, green=0, blue=0', 'index=246, red=0, green=0, blue=0', 'index=247, red=0, green=0, blue=0', 'index=248, red=0, green=0, blue=0', 'index=249, red=0, green=0, blue=0', 'index=250, red=0, green=0, blue=0', 'index=251, red=0, green=0, blue=0', 'index=252, red=0, green=0, blue=0', 'index=253, red=0, green=0, blue=0', 'index=254, red=0, green=0, blue=0', 'index=255, red=0, green=0, blue=0'], 'Data BitsPerSample': '8 8 8', 'Data PlanarConfiguration': 'PixelInterleaved', 'IHDR': 'width=256, height=144, bitDepth=8, colorType=Palette, compressionMethod=deflate, filterMethod=adaptive, interlaceMethod=none', 'embeddedResourceType': 'THUMBNAIL', 'Chroma ColorSpaceType': 'RGB', 'tiff:BitsPerSample': '8 8 8', 'height': '144', 'Dimension PixelAspectRatio': '1.0', 'Compression NumProgressiveScans': '1', 'Chroma BlackIsZero': 'true', 'Compression Lossless': 'true', 'width': '256', 'Dimension ImageOrientation': 'Normal', 'X-TIKA:embedded_resource_path': '/thumbnail.png', 'tiff:ImageWidth': '256', 'Chroma NumChannels': '3', 'Data SampleFormat': 'Index'}\n"
     ]
    }
   ],
   "source": [
    "print(parsed[\"metadata\"]) #To get the meta data of the file"
   ]
  },
  {
   "cell_type": "code",
   "execution_count": 10,
   "id": "ea0cff10-9e7f-4b90-9995-3ec545f2fec6",
   "metadata": {},
   "outputs": [
    {
     "name": "stdout",
     "output_type": "stream",
     "text": [
      "\n",
      "\n",
      "\n",
      "\n",
      "\n",
      "\n",
      "\n",
      "\n",
      "\n",
      "\n",
      "\n",
      "\n",
      "\n",
      "\n",
      "EXTRAÇÃO DE DADOS\n",
      "DE SLIDES\n",
      "\n",
      "Orientador: Kézia\n",
      "Aluno: Luiz Carlos de Lemos\n",
      "\n",
      "\n",
      "1. INTRODUÇÃO\n",
      "\n",
      "\tExtração de Dados [PPTX]\n",
      "\n",
      "\n",
      "\n",
      "\t\tExtrair dados textuais de slides;\n",
      "\n",
      "\tComparar com ferramentas existentes;\n",
      "\n",
      "\tRealizar o processor inverso:\n",
      "\n",
      "\n",
      "\n",
      "\n",
      "\t\t\tCriar slides a partir de dados fornecidos.\n",
      "\n",
      "\n",
      "\n",
      "\n",
      "\n",
      "\n",
      "\n",
      "\n",
      "\n",
      "\n",
      "\n",
      "\n",
      "\n",
      "\n",
      "\n",
      "\n",
      "\n",
      "\n",
      "\n",
      "\n",
      "\n",
      "\n",
      "\n",
      "\n",
      "\n",
      "\n",
      "\n",
      "\n",
      "\n",
      "\n",
      "\n",
      "\n",
      "\n",
      "\n",
      "\n",
      "\n",
      "\n",
      "\n",
      "\n",
      "\n",
      "\n",
      "\n",
      "\n",
      "\n",
      "\n",
      "\n",
      "\n",
      "\n",
      "\n",
      "\n",
      "\n",
      "\n",
      "\n",
      "\n",
      "\n",
      "\n",
      "\n",
      "\n",
      "\n",
      "\n",
      "\n",
      "\n",
      "\n",
      "\n",
      "\n",
      "\n"
     ]
    }
   ],
   "source": [
    "print(parsed[\"content\"]) # To get the content of the file"
   ]
  },
  {
   "cell_type": "code",
   "execution_count": null,
   "id": "b6ede5c6-5b6d-4377-a84f-5a115510342e",
   "metadata": {},
   "outputs": [],
   "source": []
  }
 ],
 "metadata": {
  "kernelspec": {
   "display_name": "Python 3 (ipykernel)",
   "language": "python",
   "name": "python3"
  },
  "language_info": {
   "codemirror_mode": {
    "name": "ipython",
    "version": 3
   },
   "file_extension": ".py",
   "mimetype": "text/x-python",
   "name": "python",
   "nbconvert_exporter": "python",
   "pygments_lexer": "ipython3",
   "version": "3.9.1"
  }
 },
 "nbformat": 4,
 "nbformat_minor": 5
}
