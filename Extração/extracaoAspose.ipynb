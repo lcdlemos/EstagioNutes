{
 "cells": [
  {
   "cell_type": "code",
   "execution_count": 1,
   "id": "13902208-2d07-477a-b778-5d2b47864d82",
   "metadata": {},
   "outputs": [],
   "source": [
    "import aspose.slides as slides"
   ]
  },
  {
   "cell_type": "code",
   "execution_count": 3,
   "id": "d2fa5204-81af-4610-95ca-3c316b52bb4b",
   "metadata": {},
   "outputs": [],
   "source": [
    "# Coletar texto da apresentação"
   ]
  },
  {
   "cell_type": "code",
   "execution_count": 9,
   "id": "d70ac030-6186-4ce5-a129-ec465024ba30",
   "metadata": {},
   "outputs": [],
   "source": [
    "text = slides.PresentationFactory().get_presentation_text(\"apresentacao.ppt\", slides.TextExtractionArrangingMode.UNARRANGED)"
   ]
  },
  {
   "cell_type": "code",
   "execution_count": 10,
   "id": "2e0c29b2-4ac9-4fc9-bafa-2070e169c90b",
   "metadata": {},
   "outputs": [],
   "source": [
    "# Exibir texto extraído usando index"
   ]
  },
  {
   "cell_type": "code",
   "execution_count": 11,
   "id": "a702ad64-f47f-427f-8c06-8c68ec8f868a",
   "metadata": {},
   "outputs": [
    {
     "name": "stdout",
     "output_type": "stream",
     "text": [
      "EXTRA... text has been truncated due to evaluation version limitation.\n",
      "Orien... text has been truncated due to evaluation version limitation.\n",
      "\n"
     ]
    }
   ],
   "source": [
    "print(text.slides_text[0].text)"
   ]
  },
  {
   "cell_type": "code",
   "execution_count": 12,
   "id": "6adaeead-8e00-4d0f-bda4-a8dc8abbbdb2",
   "metadata": {},
   "outputs": [
    {
     "name": "stdout",
     "output_type": "stream",
     "text": [
      "None\n"
     ]
    }
   ],
   "source": [
    "print(text.slides_text[0].layout_text)"
   ]
  },
  {
   "cell_type": "code",
   "execution_count": 13,
   "id": "ecbe5cf8-64f9-4536-9a4d-deb28b8de790",
   "metadata": {},
   "outputs": [
    {
     "name": "stdout",
     "output_type": "stream",
     "text": [
      "Cliqu... text has been truncated due to evaluation version limitation.\n",
      "Cliqu... text has been truncated due to evaluation version limitation.\n",
      "*\n",
      "*\n",
      "\n"
     ]
    }
   ],
   "source": [
    "print(text.slides_text[0].master_text)"
   ]
  },
  {
   "cell_type": "code",
   "execution_count": 14,
   "id": "4c7ff3fd-6143-428a-95ee-fea3c9778b74",
   "metadata": {},
   "outputs": [
    {
     "name": "stdout",
     "output_type": "stream",
     "text": [
      "None\n"
     ]
    }
   ],
   "source": [
    "print(text.slides_text[0].notes_text)"
   ]
  },
  {
   "cell_type": "code",
   "execution_count": null,
   "id": "6263eb0a-a34c-49a0-bbe8-7ccafe36eadc",
   "metadata": {},
   "outputs": [],
   "source": []
  }
 ],
 "metadata": {
  "kernelspec": {
   "display_name": "Python 3 (ipykernel)",
   "language": "python",
   "name": "python3"
  },
  "language_info": {
   "codemirror_mode": {
    "name": "ipython",
    "version": 3
   },
   "file_extension": ".py",
   "mimetype": "text/x-python",
   "name": "python",
   "nbconvert_exporter": "python",
   "pygments_lexer": "ipython3",
   "version": "3.9.1"
  }
 },
 "nbformat": 4,
 "nbformat_minor": 5
}
