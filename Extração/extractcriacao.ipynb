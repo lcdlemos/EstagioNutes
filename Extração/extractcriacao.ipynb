{
 "cells": [
  {
   "cell_type": "code",
   "execution_count": 1,
   "id": "ca7483d1-5967-42d3-a3bd-c71259d0a74c",
   "metadata": {},
   "outputs": [],
   "source": [
    "# Importando Classe Presentation da Biblioteca pptx\n",
    "from pptx import Presentation"
   ]
  },
  {
   "cell_type": "markdown",
   "id": "2651817e-5432-48ae-800f-354e1aeb0e55",
   "metadata": {},
   "source": [
    "# Criação_Apresentação"
   ]
  },
  {
   "cell_type": "code",
   "execution_count": 2,
   "id": "7b55f83b-29e2-422e-8b4c-7dd7668a7ccd",
   "metadata": {},
   "outputs": [],
   "source": [
    "# Criando um Objeto\n",
    "A = Presentation(\"criacao_apresentacao.pptx\")"
   ]
  },
  {
   "cell_type": "code",
   "execution_count": 3,
   "id": "3e199ff8-e0de-43ff-a46a-70f5bb589a27",
   "metadata": {},
   "outputs": [],
   "source": [
    "# Criando Arquivo de Texto no Modo Escrita\n",
    "apresentacao_texto = open(\"extracao_criacao_apresentacao_pptx.txt\", \"w\")"
   ]
  },
  {
   "cell_type": "code",
   "execution_count": 4,
   "id": "621867a4-505d-401a-9a62-cfaeaba16447",
   "metadata": {},
   "outputs": [],
   "source": [
    "# Transcrever da Apresentação para o Texto \n",
    "for slide in A.slides:\n",
    "    for shape in slide.shapes:  \n",
    "        if not shape.has_text_frame:  \n",
    "            continue \n",
    "        for paragraph in shape.text_frame.paragraphs:  \n",
    "            for run in paragraph.runs:  \n",
    "                apresentacao_texto.write(run.text)"
   ]
  },
  {
   "cell_type": "code",
   "execution_count": 5,
   "id": "28ece35b-d886-4a73-b18d-1de2e1c9861f",
   "metadata": {},
   "outputs": [],
   "source": [
    "# Fechando Arquivo txt                \n",
    "apresentacao_texto.close()"
   ]
  },
  {
   "cell_type": "markdown",
   "id": "2eb96134-0d5b-4f8e-a637-03d05618a836",
   "metadata": {},
   "source": [
    "# Apresentação_PPTX"
   ]
  },
  {
   "cell_type": "code",
   "execution_count": 6,
   "id": "c6db276a-7f3f-4ca4-bde9-9ba66568f7c6",
   "metadata": {},
   "outputs": [],
   "source": [
    "A = Presentation(\"apresentacao.pptx\")"
   ]
  },
  {
   "cell_type": "code",
   "execution_count": 7,
   "id": "be6116b1-48e3-4cf5-ab19-607268e7184d",
   "metadata": {},
   "outputs": [],
   "source": [
    "apresentacao_texto = open(\"extracao_apresentacao_pptx.txt\", \"w\")"
   ]
  },
  {
   "cell_type": "code",
   "execution_count": 8,
   "id": "34ea709b-7a1e-4aec-b9b3-980930e3fd1b",
   "metadata": {},
   "outputs": [],
   "source": [
    "for slide in A.slides:\n",
    "    for shape in slide.shapes:  \n",
    "        if not shape.has_text_frame:  \n",
    "            continue \n",
    "        for paragraph in shape.text_frame.paragraphs:  \n",
    "            for run in paragraph.runs:  \n",
    "                apresentacao_texto.write(run.text)"
   ]
  },
  {
   "cell_type": "code",
   "execution_count": 9,
   "id": "80aeb212-3042-489d-a121-a113dea76e92",
   "metadata": {},
   "outputs": [],
   "source": [
    "apresentacao_texto.close()"
   ]
  },
  {
   "cell_type": "code",
   "execution_count": null,
   "id": "5e59dd85-2e6e-4d8c-a253-0258b3883bcb",
   "metadata": {},
   "outputs": [],
   "source": []
  }
 ],
 "metadata": {
  "kernelspec": {
   "display_name": "Python 3 (ipykernel)",
   "language": "python",
   "name": "python3"
  },
  "language_info": {
   "codemirror_mode": {
    "name": "ipython",
    "version": 3
   },
   "file_extension": ".py",
   "mimetype": "text/x-python",
   "name": "python",
   "nbconvert_exporter": "python",
   "pygments_lexer": "ipython3",
   "version": "3.9.1"
  }
 },
 "nbformat": 4,
 "nbformat_minor": 5
}
